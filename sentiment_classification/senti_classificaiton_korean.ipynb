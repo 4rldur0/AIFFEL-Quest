{
 "cells": [
  {
   "cell_type": "markdown",
   "id": "884f0db5",
   "metadata": {},
   "source": [
    "## Dataset\n",
    "### Naver sentiment movie corpus 데이터 불러오기"
   ]
  },
  {
   "cell_type": "code",
   "execution_count": 1,
   "id": "cdbcb2b8",
   "metadata": {},
   "outputs": [
    {
     "data": {
      "text/html": [
       "<div>\n",
       "<style scoped>\n",
       "    .dataframe tbody tr th:only-of-type {\n",
       "        vertical-align: middle;\n",
       "    }\n",
       "\n",
       "    .dataframe tbody tr th {\n",
       "        vertical-align: top;\n",
       "    }\n",
       "\n",
       "    .dataframe thead th {\n",
       "        text-align: right;\n",
       "    }\n",
       "</style>\n",
       "<table border=\"1\" class=\"dataframe\">\n",
       "  <thead>\n",
       "    <tr style=\"text-align: right;\">\n",
       "      <th></th>\n",
       "      <th>id</th>\n",
       "      <th>document</th>\n",
       "      <th>label</th>\n",
       "    </tr>\n",
       "  </thead>\n",
       "  <tbody>\n",
       "    <tr>\n",
       "      <th>0</th>\n",
       "      <td>9976970</td>\n",
       "      <td>아 더빙.. 진짜 짜증나네요 목소리</td>\n",
       "      <td>0</td>\n",
       "    </tr>\n",
       "    <tr>\n",
       "      <th>1</th>\n",
       "      <td>3819312</td>\n",
       "      <td>흠...포스터보고 초딩영화줄....오버연기조차 가볍지 않구나</td>\n",
       "      <td>1</td>\n",
       "    </tr>\n",
       "    <tr>\n",
       "      <th>2</th>\n",
       "      <td>10265843</td>\n",
       "      <td>너무재밓었다그래서보는것을추천한다</td>\n",
       "      <td>0</td>\n",
       "    </tr>\n",
       "    <tr>\n",
       "      <th>3</th>\n",
       "      <td>9045019</td>\n",
       "      <td>교도소 이야기구먼 ..솔직히 재미는 없다..평점 조정</td>\n",
       "      <td>0</td>\n",
       "    </tr>\n",
       "    <tr>\n",
       "      <th>4</th>\n",
       "      <td>6483659</td>\n",
       "      <td>사이몬페그의 익살스런 연기가 돋보였던 영화!스파이더맨에서 늙어보이기만 했던 커스틴 ...</td>\n",
       "      <td>1</td>\n",
       "    </tr>\n",
       "  </tbody>\n",
       "</table>\n",
       "</div>"
      ],
      "text/plain": [
       "         id                                           document  label\n",
       "0   9976970                                아 더빙.. 진짜 짜증나네요 목소리      0\n",
       "1   3819312                  흠...포스터보고 초딩영화줄....오버연기조차 가볍지 않구나      1\n",
       "2  10265843                                  너무재밓었다그래서보는것을추천한다      0\n",
       "3   9045019                      교도소 이야기구먼 ..솔직히 재미는 없다..평점 조정      0\n",
       "4   6483659  사이몬페그의 익살스런 연기가 돋보였던 영화!스파이더맨에서 늙어보이기만 했던 커스틴 ...      1"
      ]
     },
     "execution_count": 1,
     "metadata": {},
     "output_type": "execute_result"
    }
   ],
   "source": [
    "import pandas as pd\n",
    "\n",
    "# 데이터를 읽어봅시다. \n",
    "train_data = pd.read_table('~/aiffel/sentiment_classification/data/ratings_train.txt')\n",
    "test_data = pd.read_table('~/aiffel/sentiment_classification/data/ratings_test.txt')\n",
    "\n",
    "train_data.head()"
   ]
  },
  {
   "cell_type": "code",
   "execution_count": 2,
   "id": "e02fa8c1",
   "metadata": {},
   "outputs": [
    {
     "data": {
      "text/html": [
       "<div>\n",
       "<style scoped>\n",
       "    .dataframe tbody tr th:only-of-type {\n",
       "        vertical-align: middle;\n",
       "    }\n",
       "\n",
       "    .dataframe tbody tr th {\n",
       "        vertical-align: top;\n",
       "    }\n",
       "\n",
       "    .dataframe thead th {\n",
       "        text-align: right;\n",
       "    }\n",
       "</style>\n",
       "<table border=\"1\" class=\"dataframe\">\n",
       "  <thead>\n",
       "    <tr style=\"text-align: right;\">\n",
       "      <th></th>\n",
       "      <th>id</th>\n",
       "      <th>document</th>\n",
       "      <th>label</th>\n",
       "    </tr>\n",
       "  </thead>\n",
       "  <tbody>\n",
       "    <tr>\n",
       "      <th>0</th>\n",
       "      <td>6270596</td>\n",
       "      <td>굳 ㅋ</td>\n",
       "      <td>1</td>\n",
       "    </tr>\n",
       "    <tr>\n",
       "      <th>1</th>\n",
       "      <td>9274899</td>\n",
       "      <td>GDNTOPCLASSINTHECLUB</td>\n",
       "      <td>0</td>\n",
       "    </tr>\n",
       "    <tr>\n",
       "      <th>2</th>\n",
       "      <td>8544678</td>\n",
       "      <td>뭐야 이 평점들은.... 나쁘진 않지만 10점 짜리는 더더욱 아니잖아</td>\n",
       "      <td>0</td>\n",
       "    </tr>\n",
       "    <tr>\n",
       "      <th>3</th>\n",
       "      <td>6825595</td>\n",
       "      <td>지루하지는 않은데 완전 막장임... 돈주고 보기에는....</td>\n",
       "      <td>0</td>\n",
       "    </tr>\n",
       "    <tr>\n",
       "      <th>4</th>\n",
       "      <td>6723715</td>\n",
       "      <td>3D만 아니었어도 별 다섯 개 줬을텐데.. 왜 3D로 나와서 제 심기를 불편하게 하죠??</td>\n",
       "      <td>0</td>\n",
       "    </tr>\n",
       "  </tbody>\n",
       "</table>\n",
       "</div>"
      ],
      "text/plain": [
       "        id                                           document  label\n",
       "0  6270596                                                굳 ㅋ      1\n",
       "1  9274899                               GDNTOPCLASSINTHECLUB      0\n",
       "2  8544678             뭐야 이 평점들은.... 나쁘진 않지만 10점 짜리는 더더욱 아니잖아      0\n",
       "3  6825595                   지루하지는 않은데 완전 막장임... 돈주고 보기에는....      0\n",
       "4  6723715  3D만 아니었어도 별 다섯 개 줬을텐데.. 왜 3D로 나와서 제 심기를 불편하게 하죠??      0"
      ]
     },
     "execution_count": 2,
     "metadata": {},
     "output_type": "execute_result"
    }
   ],
   "source": [
    "test_data.head()"
   ]
  },
  {
   "cell_type": "code",
   "execution_count": 3,
   "id": "0a2a9286",
   "metadata": {},
   "outputs": [
    {
     "name": "stdout",
     "output_type": "stream",
     "text": [
      "<class 'pandas.core.frame.DataFrame'>\n",
      "RangeIndex: 150000 entries, 0 to 149999\n",
      "Data columns (total 3 columns):\n",
      " #   Column    Non-Null Count   Dtype \n",
      "---  ------    --------------   ----- \n",
      " 0   id        150000 non-null  int64 \n",
      " 1   document  149995 non-null  object\n",
      " 2   label     150000 non-null  int64 \n",
      "dtypes: int64(2), object(1)\n",
      "memory usage: 3.4+ MB\n"
     ]
    }
   ],
   "source": [
    "train_data.info()"
   ]
  },
  {
   "cell_type": "markdown",
   "id": "4ebf7b8a",
   "metadata": {},
   "source": [
    "### 데이터 전처리, 토큰화, 사전 구성"
   ]
  },
  {
   "cell_type": "code",
   "execution_count": 4,
   "id": "1734aecf",
   "metadata": {},
   "outputs": [],
   "source": [
    "from konlpy.tag import Mecab\n",
    "import numpy as np\n",
    "from collections import Counter\n",
    "\n",
    "tokenizer = Mecab()\n",
    "stopwords = ['의','가','이','은','들','는','좀','잘','걍','과','도','를','으로','자','에','와','한','하다']\n",
    "\n",
    "def load_data(train_data, test_data):\n",
    "    # 중복 제거\n",
    "    train_data.drop_duplicates(subset=['document'], inplace=True)\n",
    "    test_data.drop_duplicates(subset=['document'], inplace=True)\n",
    "    # 결측치 제거\n",
    "    train_data = train_data.dropna(how = 'any') \n",
    "    test_data = test_data.dropna(how = 'any')\n",
    "    # 한글 외 문자 제거\n",
    "    #train_data['document'] = train_data['document'].str.replace(\"[^ㄱ-ㅎㅏ-ㅣ가-힣 ]\",\"\")\n",
    "    #test_data['document'] = test_data['document'].str.replace(\"[^ㄱ-ㅎㅏ-ㅣ가-힣 ]\",\"\")\n",
    "    # 토큰화\n",
    "    X_train = []\n",
    "    for sentence in train_data['document']:\n",
    "        temp_X = tokenizer.morphs(sentence)\n",
    "        temp_X = [word for word in temp_X if not word in stopwords] # 불용어 제거\n",
    "        X_train.append(temp_X)\n",
    "    X_test = []\n",
    "    for sentence in test_data['document']:\n",
    "        temp_X = tokenizer.morphs(sentence)\n",
    "        temp_X = [word for word in temp_X if not word in stopwords] # 불용어 제거\n",
    "        X_test.append(temp_X)\n",
    "    # 사전 구성\n",
    "    words = np.concatenate(X_train).tolist()\n",
    "    counter = Counter(words)\n",
    "    counter = counter.most_common(10000-4)    # 가장 빈도수 높은 9996개 토큰\n",
    "    vocab = ['', '', '', ''] + [key for key, _ in counter]\n",
    "    word_to_index = {word:index for index, word in enumerate(vocab)}\n",
    "        \n",
    "    word_to_index[\"<PAD>\"] = 0\n",
    "    word_to_index[\"<BOS>\"] = 1\n",
    "    word_to_index[\"<UNK>\"] = 2  # unknown\n",
    "    word_to_index[\"<UNUSED>\"] = 3\n",
    "    word_to_index.pop(\"\", None)\n",
    "    \n",
    "    return X_train, np.array(list(train_data['label'])), X_test, np.array(list(test_data['label'])), word_to_index\n",
    "    \n",
    "X_train, y_train, X_test, y_test, word_to_index = load_data(train_data, test_data)"
   ]
  },
  {
   "cell_type": "code",
   "execution_count": 5,
   "id": "db57be50",
   "metadata": {},
   "outputs": [
    {
     "data": {
      "text/plain": [
       "[['아', '더', '빙', '.', '.', '진짜', '짜증', '나', '네요', '목소리'],\n",
       " ['흠',\n",
       "  '.',\n",
       "  '..',\n",
       "  '포스터',\n",
       "  '보고',\n",
       "  '초딩',\n",
       "  '영화',\n",
       "  '줄',\n",
       "  '.',\n",
       "  '...',\n",
       "  '오버',\n",
       "  '연기',\n",
       "  '조차',\n",
       "  '가볍',\n",
       "  '지',\n",
       "  '않',\n",
       "  '구나'],\n",
       " ['너무', '재', '밓었다그래서보는것을추천한다']]"
      ]
     },
     "execution_count": 5,
     "metadata": {},
     "output_type": "execute_result"
    }
   ],
   "source": [
    "X_train[:3]"
   ]
  },
  {
   "cell_type": "code",
   "execution_count": 6,
   "id": "67ffede3",
   "metadata": {},
   "outputs": [
    {
     "data": {
      "text/plain": [
       "625"
      ]
     },
     "execution_count": 6,
     "metadata": {},
     "output_type": "execute_result"
    }
   ],
   "source": [
    "word_to_index['너']"
   ]
  },
  {
   "cell_type": "code",
   "execution_count": 7,
   "id": "11fea093",
   "metadata": {},
   "outputs": [
    {
     "data": {
      "text/plain": [
       "10000"
      ]
     },
     "execution_count": 7,
     "metadata": {},
     "output_type": "execute_result"
    }
   ],
   "source": [
    "len(word_to_index)"
   ]
  },
  {
   "cell_type": "code",
   "execution_count": 8,
   "id": "21bc57aa",
   "metadata": {},
   "outputs": [],
   "source": [
    "index_to_word = {index:word for word, index in word_to_index.items()}"
   ]
  },
  {
   "cell_type": "markdown",
   "id": "81005da6",
   "metadata": {},
   "source": [
    "### 인코딩"
   ]
  },
  {
   "cell_type": "code",
   "execution_count": 9,
   "id": "99040a48",
   "metadata": {},
   "outputs": [],
   "source": [
    "# 문장 1개를 활용할 딕셔너리와 함께 주면, 단어 인덱스 리스트 벡터로 변환해 주는 함수입니다. \n",
    "# 단, 모든 문장은 <BOS>로 시작하는 것으로 합니다. \n",
    "def get_encoded_sentence(sentence, word_to_index):\n",
    "    return [word_to_index['<BOS>']]+[word_to_index[word] if word in word_to_index else word_to_index['<UNK>'] for word in sentence]\n",
    "\n",
    "# 여러 개의 문장 리스트를 한꺼번에 단어 인덱스 리스트 벡터로 encode해 주는 함수입니다. \n",
    "def get_encoded_sentences(sentences, word_to_index):\n",
    "    return [get_encoded_sentence(sentence, word_to_index) for sentence in sentences]\n",
    "\n",
    "# 숫자 벡터로 encode된 문장을 원래대로 decode하는 함수입니다. \n",
    "def get_decoded_sentence(encoded_sentence, index_to_word):\n",
    "    return ' '.join(index_to_word[index] if index in index_to_word else '<UNK>' for index in encoded_sentence[1:])  #[1:]를 통해 <BOS>를 제외\n",
    "\n",
    "# 여러 개의 숫자 벡터로 encode된 문장을 한꺼번에 원래대로 decode하는 함수입니다. \n",
    "def get_decoded_sentences(encoded_sentences, index_to_word):\n",
    "    return [get_decoded_sentence(encoded_sentence, index_to_word) for encoded_sentence in encoded_sentences]"
   ]
  },
  {
   "cell_type": "code",
   "execution_count": 10,
   "id": "19d09cb4",
   "metadata": {},
   "outputs": [],
   "source": [
    "encoded_X_train = get_encoded_sentences(X_train, word_to_index)\n",
    "encoded_X_test = get_encoded_sentences(X_test, word_to_index)"
   ]
  },
  {
   "cell_type": "code",
   "execution_count": 11,
   "id": "40b81138",
   "metadata": {},
   "outputs": [
    {
     "data": {
      "text/plain": [
       "[[1, 32, 74, 919, 4, 4, 39, 228, 20, 33, 748],\n",
       " [1,\n",
       "  1028,\n",
       "  4,\n",
       "  11,\n",
       "  519,\n",
       "  549,\n",
       "  687,\n",
       "  5,\n",
       "  120,\n",
       "  4,\n",
       "  70,\n",
       "  1639,\n",
       "  52,\n",
       "  925,\n",
       "  1006,\n",
       "  15,\n",
       "  44,\n",
       "  391],\n",
       " [1, 24, 205, 2]]"
      ]
     },
     "execution_count": 11,
     "metadata": {},
     "output_type": "execute_result"
    }
   ],
   "source": [
    "encoded_X_train[:3]"
   ]
  },
  {
   "cell_type": "markdown",
   "id": "77a033d3",
   "metadata": {},
   "source": [
    "#### 문장 길이 통일"
   ]
  },
  {
   "cell_type": "code",
   "execution_count": 12,
   "id": "19b0141e",
   "metadata": {},
   "outputs": [
    {
     "name": "stdout",
     "output_type": "stream",
     "text": [
      "문장길이 평균 :  16.96940191154864\n",
      "문장길이 최대 :  117\n",
      "문장길이 표준편차 :  12.843571191092\n",
      "pad_sequences maxlen :  42\n",
      "전체 문장의 0.9342988343341575%가 maxlen 설정값 이내에 포함됩니다. \n"
     ]
    }
   ],
   "source": [
    "total_data_text = list(encoded_X_train) + list(encoded_X_test)\n",
    "# 텍스트데이터 문장길이의 리스트를 생성한 후\n",
    "num_tokens = [len(tokens) for tokens in total_data_text]\n",
    "num_tokens = np.array(num_tokens)\n",
    "# 문장길이의 평균값, 최대값, 표준편차를 계산해 본다. \n",
    "print('문장길이 평균 : ', np.mean(num_tokens))\n",
    "print('문장길이 최대 : ', np.max(num_tokens))\n",
    "print('문장길이 표준편차 : ', np.std(num_tokens))\n",
    "\n",
    "# 예를들어, 최대 길이를 (평균 + 2*표준편차)로 한다면,  \n",
    "max_tokens = np.mean(num_tokens) + 2 * np.std(num_tokens)\n",
    "maxlen = int(max_tokens)\n",
    "print('pad_sequences maxlen : ', maxlen)\n",
    "print(f'전체 문장의 {np.sum(num_tokens < max_tokens) / len(num_tokens)}%가 maxlen 설정값 이내에 포함됩니다. ')"
   ]
  },
  {
   "cell_type": "markdown",
   "id": "24928173",
   "metadata": {},
   "source": [
    "### 데이터셋 분리\n",
    "padding 위치에 따라 post, pre로 구분"
   ]
  },
  {
   "cell_type": "code",
   "execution_count": 13,
   "id": "247ccdbd",
   "metadata": {},
   "outputs": [
    {
     "name": "stdout",
     "output_type": "stream",
     "text": [
      "(146182, 42)\n",
      "(49157, 42)\n"
     ]
    }
   ],
   "source": [
    "import tensorflow as tf\n",
    "\n",
    "X_train_post = tf.keras.preprocessing.sequence.pad_sequences(encoded_X_train,\n",
    "                                                        value=word_to_index[\"<PAD>\"],\n",
    "                                                        padding='post', # 혹은 'pre'\n",
    "                                                        maxlen=maxlen)\n",
    "\n",
    "X_test_post = tf.keras.preprocessing.sequence.pad_sequences(encoded_X_test,\n",
    "                                                       value=word_to_index[\"<PAD>\"],\n",
    "                                                       padding='post', # 혹은 'pre'\n",
    "                                                       maxlen=maxlen)\n",
    "X_train_pre = tf.keras.preprocessing.sequence.pad_sequences(encoded_X_train,\n",
    "                                                        value=word_to_index[\"<PAD>\"],\n",
    "                                                        padding='post', # 혹은 'pre'\n",
    "                                                        maxlen=maxlen)\n",
    "\n",
    "X_test_pre = tf.keras.preprocessing.sequence.pad_sequences(encoded_X_test,\n",
    "                                                       value=word_to_index[\"<PAD>\"],\n",
    "                                                       padding='post', # 혹은 'pre'\n",
    "                                                       maxlen=maxlen)\n",
    "print(X_train_post.shape)\n",
    "print(X_test_post.shape)"
   ]
  },
  {
   "cell_type": "code",
   "execution_count": 14,
   "id": "cd3b8842",
   "metadata": {},
   "outputs": [
    {
     "name": "stdout",
     "output_type": "stream",
     "text": [
      "(141182, 42)\n",
      "(141182,)\n"
     ]
    }
   ],
   "source": [
    "# validation set 5000건 분리\n",
    "X_val_post = X_train_post[:5000]   \n",
    "X_val_pre = X_train_pre[:5000]   \n",
    "y_val = y_train[:5000]\n",
    "\n",
    "# validation set을 제외한 나머지\n",
    "X_train_post = X_train_post[5000:]  \n",
    "X_train_pre = X_train_pre[5000:]  \n",
    "y_train = y_train[5000:]\n",
    "\n",
    "print(X_train_pre.shape)\n",
    "print(y_train.shape)"
   ]
  },
  {
   "cell_type": "markdown",
   "id": "b5bccbca",
   "metadata": {},
   "source": [
    "## Training"
   ]
  },
  {
   "cell_type": "markdown",
   "id": "5f69740e",
   "metadata": {},
   "source": [
    "### 학습, 학습 결과 확인 함수 정의"
   ]
  },
  {
   "cell_type": "code",
   "execution_count": 15,
   "id": "5369efd9",
   "metadata": {},
   "outputs": [],
   "source": [
    "import matplotlib.pyplot as plt\n",
    "\n",
    "def train_model(model, epochs=20, \n",
    "                x_train=X_train_post, y_train=y_train, \n",
    "                x_val=X_val_post, y_val=y_val,\n",
    "                x_test=X_test_post, y_test=y_test,\n",
    "                use_callback=True,):\n",
    "    if use_callback:\n",
    "        callbacks_list = [\n",
    "        tf.keras.callbacks.EarlyStopping(\n",
    "            monitor=\"val_loss\",    # 검증 loss 모니터링\n",
    "            patience=3,    # 세 번의 에포크동안 정확도 향상되지 않으면 훈련 중지\n",
    "        )]\n",
    "    else:\n",
    "        callbacks_list = []\n",
    "    model.compile(optimizer='adam',\n",
    "                  loss='binary_crossentropy',\n",
    "                  metrics=['accuracy'])\n",
    "\n",
    "    history = model.fit(x_train,\n",
    "                        y_train,\n",
    "                        epochs=epochs,\n",
    "                        batch_size=512,\n",
    "                        callbacks=callbacks_list,\n",
    "                        validation_data=(x_val, y_val),\n",
    "                        verbose=1)\n",
    "    results = model.evaluate(x_test,  y_test, verbose=2)\n",
    "    history_dict = history.history\n",
    "    return history_dict\n",
    "\n",
    "def plot_result(history_dict):\n",
    "    acc = history_dict['accuracy']\n",
    "    val_acc = history_dict['val_accuracy']\n",
    "    loss = history_dict['loss']\n",
    "    val_loss = history_dict['val_loss']\n",
    "\n",
    "    epochs = range(1, len(acc) + 1)\n",
    "\n",
    "    fig, axs = plt.subplots(1,2)\n",
    "    axs[0].plot(epochs, loss, 'bo', label='Training loss')\n",
    "    axs[0].plot(epochs, val_loss, 'b', label='Validation loss')\n",
    "    axs[0].set_title('Training and validation loss')\n",
    "    axs[0].set_xlabel('Epochs')\n",
    "    axs[0].set_ylabel('Loss')\n",
    "    axs[0].legend()\n",
    "    axs[1].plot(epochs, acc, 'ro', label='Training accuracy')\n",
    "    axs[1].plot(epochs, val_acc, 'r', label='Validation accuracy')\n",
    "    axs[1].set_title('Training and validation accuracy')\n",
    "    axs[1].set_xlabel('Epochs')\n",
    "    axs[1].set_ylabel('accuracy')\n",
    "    axs[1].legend()\n",
    "    \n",
    "    plt.tight_layout()\n",
    "    plt.show()"
   ]
  },
  {
   "cell_type": "markdown",
   "id": "82c077ca",
   "metadata": {},
   "source": [
    "### 모델 생성"
   ]
  },
  {
   "cell_type": "markdown",
   "id": "8cc1b024",
   "metadata": {},
   "source": [
    "> 모델 선정 이유: 한국어 데이터셋과 IMDB 데이터셋 사이의 차이를 보고 싶어 학습 시 사용한 모델인 LSTM, GlobalMaxPooling1D, 1DConv를 사용했다.성능은 나쁘지 않았지만 과적합이 너무 빨리 일어나 드롭아웃을 추가하거나 층을 키우는 실험을 진행할 예정이다   \n",
    "\n",
    "\n",
    "> metrics 선정 이유: 긍/부정 이진 분류 문제이므로 정확도로 충분히 측정할 수 있다  \n",
    "\n",
    "\n",
    "> loss 선정 이유: 긍/부정 이진 분류 문제이므로 binary cross entropy loss가 적절하다"
   ]
  },
  {
   "cell_type": "code",
   "execution_count": 16,
   "id": "103e6702",
   "metadata": {},
   "outputs": [],
   "source": [
    "vocab_size = len(word_to_index)  # 어휘 사전의 크기\n",
    "word_vector_dim = 48   # 단어 하나를 표현하는 임베딩 벡터의 차원 수입니다. "
   ]
  },
  {
   "cell_type": "markdown",
   "id": "ae7c66c4",
   "metadata": {},
   "source": [
    "#### 1) LSTM"
   ]
  },
  {
   "cell_type": "code",
   "execution_count": 17,
   "id": "26d35b93",
   "metadata": {},
   "outputs": [
    {
     "name": "stdout",
     "output_type": "stream",
     "text": [
      "Model: \"sequential\"\n",
      "_________________________________________________________________\n",
      "Layer (type)                 Output Shape              Param #   \n",
      "=================================================================\n",
      "embedding (Embedding)        (None, None, 48)          480000    \n",
      "_________________________________________________________________\n",
      "lstm (LSTM)                  (None, 8)                 1824      \n",
      "_________________________________________________________________\n",
      "dense (Dense)                (None, 8)                 72        \n",
      "_________________________________________________________________\n",
      "dense_1 (Dense)              (None, 1)                 9         \n",
      "=================================================================\n",
      "Total params: 481,905\n",
      "Trainable params: 481,905\n",
      "Non-trainable params: 0\n",
      "_________________________________________________________________\n",
      "Epoch 1/20\n",
      "276/276 [==============================] - 5s 7ms/step - loss: 0.5217 - accuracy: 0.7324 - val_loss: 0.3645 - val_accuracy: 0.8484\n",
      "Epoch 2/20\n",
      "276/276 [==============================] - 1s 5ms/step - loss: 0.3413 - accuracy: 0.8566 - val_loss: 0.3324 - val_accuracy: 0.8588\n",
      "Epoch 3/20\n",
      "276/276 [==============================] - 1s 5ms/step - loss: 0.3141 - accuracy: 0.8678 - val_loss: 0.3370 - val_accuracy: 0.8572\n",
      "Epoch 4/20\n",
      "276/276 [==============================] - 1s 5ms/step - loss: 0.2985 - accuracy: 0.8741 - val_loss: 0.3288 - val_accuracy: 0.8610\n",
      "Epoch 5/20\n",
      "276/276 [==============================] - 1s 5ms/step - loss: 0.2844 - accuracy: 0.8798 - val_loss: 0.3279 - val_accuracy: 0.8594\n",
      "Epoch 6/20\n",
      "276/276 [==============================] - 1s 5ms/step - loss: 0.2690 - accuracy: 0.8857 - val_loss: 0.3304 - val_accuracy: 0.8600\n",
      "Epoch 7/20\n",
      "276/276 [==============================] - 1s 5ms/step - loss: 0.2538 - accuracy: 0.8928 - val_loss: 0.3325 - val_accuracy: 0.8640\n",
      "Epoch 8/20\n",
      "276/276 [==============================] - 1s 5ms/step - loss: 0.2390 - accuracy: 0.8986 - val_loss: 0.3529 - val_accuracy: 0.8602\n",
      "1537/1537 - 3s - loss: 0.3642 - accuracy: 0.8545\n"
     ]
    }
   ],
   "source": [
    "model = tf.keras.Sequential()\n",
    "model.add(tf.keras.layers.Embedding(vocab_size, word_vector_dim, input_shape=(None,)))\n",
    "model.add(tf.keras.layers.LSTM(8))   # 가장 널리 쓰이는 RNN인 LSTM 레이어를 사용하였습니다. 이때 LSTM state 벡터의 차원수는 8로 하였습니다. (변경 가능)\n",
    "model.add(tf.keras.layers.Dense(8, activation='relu'))\n",
    "model.add(tf.keras.layers.Dense(1, activation='sigmoid'))  # 최종 출력은 긍정/부정을 나타내는 1dim 입니다.\n",
    "\n",
    "model.summary()\n",
    "# LSTM은 RNN 계열이므로 앞쪽이 패딩인 데이터셋 선택\n",
    "history = train_model(model, x_train=X_train_pre, x_val=X_val_pre, x_test=X_test_pre)"
   ]
  },
  {
   "cell_type": "code",
   "execution_count": 18,
   "id": "cdf662f4",
   "metadata": {},
   "outputs": [
    {
     "data": {
      "image/png": "[encoded data removed]",
      "text/plain": [
       "<Figure size 432x288 with 2 Axes>"
      ]
     },
     "metadata": {
      "needs_background": "light"
     },
     "output_type": "display_data"
    }
   ],
   "source": [
    "plot_result(history)"
   ]
  },
  {
   "cell_type": "markdown",
   "id": "14499900",
   "metadata": {},
   "source": [
    "#### 2) GlobalMaxPooling1D"
   ]
  },
  {
   "cell_type": "code",
   "execution_count": 19,
   "id": "774ad6f7",
   "metadata": {},
   "outputs": [
    {
     "name": "stdout",
     "output_type": "stream",
     "text": [
      "Model: \"sequential_1\"\n",
      "_________________________________________________________________\n",
      "Layer (type)                 Output Shape              Param #   \n",
      "=================================================================\n",
      "embedding_1 (Embedding)      (None, None, 48)          480000    \n",
      "_________________________________________________________________\n",
      "global_max_pooling1d (Global (None, 48)                0         \n",
      "_________________________________________________________________\n",
      "dense_2 (Dense)              (None, 8)                 392       \n",
      "_________________________________________________________________\n",
      "dense_3 (Dense)              (None, 1)                 9         \n",
      "=================================================================\n",
      "Total params: 480,401\n",
      "Trainable params: 480,401\n",
      "Non-trainable params: 0\n",
      "_________________________________________________________________\n",
      "Epoch 1/20\n",
      "276/276 [==============================] - 1s 4ms/step - loss: 0.5095 - accuracy: 0.8008 - val_loss: 0.3566 - val_accuracy: 0.8462\n",
      "Epoch 2/20\n",
      "276/276 [==============================] - 1s 3ms/step - loss: 0.3336 - accuracy: 0.8577 - val_loss: 0.3319 - val_accuracy: 0.8582\n",
      "Epoch 3/20\n",
      "276/276 [==============================] - 1s 3ms/step - loss: 0.2933 - accuracy: 0.8778 - val_loss: 0.3315 - val_accuracy: 0.8614\n",
      "Epoch 4/20\n",
      "276/276 [==============================] - 1s 3ms/step - loss: 0.2650 - accuracy: 0.8917 - val_loss: 0.3361 - val_accuracy: 0.8600\n",
      "Epoch 5/20\n",
      "276/276 [==============================] - 1s 3ms/step - loss: 0.2402 - accuracy: 0.9039 - val_loss: 0.3483 - val_accuracy: 0.8592\n",
      "Epoch 6/20\n",
      "276/276 [==============================] - 1s 3ms/step - loss: 0.2175 - accuracy: 0.9146 - val_loss: 0.3624 - val_accuracy: 0.8572\n",
      "1537/1537 - 2s - loss: 0.3773 - accuracy: 0.8474\n"
     ]
    }
   ],
   "source": [
    "model = tf.keras.Sequential()\n",
    "model.add(tf.keras.layers.Embedding(vocab_size, word_vector_dim, input_shape=(None,)))\n",
    "model.add(tf.keras.layers.GlobalMaxPooling1D())\n",
    "model.add(tf.keras.layers.Dense(8, activation='relu'))\n",
    "model.add(tf.keras.layers.Dense(1, activation='sigmoid'))  # 최종 출력은 긍정/부정을 나타내는 1dim 입니다.\n",
    "\n",
    "model.summary()\n",
    "history = train_model(model)"
   ]
  },
  {
   "cell_type": "code",
   "execution_count": 20,
   "id": "64a86567",
   "metadata": {},
   "outputs": [
    {
     "data": {
      "image/png": "[encoded data removed]",
      "text/plain": [
       "<Figure size 432x288 with 2 Axes>"
      ]
     },
     "metadata": {
      "needs_background": "light"
     },
     "output_type": "display_data"
    }
   ],
   "source": [
    "plot_result(history)"
   ]
  },
  {
   "cell_type": "markdown",
   "id": "6f1bd9ab",
   "metadata": {},
   "source": [
    "#### 3) 1D CNN"
   ]
  },
  {
   "cell_type": "code",
   "execution_count": 21,
   "id": "d219a930",
   "metadata": {},
   "outputs": [
    {
     "name": "stdout",
     "output_type": "stream",
     "text": [
      "Model: \"sequential_2\"\n",
      "_________________________________________________________________\n",
      "Layer (type)                 Output Shape              Param #   \n",
      "=================================================================\n",
      "embedding_2 (Embedding)      (None, None, 48)          480000    \n",
      "_________________________________________________________________\n",
      "conv1d (Conv1D)              (None, None, 16)          2320      \n",
      "_________________________________________________________________\n",
      "max_pooling1d (MaxPooling1D) (None, None, 16)          0         \n",
      "_________________________________________________________________\n",
      "conv1d_1 (Conv1D)            (None, None, 16)          784       \n",
      "_________________________________________________________________\n",
      "global_max_pooling1d_1 (Glob (None, 16)                0         \n",
      "_________________________________________________________________\n",
      "dense_4 (Dense)              (None, 8)                 136       \n",
      "_________________________________________________________________\n",
      "dense_5 (Dense)              (None, 1)                 9         \n",
      "=================================================================\n",
      "Total params: 483,249\n",
      "Trainable params: 483,249\n",
      "Non-trainable params: 0\n",
      "_________________________________________________________________\n",
      "Epoch 1/20\n",
      "276/276 [==============================] - 4s 6ms/step - loss: 0.4481 - accuracy: 0.7914 - val_loss: 0.3271 - val_accuracy: 0.8546\n",
      "Epoch 2/20\n",
      "276/276 [==============================] - 1s 4ms/step - loss: 0.3049 - accuracy: 0.8717 - val_loss: 0.3182 - val_accuracy: 0.8624\n",
      "Epoch 3/20\n",
      "276/276 [==============================] - 1s 4ms/step - loss: 0.2671 - accuracy: 0.8912 - val_loss: 0.3205 - val_accuracy: 0.8624\n",
      "Epoch 4/20\n",
      "276/276 [==============================] - 1s 4ms/step - loss: 0.2342 - accuracy: 0.9078 - val_loss: 0.3310 - val_accuracy: 0.8624\n",
      "Epoch 5/20\n",
      "276/276 [==============================] - 1s 4ms/step - loss: 0.2001 - accuracy: 0.9249 - val_loss: 0.3548 - val_accuracy: 0.8576\n",
      "1537/1537 - 3s - loss: 0.3619 - accuracy: 0.8543\n"
     ]
    }
   ],
   "source": [
    "model = tf.keras.Sequential()\n",
    "model.add(tf.keras.layers.Embedding(vocab_size, word_vector_dim, input_shape=(None,)))\n",
    "model.add(tf.keras.layers.Conv1D(16, 3, activation='relu'))\n",
    "model.add(tf.keras.layers.MaxPooling1D(5))\n",
    "model.add(tf.keras.layers.Conv1D(16, 3, activation='relu'))\n",
    "model.add(tf.keras.layers.GlobalMaxPooling1D())\n",
    "model.add(tf.keras.layers.Dense(8, activation='relu'))\n",
    "model.add(tf.keras.layers.Dense(1, activation='sigmoid'))  # 최종 출력은 긍정/부정을 나타내는 1dim 입니다.\n",
    "\n",
    "model.summary()\n",
    "history = train_model(model)"
   ]
  },
  {
   "cell_type": "code",
   "execution_count": 22,
   "id": "ccad2175",
   "metadata": {},
   "outputs": [
    {
     "data": {
      "image/png": "[encoded data removed]",
      "text/plain": [
       "<Figure size 432x288 with 2 Axes>"
      ]
     },
     "metadata": {
      "needs_background": "light"
     },
     "output_type": "display_data"
    }
   ],
   "source": [
    "plot_result(history)"
   ]
  },
  {
   "cell_type": "markdown",
   "id": "e74ca76e",
   "metadata": {},
   "source": [
    "#### 4) 사전학습된 Word2Vec"
   ]
  },
  {
   "cell_type": "code",
   "execution_count": 23,
   "id": "743ce837",
   "metadata": {},
   "outputs": [],
   "source": [
    "import gensim\n",
    "from gensim.models.word2vec import Word2Vec"
   ]
  },
  {
   "cell_type": "markdown",
   "id": "058c9a76",
   "metadata": {},
   "source": [
    "자체학습한 임베딩"
   ]
  },
  {
   "cell_type": "code",
   "execution_count": 24,
   "id": "14555e2a",
   "metadata": {},
   "outputs": [
    {
     "data": {
      "text/plain": [
       "[('넌', 0.7587099671363831),\n",
       " ('얘', 0.7144545912742615),\n",
       " ('세끼', 0.6328579187393188),\n",
       " ('새끼', 0.6286671161651611),\n",
       " ('저걸', 0.6246347427368164),\n",
       " ('ㅉㅉㅉ', 0.6240550875663757),\n",
       " ('당해', 0.6228855848312378),\n",
       " ('똑바로', 0.6172676682472229),\n",
       " ('묵', 0.6111226081848145),\n",
       " ('늬', 0.6097153425216675)]"
      ]
     },
     "execution_count": 24,
     "metadata": {},
     "output_type": "execute_result"
    }
   ],
   "source": [
    "embedding_dim = 100\n",
    "\n",
    "\n",
    "model = Word2Vec(  \n",
    "    sentences = X_train,\n",
    "    window = 5,  \n",
    "    min_count = 5,  \n",
    "    workers = 4,  \n",
    "    sg = 0  \n",
    ")\n",
    "model.wv.most_similar(\"너\")"
   ]
  },
  {
   "cell_type": "markdown",
   "id": "9aacead3",
   "metadata": {},
   "source": [
    "사전학습 임베딩"
   ]
  },
  {
   "cell_type": "code",
   "execution_count": 25,
   "id": "06e6f447",
   "metadata": {},
   "outputs": [
    {
     "data": {
      "text/plain": [
       "[('제발', 0.729351282119751),\n",
       " ('아빠', 0.7095760703086853),\n",
       " ('그래', 0.7061144709587097),\n",
       " ('프레이야', 0.6787638068199158),\n",
       " ('당신', 0.6776760220527649),\n",
       " ('우린', 0.6711584329605103),\n",
       " ('넌', 0.6700929403305054),\n",
       " ('록크', 0.6657940745353699),\n",
       " ('그대', 0.6610890626907349),\n",
       " ('너희', 0.6481916308403015)]"
      ]
     },
     "execution_count": 25,
     "metadata": {},
     "output_type": "execute_result"
    }
   ],
   "source": [
    "ko_word2vec_path = '/aiffel/aiffel/sentiment_classification/models/word2vec_ko.model'\n",
    "ko_model = Word2Vec.load(ko_word2vec_path)\n",
    "ko_model.wv.most_similar(\"너\")"
   ]
  },
  {
   "cell_type": "code",
   "execution_count": 26,
   "id": "0fd8f840",
   "metadata": {},
   "outputs": [],
   "source": [
    "# 앞에서 학습했던 모델의 임베딩 레이어를 교체하여 다시 학습\n",
    "word_vector_dim = 100  # 워드 벡터의 차원수\n",
    "embedding_matrix = np.random.rand(vocab_size, word_vector_dim)\n",
    "\n",
    "# embedding_matrix에 Word2Vec 워드 벡터를 단어 하나씩마다 차례차례 카피한다.\n",
    "for i in range(4,vocab_size):\n",
    "    if index_to_word[i] in ko_model.wv:\n",
    "        embedding_matrix[i] = ko_model.wv[index_to_word[i]]"
   ]
  },
  {
   "cell_type": "code",
   "execution_count": 27,
   "id": "daa15cec",
   "metadata": {},
   "outputs": [
    {
     "name": "stdout",
     "output_type": "stream",
     "text": [
      "Model: \"sequential_3\"\n",
      "_________________________________________________________________\n",
      "Layer (type)                 Output Shape              Param #   \n",
      "=================================================================\n",
      "embedding_3 (Embedding)      (None, 42, 100)           1000000   \n",
      "_________________________________________________________________\n",
      "conv1d_2 (Conv1D)            (None, 40, 16)            4816      \n",
      "_________________________________________________________________\n",
      "max_pooling1d_1 (MaxPooling1 (None, 8, 16)             0         \n",
      "_________________________________________________________________\n",
      "conv1d_3 (Conv1D)            (None, 6, 16)             784       \n",
      "_________________________________________________________________\n",
      "global_max_pooling1d_2 (Glob (None, 16)                0         \n",
      "_________________________________________________________________\n",
      "dense_6 (Dense)              (None, 8)                 136       \n",
      "_________________________________________________________________\n",
      "dense_7 (Dense)              (None, 1)                 9         \n",
      "=================================================================\n",
      "Total params: 1,005,745\n",
      "Trainable params: 1,005,745\n",
      "Non-trainable params: 0\n",
      "_________________________________________________________________\n",
      "Epoch 1/20\n",
      "276/276 [==============================] - 2s 6ms/step - loss: 0.6056 - accuracy: 0.6636 - val_loss: 0.5107 - val_accuracy: 0.7446\n",
      "Epoch 2/20\n",
      "276/276 [==============================] - 1s 5ms/step - loss: 0.4679 - accuracy: 0.7783 - val_loss: 0.4266 - val_accuracy: 0.8008\n",
      "Epoch 3/20\n",
      "276/276 [==============================] - 1s 5ms/step - loss: 0.4034 - accuracy: 0.8179 - val_loss: 0.3862 - val_accuracy: 0.8266\n",
      "Epoch 4/20\n",
      "276/276 [==============================] - 1s 5ms/step - loss: 0.3645 - accuracy: 0.8397 - val_loss: 0.3634 - val_accuracy: 0.8392\n",
      "Epoch 5/20\n",
      "276/276 [==============================] - 1s 5ms/step - loss: 0.3368 - accuracy: 0.8542 - val_loss: 0.3496 - val_accuracy: 0.8378\n",
      "Epoch 6/20\n",
      "276/276 [==============================] - 1s 5ms/step - loss: 0.3174 - accuracy: 0.8648 - val_loss: 0.3417 - val_accuracy: 0.8468\n",
      "Epoch 7/20\n",
      "276/276 [==============================] - 1s 5ms/step - loss: 0.3023 - accuracy: 0.8727 - val_loss: 0.3351 - val_accuracy: 0.8516\n",
      "Epoch 8/20\n",
      "276/276 [==============================] - 1s 5ms/step - loss: 0.2888 - accuracy: 0.8800 - val_loss: 0.3346 - val_accuracy: 0.8532\n",
      "Epoch 9/20\n",
      "276/276 [==============================] - 1s 5ms/step - loss: 0.2777 - accuracy: 0.8863 - val_loss: 0.3341 - val_accuracy: 0.8526\n",
      "Epoch 10/20\n",
      "276/276 [==============================] - 1s 5ms/step - loss: 0.2676 - accuracy: 0.8903 - val_loss: 0.3369 - val_accuracy: 0.8510\n",
      "Epoch 11/20\n",
      "276/276 [==============================] - 1s 5ms/step - loss: 0.2583 - accuracy: 0.8955 - val_loss: 0.3346 - val_accuracy: 0.8532\n",
      "Epoch 12/20\n",
      "276/276 [==============================] - 1s 5ms/step - loss: 0.2495 - accuracy: 0.8996 - val_loss: 0.3428 - val_accuracy: 0.8522\n",
      "1537/1537 - 3s - loss: 0.3592 - accuracy: 0.8512\n"
     ]
    }
   ],
   "source": [
    "from tensorflow.keras.initializers import Constant\n",
    "\n",
    "# 모델 구성\n",
    "model = tf.keras.Sequential()\n",
    "model.add(tf.keras.layers.Embedding(vocab_size, \n",
    "                                 word_vector_dim, \n",
    "                                 embeddings_initializer=Constant(embedding_matrix),  # 카피한 임베딩을 여기서 활용\n",
    "                                 input_length=maxlen, \n",
    "                                 trainable=True))   # trainable을 True로 주면 Fine-tuning\n",
    "model.add(tf.keras.layers.Conv1D(16, 3, activation='relu'))\n",
    "model.add(tf.keras.layers.MaxPooling1D(5))\n",
    "model.add(tf.keras.layers.Conv1D(16, 3, activation='relu'))\n",
    "model.add(tf.keras.layers.GlobalMaxPooling1D())\n",
    "model.add(tf.keras.layers.Dense(8, activation='relu'))\n",
    "model.add(tf.keras.layers.Dense(1, activation='sigmoid')) \n",
    "\n",
    "model.summary()\n",
    "history = train_model(model)"
   ]
  },
  {
   "cell_type": "code",
   "execution_count": 28,
   "id": "b7ccd758",
   "metadata": {},
   "outputs": [
    {
     "data": {
      "image/png": "[encoded data removed]",
      "text/plain": [
       "<Figure size 432x288 with 2 Axes>"
      ]
     },
     "metadata": {
      "needs_background": "light"
     },
     "output_type": "display_data"
    }
   ],
   "source": [
    "plot_result(history)"
   ]
  },
  {
   "cell_type": "markdown",
   "id": "e93c9bcc",
   "metadata": {},
   "source": [
    "드롭아웃 추가"
   ]
  },
  {
   "cell_type": "code",
   "execution_count": 29,
   "id": "f32b7997",
   "metadata": {},
   "outputs": [
    {
     "name": "stdout",
     "output_type": "stream",
     "text": [
      "Model: \"sequential_4\"\n",
      "_________________________________________________________________\n",
      "Layer (type)                 Output Shape              Param #   \n",
      "=================================================================\n",
      "embedding_4 (Embedding)      (None, 42, 100)           1000000   \n",
      "_________________________________________________________________\n",
      "conv1d_4 (Conv1D)            (None, 40, 16)            4816      \n",
      "_________________________________________________________________\n",
      "max_pooling1d_2 (MaxPooling1 (None, 8, 16)             0         \n",
      "_________________________________________________________________\n",
      "conv1d_5 (Conv1D)            (None, 6, 16)             784       \n",
      "_________________________________________________________________\n",
      "global_max_pooling1d_3 (Glob (None, 16)                0         \n",
      "_________________________________________________________________\n",
      "dense_8 (Dense)              (None, 8)                 136       \n",
      "_________________________________________________________________\n",
      "dropout (Dropout)            (None, 8)                 0         \n",
      "_________________________________________________________________\n",
      "dense_9 (Dense)              (None, 1)                 9         \n",
      "=================================================================\n",
      "Total params: 1,005,745\n",
      "Trainable params: 1,005,745\n",
      "Non-trainable params: 0\n",
      "_________________________________________________________________\n",
      "Epoch 1/20\n",
      "276/276 [==============================] - 2s 6ms/step - loss: 0.7053 - accuracy: 0.5004 - val_loss: 0.6890 - val_accuracy: 0.5154\n",
      "Epoch 2/20\n",
      "276/276 [==============================] - 1s 5ms/step - loss: 0.6680 - accuracy: 0.5681 - val_loss: 0.5776 - val_accuracy: 0.7188\n",
      "Epoch 3/20\n",
      "276/276 [==============================] - 1s 5ms/step - loss: 0.5919 - accuracy: 0.6785 - val_loss: 0.4811 - val_accuracy: 0.7770\n",
      "Epoch 4/20\n",
      "276/276 [==============================] - 1s 5ms/step - loss: 0.5190 - accuracy: 0.7555 - val_loss: 0.4297 - val_accuracy: 0.8118\n",
      "Epoch 5/20\n",
      "276/276 [==============================] - 1s 5ms/step - loss: 0.4819 - accuracy: 0.7821 - val_loss: 0.3977 - val_accuracy: 0.8272\n",
      "Epoch 6/20\n",
      "276/276 [==============================] - 1s 5ms/step - loss: 0.4586 - accuracy: 0.7955 - val_loss: 0.3825 - val_accuracy: 0.8424\n",
      "Epoch 7/20\n",
      "276/276 [==============================] - 1s 5ms/step - loss: 0.4419 - accuracy: 0.8065 - val_loss: 0.3678 - val_accuracy: 0.8480\n",
      "Epoch 8/20\n",
      "276/276 [==============================] - 1s 5ms/step - loss: 0.4304 - accuracy: 0.8125 - val_loss: 0.3611 - val_accuracy: 0.8466\n",
      "Epoch 9/20\n",
      "276/276 [==============================] - 1s 5ms/step - loss: 0.4186 - accuracy: 0.8200 - val_loss: 0.3577 - val_accuracy: 0.8482\n",
      "Epoch 10/20\n",
      "276/276 [==============================] - 1s 5ms/step - loss: 0.4102 - accuracy: 0.8244 - val_loss: 0.3555 - val_accuracy: 0.8424\n",
      "Epoch 11/20\n",
      "276/276 [==============================] - 1s 5ms/step - loss: 0.4006 - accuracy: 0.8296 - val_loss: 0.3531 - val_accuracy: 0.8490\n",
      "Epoch 12/20\n",
      "276/276 [==============================] - 1s 5ms/step - loss: 0.3951 - accuracy: 0.8321 - val_loss: 0.3569 - val_accuracy: 0.8524\n",
      "Epoch 13/20\n",
      "276/276 [==============================] - 1s 5ms/step - loss: 0.3915 - accuracy: 0.8351 - val_loss: 0.3530 - val_accuracy: 0.8478\n",
      "Epoch 14/20\n",
      "276/276 [==============================] - 1s 5ms/step - loss: 0.3832 - accuracy: 0.8400 - val_loss: 0.3549 - val_accuracy: 0.8518\n",
      "Epoch 15/20\n",
      "276/276 [==============================] - 1s 5ms/step - loss: 0.3775 - accuracy: 0.8432 - val_loss: 0.3628 - val_accuracy: 0.8492\n",
      "Epoch 16/20\n",
      "276/276 [==============================] - 1s 5ms/step - loss: 0.3739 - accuracy: 0.8452 - val_loss: 0.3570 - val_accuracy: 0.8502\n",
      "1537/1537 - 3s - loss: 0.3726 - accuracy: 0.8415\n"
     ]
    }
   ],
   "source": [
    "from tensorflow.keras.initializers import Constant\n",
    "\n",
    "# 모델 구성\n",
    "model = tf.keras.Sequential()\n",
    "model.add(tf.keras.layers.Embedding(vocab_size, \n",
    "                                 word_vector_dim, \n",
    "                                 embeddings_initializer=Constant(embedding_matrix),  # 카피한 임베딩을 여기서 활용\n",
    "                                 input_length=maxlen, \n",
    "                                 trainable=True))   # trainable을 True로 주면 Fine-tuning\n",
    "model.add(tf.keras.layers.Conv1D(16, 3, activation='relu'))\n",
    "model.add(tf.keras.layers.MaxPooling1D(5))\n",
    "model.add(tf.keras.layers.Conv1D(16, 3, activation='relu'))\n",
    "model.add(tf.keras.layers.GlobalMaxPooling1D())\n",
    "model.add(tf.keras.layers.Dense(8, activation='relu'))\n",
    "model.add(tf.keras.layers.Dropout(0.7))\n",
    "model.add(tf.keras.layers.Dense(1, activation='sigmoid')) \n",
    "\n",
    "model.summary()\n",
    "history = train_model(model)"
   ]
  },
  {
   "cell_type": "code",
   "execution_count": 30,
   "id": "34a4a87f",
   "metadata": {},
   "outputs": [
    {
     "data": {
      "image/png": "[encoded data removed]",
      "text/plain": [
       "<Figure size 432x288 with 2 Axes>"
      ]
     },
     "metadata": {
      "needs_background": "light"
     },
     "output_type": "display_data"
    }
   ],
   "source": [
    "plot_result(history)"
   ]
  },
  {
   "cell_type": "markdown",
   "id": "81db682b",
   "metadata": {},
   "source": [
    "`LSTM`으로 레이어 변경"
   ]
  },
  {
   "cell_type": "code",
   "execution_count": 31,
   "id": "75e0b47e",
   "metadata": {},
   "outputs": [
    {
     "name": "stdout",
     "output_type": "stream",
     "text": [
      "Model: \"sequential_5\"\n",
      "_________________________________________________________________\n",
      "Layer (type)                 Output Shape              Param #   \n",
      "=================================================================\n",
      "embedding_5 (Embedding)      (None, 42, 100)           1000000   \n",
      "_________________________________________________________________\n",
      "lstm_1 (LSTM)                (None, 8)                 3488      \n",
      "_________________________________________________________________\n",
      "dense_10 (Dense)             (None, 8)                 72        \n",
      "_________________________________________________________________\n",
      "dense_11 (Dense)             (None, 1)                 9         \n",
      "=================================================================\n",
      "Total params: 1,003,569\n",
      "Trainable params: 1,003,569\n",
      "Non-trainable params: 0\n",
      "_________________________________________________________________\n",
      "Epoch 1/20\n",
      "276/276 [==============================] - 4s 7ms/step - loss: 0.6498 - accuracy: 0.5938 - val_loss: 0.5169 - val_accuracy: 0.7606\n",
      "Epoch 2/20\n",
      "276/276 [==============================] - 2s 6ms/step - loss: 0.4412 - accuracy: 0.8024 - val_loss: 0.3833 - val_accuracy: 0.8322\n",
      "Epoch 3/20\n",
      "276/276 [==============================] - 2s 6ms/step - loss: 0.3711 - accuracy: 0.8399 - val_loss: 0.3560 - val_accuracy: 0.8422\n",
      "Epoch 4/20\n",
      "276/276 [==============================] - 2s 6ms/step - loss: 0.3397 - accuracy: 0.8554 - val_loss: 0.3472 - val_accuracy: 0.8486\n",
      "Epoch 5/20\n",
      "276/276 [==============================] - 2s 6ms/step - loss: 0.3206 - accuracy: 0.8652 - val_loss: 0.3408 - val_accuracy: 0.8538\n",
      "Epoch 6/20\n",
      "276/276 [==============================] - 2s 6ms/step - loss: 0.3069 - accuracy: 0.8718 - val_loss: 0.3412 - val_accuracy: 0.8532\n",
      "Epoch 7/20\n",
      "276/276 [==============================] - 2s 6ms/step - loss: 0.2955 - accuracy: 0.8777 - val_loss: 0.3480 - val_accuracy: 0.8498\n",
      "Epoch 8/20\n",
      "276/276 [==============================] - 2s 6ms/step - loss: 0.2861 - accuracy: 0.8823 - val_loss: 0.3436 - val_accuracy: 0.8514\n",
      "1537/1537 - 3s - loss: 0.3571 - accuracy: 0.8477\n"
     ]
    }
   ],
   "source": [
    "model = tf.keras.Sequential()\n",
    "model.add(tf.keras.layers.Embedding(vocab_size, \n",
    "                                 word_vector_dim, \n",
    "                                 embeddings_initializer=Constant(embedding_matrix),  # 카피한 임베딩을 여기서 활용\n",
    "                                 input_length=maxlen, \n",
    "                                 trainable=True))   # trainable을 True로 주면 Fine-tuning\n",
    "model.add(tf.keras.layers.LSTM(8))   # 가장 널리 쓰이는 RNN인 LSTM 레이어를 사용하였습니다. 이때 LSTM state 벡터의 차원수는 8로 하였습니다. (변경 가능)\n",
    "model.add(tf.keras.layers.Dense(8, activation='relu'))\n",
    "model.add(tf.keras.layers.Dense(1, activation='sigmoid'))  # 최종 출력은 긍정/부정을 나타내는 1dim 입니다.\n",
    "\n",
    "model.summary()\n",
    "# LSTM은 RNN 계열이므로 앞쪽이 패딩인 데이터셋 선택\n",
    "history = train_model(model, x_train=X_train_pre, x_val=X_val_pre, x_test=X_test_pre)"
   ]
  },
  {
   "cell_type": "code",
   "execution_count": 32,
   "id": "a562471b",
   "metadata": {},
   "outputs": [
    {
     "data": {
      "image/png": "[encoded data removed]",
      "text/plain": [
       "<Figure size 432x288 with 2 Axes>"
      ]
     },
     "metadata": {
      "needs_background": "light"
     },
     "output_type": "display_data"
    }
   ],
   "source": [
    "plot_result(history)"
   ]
  },
  {
   "cell_type": "markdown",
   "id": "84292856",
   "metadata": {},
   "source": [
    "`GlobalMaxPooling1D`로 레이어 변경"
   ]
  },
  {
   "cell_type": "code",
   "execution_count": 33,
   "id": "25aa0b78",
   "metadata": {},
   "outputs": [
    {
     "name": "stdout",
     "output_type": "stream",
     "text": [
      "Model: \"sequential_6\"\n",
      "_________________________________________________________________\n",
      "Layer (type)                 Output Shape              Param #   \n",
      "=================================================================\n",
      "embedding_6 (Embedding)      (None, 42, 100)           1000000   \n",
      "_________________________________________________________________\n",
      "global_max_pooling1d_4 (Glob (None, 100)               0         \n",
      "_________________________________________________________________\n",
      "dense_12 (Dense)             (None, 8)                 808       \n",
      "_________________________________________________________________\n",
      "dense_13 (Dense)             (None, 1)                 9         \n",
      "=================================================================\n",
      "Total params: 1,000,817\n",
      "Trainable params: 1,000,817\n",
      "Non-trainable params: 0\n",
      "_________________________________________________________________\n",
      "Epoch 1/20\n",
      "276/276 [==============================] - 2s 4ms/step - loss: 0.8996 - accuracy: 0.5655 - val_loss: 0.6956 - val_accuracy: 0.6028\n",
      "Epoch 2/20\n",
      "276/276 [==============================] - 1s 4ms/step - loss: 0.6541 - accuracy: 0.6339 - val_loss: 0.6252 - val_accuracy: 0.6600\n",
      "Epoch 3/20\n",
      "276/276 [==============================] - 1s 4ms/step - loss: 0.6049 - accuracy: 0.6740 - val_loss: 0.5872 - val_accuracy: 0.6912\n",
      "Epoch 4/20\n",
      "276/276 [==============================] - 1s 4ms/step - loss: 0.5733 - accuracy: 0.7014 - val_loss: 0.5603 - val_accuracy: 0.7138\n",
      "Epoch 5/20\n",
      "276/276 [==============================] - 1s 4ms/step - loss: 0.5477 - accuracy: 0.7216 - val_loss: 0.5397 - val_accuracy: 0.7282\n",
      "Epoch 6/20\n",
      "276/276 [==============================] - 1s 4ms/step - loss: 0.5243 - accuracy: 0.7389 - val_loss: 0.5175 - val_accuracy: 0.7512\n",
      "Epoch 7/20\n",
      "276/276 [==============================] - 1s 4ms/step - loss: 0.5036 - accuracy: 0.7534 - val_loss: 0.4995 - val_accuracy: 0.7616\n",
      "Epoch 8/20\n",
      "276/276 [==============================] - 1s 4ms/step - loss: 0.4857 - accuracy: 0.7660 - val_loss: 0.4920 - val_accuracy: 0.7646\n",
      "Epoch 9/20\n",
      "276/276 [==============================] - 1s 4ms/step - loss: 0.4708 - accuracy: 0.7761 - val_loss: 0.4754 - val_accuracy: 0.7762\n",
      "Epoch 10/20\n",
      "276/276 [==============================] - 1s 4ms/step - loss: 0.4565 - accuracy: 0.7851 - val_loss: 0.4616 - val_accuracy: 0.7816\n",
      "Epoch 11/20\n",
      "276/276 [==============================] - 1s 4ms/step - loss: 0.4444 - accuracy: 0.7935 - val_loss: 0.4536 - val_accuracy: 0.7846\n",
      "Epoch 12/20\n",
      "276/276 [==============================] - 1s 4ms/step - loss: 0.4336 - accuracy: 0.7996 - val_loss: 0.4452 - val_accuracy: 0.7908\n",
      "Epoch 13/20\n",
      "276/276 [==============================] - 1s 4ms/step - loss: 0.4252 - accuracy: 0.8044 - val_loss: 0.4428 - val_accuracy: 0.7932\n",
      "Epoch 14/20\n",
      "276/276 [==============================] - 1s 4ms/step - loss: 0.4166 - accuracy: 0.8094 - val_loss: 0.4338 - val_accuracy: 0.7968\n",
      "Epoch 15/20\n",
      "276/276 [==============================] - 1s 4ms/step - loss: 0.4087 - accuracy: 0.8145 - val_loss: 0.4305 - val_accuracy: 0.7986\n",
      "Epoch 16/20\n",
      "276/276 [==============================] - 1s 4ms/step - loss: 0.4010 - accuracy: 0.8184 - val_loss: 0.4243 - val_accuracy: 0.8000\n",
      "Epoch 17/20\n",
      "276/276 [==============================] - 1s 4ms/step - loss: 0.3942 - accuracy: 0.8223 - val_loss: 0.4194 - val_accuracy: 0.8068\n",
      "Epoch 18/20\n",
      "276/276 [==============================] - 1s 4ms/step - loss: 0.3874 - accuracy: 0.8267 - val_loss: 0.4161 - val_accuracy: 0.8084\n",
      "Epoch 19/20\n",
      "276/276 [==============================] - 1s 4ms/step - loss: 0.3815 - accuracy: 0.8299 - val_loss: 0.4121 - val_accuracy: 0.8124\n",
      "Epoch 20/20\n",
      "276/276 [==============================] - 1s 4ms/step - loss: 0.3754 - accuracy: 0.8337 - val_loss: 0.4087 - val_accuracy: 0.8128\n",
      "1537/1537 - 2s - loss: 0.4254 - accuracy: 0.8062\n"
     ]
    }
   ],
   "source": [
    "model = tf.keras.Sequential()\n",
    "model.add(tf.keras.layers.Embedding(vocab_size, \n",
    "                                 word_vector_dim, \n",
    "                                 embeddings_initializer=Constant(embedding_matrix),  # 카피한 임베딩을 여기서 활용\n",
    "                                 input_length=maxlen, \n",
    "                                 trainable=True))   # trainable을 True로 주면 Fine-tuning\n",
    "model.add(tf.keras.layers.GlobalMaxPooling1D())\n",
    "model.add(tf.keras.layers.Dense(8, activation='relu'))\n",
    "model.add(tf.keras.layers.Dense(1, activation='sigmoid'))  # 최종 출력은 긍정/부정을 나타내는 1dim 입니다.\n",
    "\n",
    "model.summary()\n",
    "history = train_model(model)"
   ]
  },
  {
   "cell_type": "code",
   "execution_count": 34,
   "id": "f83a493c",
   "metadata": {},
   "outputs": [
    {
     "data": {
      "image/png": "[encoded data removed]",
      "text/plain": [
       "<Figure size 432x288 with 2 Axes>"
      ]
     },
     "metadata": {
      "needs_background": "light"
     },
     "output_type": "display_data"
    }
   ],
   "source": [
    "plot_result(history)"
   ]
  },
  {
   "cell_type": "markdown",
   "id": "f300cb61",
   "metadata": {},
   "source": [
    "`LSTM`이 가장 좋은 성능을 보여줬지만 과적합이 일어났기 때문에 `LSTM`을 하나 더 쌓고 드롭아웃 추가"
   ]
  },
  {
   "cell_type": "code",
   "execution_count": 41,
   "id": "11838423",
   "metadata": {
    "scrolled": true
   },
   "outputs": [
    {
     "name": "stdout",
     "output_type": "stream",
     "text": [
      "Model: \"sequential_10\"\n",
      "_________________________________________________________________\n",
      "Layer (type)                 Output Shape              Param #   \n",
      "=================================================================\n",
      "embedding_10 (Embedding)     (None, 42, 100)           1000000   \n",
      "_________________________________________________________________\n",
      "lstm_5 (LSTM)                (None, 42, 8)             3488      \n",
      "_________________________________________________________________\n",
      "lstm_6 (LSTM)                (None, 16)                1600      \n",
      "_________________________________________________________________\n",
      "dense_20 (Dense)             (None, 8)                 136       \n",
      "_________________________________________________________________\n",
      "dropout_4 (Dropout)          (None, 8)                 0         \n",
      "_________________________________________________________________\n",
      "dense_21 (Dense)             (None, 1)                 9         \n",
      "=================================================================\n",
      "Total params: 1,005,233\n",
      "Trainable params: 1,005,233\n",
      "Non-trainable params: 0\n",
      "_________________________________________________________________\n",
      "Epoch 1/30\n",
      "276/276 [==============================] - 6s 10ms/step - loss: 0.6315 - accuracy: 0.6377 - val_loss: 0.4989 - val_accuracy: 0.7760\n",
      "Epoch 2/30\n",
      "276/276 [==============================] - 2s 8ms/step - loss: 0.5198 - accuracy: 0.7597 - val_loss: 0.4108 - val_accuracy: 0.8246\n",
      "Epoch 3/30\n",
      "276/276 [==============================] - 2s 8ms/step - loss: 0.4724 - accuracy: 0.7879 - val_loss: 0.3766 - val_accuracy: 0.8402\n",
      "Epoch 4/30\n",
      "276/276 [==============================] - 2s 8ms/step - loss: 0.4500 - accuracy: 0.8012 - val_loss: 0.3734 - val_accuracy: 0.8488\n",
      "Epoch 5/30\n",
      "276/276 [==============================] - 2s 8ms/step - loss: 0.4337 - accuracy: 0.8102 - val_loss: 0.3462 - val_accuracy: 0.8514\n",
      "Epoch 6/30\n",
      "276/276 [==============================] - 2s 8ms/step - loss: 0.4221 - accuracy: 0.8146 - val_loss: 0.3489 - val_accuracy: 0.8526\n",
      "Epoch 7/30\n",
      "276/276 [==============================] - 2s 8ms/step - loss: 0.4142 - accuracy: 0.8188 - val_loss: 0.3437 - val_accuracy: 0.8532\n",
      "Epoch 8/30\n",
      "276/276 [==============================] - 2s 8ms/step - loss: 0.4048 - accuracy: 0.8247 - val_loss: 0.3387 - val_accuracy: 0.8534\n",
      "Epoch 9/30\n",
      "276/276 [==============================] - 2s 8ms/step - loss: 0.4004 - accuracy: 0.8273 - val_loss: 0.3400 - val_accuracy: 0.8512\n",
      "Epoch 10/30\n",
      "276/276 [==============================] - 2s 8ms/step - loss: 0.3942 - accuracy: 0.8300 - val_loss: 0.3509 - val_accuracy: 0.8452\n",
      "Epoch 11/30\n",
      "276/276 [==============================] - 2s 8ms/step - loss: 0.3897 - accuracy: 0.8319 - val_loss: 0.3511 - val_accuracy: 0.8566\n",
      "1537/1537 - 4s - loss: 0.3613 - accuracy: 0.8510\n"
     ]
    }
   ],
   "source": [
    "model = tf.keras.Sequential()\n",
    "model.add(tf.keras.layers.Embedding(vocab_size, \n",
    "                                 word_vector_dim, \n",
    "                                 embeddings_initializer=Constant(embedding_matrix),  # 카피한 임베딩을 여기서 활용\n",
    "                                 input_length=maxlen, \n",
    "                                 trainable=True))   # trainable을 True로 주면 Fine-tuning\n",
    "model.add(tf.keras.layers.LSTM(units=8, return_sequences = True))\n",
    "model.add(tf.keras.layers.LSTM(units=16, return_sequences = False))\n",
    "model.add(tf.keras.layers.Dense(8, activation='relu'))\n",
    "model.add(tf.keras.layers.Dropout(0.7))\n",
    "model.add(tf.keras.layers.Dense(1, activation='sigmoid'))  # 최종 출력은 긍정/부정을 나타내는 1dim 입니다.\n",
    "\n",
    "model.summary()\n",
    "# LSTM은 RNN 계열이므로 앞쪽이 패딩인 데이터셋 선택\n",
    "history = train_model(model, epochs=30, x_train=X_train_pre, x_val=X_val_pre, x_test=X_test_pre)"
   ]
  },
  {
   "cell_type": "code",
   "execution_count": 42,
   "id": "1413fdcf",
   "metadata": {},
   "outputs": [
    {
     "data": {
      "image/png": "[encoded data removed]",
      "text/plain": [
       "<Figure size 432x288 with 2 Axes>"
      ]
     },
     "metadata": {
      "needs_background": "light"
     },
     "output_type": "display_data"
    }
   ],
   "source": [
    "plot_result(history)"
   ]
  },
  {
   "cell_type": "markdown",
   "id": "7b9a8626",
   "metadata": {},
   "source": [
    "85% 이상 정확도 달성"
   ]
  }
 ],
 "metadata": {
  "kernelspec": {
   "display_name": "Python 3 (ipykernel)",
   "language": "python",
   "name": "python3"
  },
  "language_info": {
   "codemirror_mode": {
    "name": "ipython",
    "version": 3
   },
   "file_extension": ".py",
   "mimetype": "text/x-python",
   "name": "python",
   "nbconvert_exporter": "python",
   "pygments_lexer": "ipython3",
   "version": "3.9.7"
  }
 },
 "nbformat": 4,
 "nbformat_minor": 5
}
