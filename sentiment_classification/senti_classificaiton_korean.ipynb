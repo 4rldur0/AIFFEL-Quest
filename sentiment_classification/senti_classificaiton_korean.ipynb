{
 "cells": [
  {
   "cell_type": "markdown",
   "id": "e5f81c82",
   "metadata": {},
   "source": [
    "## Dataset\n",
    "### Naver sentiment movie corpus 데이터 불러오기"
   ]
  },
  {
   "cell_type": "code",
   "execution_count": 2,
   "id": "52235886",
   "metadata": {},
   "outputs": [
    {
     "data": {
      "text/html": [
       "<div>\n",
       "<style scoped>\n",
       "    .dataframe tbody tr th:only-of-type {\n",
       "        vertical-align: middle;\n",
       "    }\n",
       "\n",
       "    .dataframe tbody tr th {\n",
       "        vertical-align: top;\n",
       "    }\n",
       "\n",
       "    .dataframe thead th {\n",
       "        text-align: right;\n",
       "    }\n",
       "</style>\n",
       "<table border=\"1\" class=\"dataframe\">\n",
       "  <thead>\n",
       "    <tr style=\"text-align: right;\">\n",
       "      <th></th>\n",
       "      <th>id</th>\n",
       "      <th>document</th>\n",
       "      <th>label</th>\n",
       "    </tr>\n",
       "  </thead>\n",
       "  <tbody>\n",
       "    <tr>\n",
       "      <th>0</th>\n",
       "      <td>9976970</td>\n",
       "      <td>아 더빙.. 진짜 짜증나네요 목소리</td>\n",
       "      <td>0</td>\n",
       "    </tr>\n",
       "    <tr>\n",
       "      <th>1</th>\n",
       "      <td>3819312</td>\n",
       "      <td>흠...포스터보고 초딩영화줄....오버연기조차 가볍지 않구나</td>\n",
       "      <td>1</td>\n",
       "    </tr>\n",
       "    <tr>\n",
       "      <th>2</th>\n",
       "      <td>10265843</td>\n",
       "      <td>너무재밓었다그래서보는것을추천한다</td>\n",
       "      <td>0</td>\n",
       "    </tr>\n",
       "    <tr>\n",
       "      <th>3</th>\n",
       "      <td>9045019</td>\n",
       "      <td>교도소 이야기구먼 ..솔직히 재미는 없다..평점 조정</td>\n",
       "      <td>0</td>\n",
       "    </tr>\n",
       "    <tr>\n",
       "      <th>4</th>\n",
       "      <td>6483659</td>\n",
       "      <td>사이몬페그의 익살스런 연기가 돋보였던 영화!스파이더맨에서 늙어보이기만 했던 커스틴 ...</td>\n",
       "      <td>1</td>\n",
       "    </tr>\n",
       "  </tbody>\n",
       "</table>\n",
       "</div>"
      ],
      "text/plain": [
       "         id                                           document  label\n",
       "0   9976970                                아 더빙.. 진짜 짜증나네요 목소리      0\n",
       "1   3819312                  흠...포스터보고 초딩영화줄....오버연기조차 가볍지 않구나      1\n",
       "2  10265843                                  너무재밓었다그래서보는것을추천한다      0\n",
       "3   9045019                      교도소 이야기구먼 ..솔직히 재미는 없다..평점 조정      0\n",
       "4   6483659  사이몬페그의 익살스런 연기가 돋보였던 영화!스파이더맨에서 늙어보이기만 했던 커스틴 ...      1"
      ]
     },
     "execution_count": 2,
     "metadata": {},
     "output_type": "execute_result"
    }
   ],
   "source": [
    "import pandas as pd\n",
    "\n",
    "# 데이터를 읽어봅시다. \n",
    "train_data = pd.read_table('~/aiffel/sentiment_classification/data/ratings_train.txt')\n",
    "test_data = pd.read_table('~/aiffel/sentiment_classification/data/ratings_test.txt')\n",
    "\n",
    "train_data.head()"
   ]
  },
  {
   "cell_type": "code",
   "execution_count": 3,
   "id": "2fb72ce2",
   "metadata": {},
   "outputs": [
    {
     "data": {
      "text/html": [
       "<div>\n",
       "<style scoped>\n",
       "    .dataframe tbody tr th:only-of-type {\n",
       "        vertical-align: middle;\n",
       "    }\n",
       "\n",
       "    .dataframe tbody tr th {\n",
       "        vertical-align: top;\n",
       "    }\n",
       "\n",
       "    .dataframe thead th {\n",
       "        text-align: right;\n",
       "    }\n",
       "</style>\n",
       "<table border=\"1\" class=\"dataframe\">\n",
       "  <thead>\n",
       "    <tr style=\"text-align: right;\">\n",
       "      <th></th>\n",
       "      <th>id</th>\n",
       "      <th>document</th>\n",
       "      <th>label</th>\n",
       "    </tr>\n",
       "  </thead>\n",
       "  <tbody>\n",
       "    <tr>\n",
       "      <th>0</th>\n",
       "      <td>6270596</td>\n",
       "      <td>굳 ㅋ</td>\n",
       "      <td>1</td>\n",
       "    </tr>\n",
       "    <tr>\n",
       "      <th>1</th>\n",
       "      <td>9274899</td>\n",
       "      <td>GDNTOPCLASSINTHECLUB</td>\n",
       "      <td>0</td>\n",
       "    </tr>\n",
       "    <tr>\n",
       "      <th>2</th>\n",
       "      <td>8544678</td>\n",
       "      <td>뭐야 이 평점들은.... 나쁘진 않지만 10점 짜리는 더더욱 아니잖아</td>\n",
       "      <td>0</td>\n",
       "    </tr>\n",
       "    <tr>\n",
       "      <th>3</th>\n",
       "      <td>6825595</td>\n",
       "      <td>지루하지는 않은데 완전 막장임... 돈주고 보기에는....</td>\n",
       "      <td>0</td>\n",
       "    </tr>\n",
       "    <tr>\n",
       "      <th>4</th>\n",
       "      <td>6723715</td>\n",
       "      <td>3D만 아니었어도 별 다섯 개 줬을텐데.. 왜 3D로 나와서 제 심기를 불편하게 하죠??</td>\n",
       "      <td>0</td>\n",
       "    </tr>\n",
       "  </tbody>\n",
       "</table>\n",
       "</div>"
      ],
      "text/plain": [
       "        id                                           document  label\n",
       "0  6270596                                                굳 ㅋ      1\n",
       "1  9274899                               GDNTOPCLASSINTHECLUB      0\n",
       "2  8544678             뭐야 이 평점들은.... 나쁘진 않지만 10점 짜리는 더더욱 아니잖아      0\n",
       "3  6825595                   지루하지는 않은데 완전 막장임... 돈주고 보기에는....      0\n",
       "4  6723715  3D만 아니었어도 별 다섯 개 줬을텐데.. 왜 3D로 나와서 제 심기를 불편하게 하죠??      0"
      ]
     },
     "execution_count": 3,
     "metadata": {},
     "output_type": "execute_result"
    }
   ],
   "source": [
    "test_data.head()"
   ]
  },
  {
   "cell_type": "code",
   "execution_count": 4,
   "id": "bec77f1b",
   "metadata": {},
   "outputs": [
    {
     "name": "stdout",
     "output_type": "stream",
     "text": [
      "<class 'pandas.core.frame.DataFrame'>\n",
      "RangeIndex: 150000 entries, 0 to 149999\n",
      "Data columns (total 3 columns):\n",
      " #   Column    Non-Null Count   Dtype \n",
      "---  ------    --------------   ----- \n",
      " 0   id        150000 non-null  int64 \n",
      " 1   document  149995 non-null  object\n",
      " 2   label     150000 non-null  int64 \n",
      "dtypes: int64(2), object(1)\n",
      "memory usage: 3.4+ MB\n"
     ]
    }
   ],
   "source": [
    "train_data.info()"
   ]
  },
  {
   "cell_type": "markdown",
   "id": "2b0b39d3",
   "metadata": {},
   "source": [
    "### 데이터 전처리, 토큰화, 사전 구성"
   ]
  },
  {
   "cell_type": "code",
   "execution_count": 5,
   "id": "c11ddd35",
   "metadata": {},
   "outputs": [
    {
     "name": "stderr",
     "output_type": "stream",
     "text": [
      "/tmp/ipykernel_49/3576269679.py:16: FutureWarning: The default value of regex will change from True to False in a future version.\n",
      "  train_data['document'] = train_data['document'].str.replace(\"[^ㄱ-ㅎㅏ-ㅣ가-힣 ]\",\"\")\n",
      "/tmp/ipykernel_49/3576269679.py:16: SettingWithCopyWarning: \n",
      "A value is trying to be set on a copy of a slice from a DataFrame.\n",
      "Try using .loc[row_indexer,col_indexer] = value instead\n",
      "\n",
      "See the caveats in the documentation: https://pandas.pydata.org/pandas-docs/stable/user_guide/indexing.html#returning-a-view-versus-a-copy\n",
      "  train_data['document'] = train_data['document'].str.replace(\"[^ㄱ-ㅎㅏ-ㅣ가-힣 ]\",\"\")\n"
     ]
    }
   ],
   "source": [
    "from konlpy.tag import Mecab\n",
    "import numpy as np\n",
    "from collections import Counter\n",
    "\n",
    "tokenizer = Mecab()\n",
    "stopwords = ['의','가','이','은','들','는','좀','잘','걍','과','도','를','으로','자','에','와','한','하다']\n",
    "\n",
    "def load_data(train_data, test_data):\n",
    "    # 중복 제거\n",
    "    train_data.drop_duplicates(subset=['document'], inplace=True)\n",
    "    test_data.drop_duplicates(subset=['document'], inplace=True)\n",
    "    # 결측치 제거\n",
    "    train_data = train_data.dropna(how = 'any') \n",
    "    test_data = test_data.dropna(how = 'any')\n",
    "    # 한글 외 문자 제거\n",
    "    train_data['document'] = train_data['document'].str.replace(\"[^ㄱ-ㅎㅏ-ㅣ가-힣 ]\",\"\")\n",
    "    # 토큰화\n",
    "    X_train = []\n",
    "    for sentence in train_data['document']:\n",
    "        temp_X = tokenizer.morphs(sentence)\n",
    "        temp_X = [word for word in temp_X if not word in stopwords] # 불용어 제거\n",
    "        X_train.append(temp_X)\n",
    "    X_test = []\n",
    "    for sentence in test_data['document']:\n",
    "        temp_X = tokenizer.morphs(sentence)\n",
    "        temp_X = [word for word in temp_X if not word in stopwords] # 불용어 제거\n",
    "        X_test.append(temp_X)\n",
    "    # 사전 구성\n",
    "    words = np.concatenate(X_train).tolist()\n",
    "    counter = Counter(words)\n",
    "    counter = counter.most_common(10000-4)    # 가장 빈도수 높은 9996개 토큰\n",
    "    vocab = ['', '', '', ''] + [key for key, _ in counter]\n",
    "    word_to_index = {word:index for index, word in enumerate(vocab)}\n",
    "        \n",
    "    word_to_index[\"<PAD>\"] = 0\n",
    "    word_to_index[\"<BOS>\"] = 1\n",
    "    word_to_index[\"<UNK>\"] = 2  # unknown\n",
    "    word_to_index[\"<UNUSED>\"] = 3\n",
    "    word_to_index.pop(\"\", None)\n",
    "    \n",
    "    return X_train, np.array(list(train_data['label'])), X_test, np.array(list(test_data['label'])), word_to_index\n",
    "    \n",
    "X_train, y_train, X_test, y_test, word_to_index = load_data(train_data, test_data)"
   ]
  },
  {
   "cell_type": "code",
   "execution_count": 6,
   "id": "977ac84f",
   "metadata": {},
   "outputs": [
    {
     "data": {
      "text/plain": [
       "[['아', '더', '빙', '진짜', '짜증', '나', '네요', '목소리'],\n",
       " ['흠', '포스터', '보고', '초딩', '영화', '줄', '오버', '연기', '조차', '가볍', '지', '않', '구나'],\n",
       " ['너무', '재', '밓었다그래서보는것을추천한다']]"
      ]
     },
     "execution_count": 6,
     "metadata": {},
     "output_type": "execute_result"
    }
   ],
   "source": [
    "X_train[:3]"
   ]
  },
  {
   "cell_type": "code",
   "execution_count": 7,
   "id": "b6824026",
   "metadata": {},
   "outputs": [
    {
     "data": {
      "text/plain": [
       "615"
      ]
     },
     "execution_count": 7,
     "metadata": {},
     "output_type": "execute_result"
    }
   ],
   "source": [
    "word_to_index['너']"
   ]
  },
  {
   "cell_type": "code",
   "execution_count": 8,
   "id": "80624826",
   "metadata": {},
   "outputs": [
    {
     "data": {
      "text/plain": [
       "10000"
      ]
     },
     "execution_count": 8,
     "metadata": {},
     "output_type": "execute_result"
    }
   ],
   "source": [
    "len(word_to_index)"
   ]
  },
  {
   "cell_type": "code",
   "execution_count": 9,
   "id": "33ea69a8",
   "metadata": {},
   "outputs": [],
   "source": [
    "index_to_word = {index:word for word, index in word_to_index.items()}"
   ]
  },
  {
   "cell_type": "markdown",
   "id": "2cb86137",
   "metadata": {},
   "source": [
    "### 인코딩"
   ]
  },
  {
   "cell_type": "code",
   "execution_count": 10,
   "id": "507ab83e",
   "metadata": {},
   "outputs": [],
   "source": [
    "# 문장 1개를 활용할 딕셔너리와 함께 주면, 단어 인덱스 리스트 벡터로 변환해 주는 함수입니다. \n",
    "# 단, 모든 문장은 <BOS>로 시작하는 것으로 합니다. \n",
    "def get_encoded_sentence(sentence, word_to_index):\n",
    "    return [word_to_index['<BOS>']]+[word_to_index[word] if word in word_to_index else word_to_index['<UNK>'] for word in sentence]\n",
    "\n",
    "# 여러 개의 문장 리스트를 한꺼번에 단어 인덱스 리스트 벡터로 encode해 주는 함수입니다. \n",
    "def get_encoded_sentences(sentences, word_to_index):\n",
    "    return [get_encoded_sentence(sentence, word_to_index) for sentence in sentences]\n",
    "\n",
    "# 숫자 벡터로 encode된 문장을 원래대로 decode하는 함수입니다. \n",
    "def get_decoded_sentence(encoded_sentence, index_to_word):\n",
    "    return ' '.join(index_to_word[index] if index in index_to_word else '<UNK>' for index in encoded_sentence[1:])  #[1:]를 통해 <BOS>를 제외\n",
    "\n",
    "# 여러 개의 숫자 벡터로 encode된 문장을 한꺼번에 원래대로 decode하는 함수입니다. \n",
    "def get_decoded_sentences(encoded_sentences, index_to_word):\n",
    "    return [get_decoded_sentence(encoded_sentence, index_to_word) for encoded_sentence in encoded_sentences]"
   ]
  },
  {
   "cell_type": "code",
   "execution_count": 11,
   "id": "a71e75f2",
   "metadata": {},
   "outputs": [],
   "source": [
    "encoded_X_train = get_encoded_sentences(X_train, word_to_index)\n",
    "encoded_X_test = get_encoded_sentences(X_test, word_to_index)"
   ]
  },
  {
   "cell_type": "code",
   "execution_count": 12,
   "id": "c43299ce",
   "metadata": {},
   "outputs": [
    {
     "data": {
      "text/plain": [
       "[[1, 27, 67, 895, 33, 214, 15, 28, 699],\n",
       " [1, 977, 481, 491, 636, 4, 110, 1554, 48, 866, 949, 11, 38, 364],\n",
       " [1, 19, 192, 2]]"
      ]
     },
     "execution_count": 12,
     "metadata": {},
     "output_type": "execute_result"
    }
   ],
   "source": [
    "encoded_X_train[:3]"
   ]
  },
  {
   "cell_type": "markdown",
   "id": "8a806cac",
   "metadata": {},
   "source": [
    "#### 문장 길이 통일"
   ]
  },
  {
   "cell_type": "code",
   "execution_count": 13,
   "id": "d6a11390",
   "metadata": {},
   "outputs": [
    {
     "name": "stdout",
     "output_type": "stream",
     "text": [
      "문장길이 평균 :  15.281090821597326\n",
      "문장길이 최대 :  106\n",
      "문장길이 표준편차 :  11.871926444036108\n",
      "pad_sequences maxlen :  39\n",
      "전체 문장의 0.9366588341293853%가 maxlen 설정값 이내에 포함됩니다. \n"
     ]
    }
   ],
   "source": [
    "total_data_text = list(encoded_X_train) + list(encoded_X_test)\n",
    "# 텍스트데이터 문장길이의 리스트를 생성한 후\n",
    "num_tokens = [len(tokens) for tokens in total_data_text]\n",
    "num_tokens = np.array(num_tokens)\n",
    "# 문장길이의 평균값, 최대값, 표준편차를 계산해 본다. \n",
    "print('문장길이 평균 : ', np.mean(num_tokens))\n",
    "print('문장길이 최대 : ', np.max(num_tokens))\n",
    "print('문장길이 표준편차 : ', np.std(num_tokens))\n",
    "\n",
    "# 예를들어, 최대 길이를 (평균 + 2*표준편차)로 한다면,  \n",
    "max_tokens = np.mean(num_tokens) + 2 * np.std(num_tokens)\n",
    "maxlen = int(max_tokens)\n",
    "print('pad_sequences maxlen : ', maxlen)\n",
    "print(f'전체 문장의 {np.sum(num_tokens < max_tokens) / len(num_tokens)}%가 maxlen 설정값 이내에 포함됩니다. ')"
   ]
  },
  {
   "cell_type": "code",
   "execution_count": 14,
   "id": "2fce92fd",
   "metadata": {},
   "outputs": [],
   "source": [
    "X_train = encoded_X_train\n",
    "X_test = encoded_X_test"
   ]
  },
  {
   "cell_type": "markdown",
   "id": "642d1c3a",
   "metadata": {},
   "source": [
    "### 데이터셋 분리\n",
    "padding 위치에 따라 post, pre로 구분"
   ]
  },
  {
   "cell_type": "code",
   "execution_count": 15,
   "id": "f521dff4",
   "metadata": {},
   "outputs": [
    {
     "name": "stdout",
     "output_type": "stream",
     "text": [
      "(146182, 39)\n",
      "(49157, 39)\n"
     ]
    }
   ],
   "source": [
    "import tensorflow as tf\n",
    "\n",
    "X_train_post = tf.keras.preprocessing.sequence.pad_sequences(X_train,\n",
    "                                                        value=word_to_index[\"<PAD>\"],\n",
    "                                                        padding='post', # 혹은 'pre'\n",
    "                                                        maxlen=maxlen)\n",
    "\n",
    "X_test_post = tf.keras.preprocessing.sequence.pad_sequences(X_test,\n",
    "                                                       value=word_to_index[\"<PAD>\"],\n",
    "                                                       padding='post', # 혹은 'pre'\n",
    "                                                       maxlen=maxlen)\n",
    "X_train_pre = tf.keras.preprocessing.sequence.pad_sequences(X_train,\n",
    "                                                        value=word_to_index[\"<PAD>\"],\n",
    "                                                        padding='post', # 혹은 'pre'\n",
    "                                                        maxlen=maxlen)\n",
    "\n",
    "X_test_pre = tf.keras.preprocessing.sequence.pad_sequences(X_test,\n",
    "                                                       value=word_to_index[\"<PAD>\"],\n",
    "                                                       padding='post', # 혹은 'pre'\n",
    "                                                       maxlen=maxlen)\n",
    "print(X_train_post.shape)\n",
    "print(X_test_post.shape)"
   ]
  },
  {
   "cell_type": "code",
   "execution_count": 16,
   "id": "e363b76c",
   "metadata": {},
   "outputs": [
    {
     "name": "stdout",
     "output_type": "stream",
     "text": [
      "(141182, 39)\n",
      "(141182,)\n"
     ]
    }
   ],
   "source": [
    "# validation set 5000건 분리\n",
    "X_val_post = X_train_post[:5000]   \n",
    "X_val_pre = X_train_pre[:5000]   \n",
    "y_val = y_train[:5000]\n",
    "\n",
    "# validation set을 제외한 나머지\n",
    "X_train_post = X_train_post[5000:]  \n",
    "X_train_pre = X_train_pre[5000:]  \n",
    "y_train = y_train[5000:]\n",
    "\n",
    "print(X_train_pre.shape)\n",
    "print(y_train.shape)"
   ]
  },
  {
   "cell_type": "markdown",
   "id": "70dc0b63",
   "metadata": {},
   "source": [
    "## Training"
   ]
  },
  {
   "cell_type": "markdown",
   "id": "6730771f",
   "metadata": {},
   "source": [
    "### 학습, 학습 결과 확인 함수 정의"
   ]
  },
  {
   "cell_type": "code",
   "execution_count": 17,
   "id": "60d1a7e6",
   "metadata": {},
   "outputs": [],
   "source": [
    "import matplotlib.pyplot as plt\n",
    "\n",
    "def train_model(model, epochs=20, \n",
    "                x_train=X_train_post, y_train=y_train, \n",
    "                x_val=X_val_post, y_val=y_val,\n",
    "                x_test=X_test_post, y_test=y_test):\n",
    "    callbacks_list = [\n",
    "    tf.keras.callbacks.EarlyStopping(\n",
    "        monitor=\"val_loss\",    # 검증 정확도 모니터링\n",
    "        patience=3,    # 세 번의 에포크동안 정확도 향상되지 않으면 훈련 중지\n",
    "    )]\n",
    "    model.compile(optimizer='adam',\n",
    "                  loss='binary_crossentropy',\n",
    "                  metrics=['accuracy'])\n",
    "\n",
    "    history = model.fit(x_train,\n",
    "                        y_train,\n",
    "                        epochs=epochs,\n",
    "                        batch_size=512,\n",
    "                        callbacks=callbacks_list,\n",
    "                        validation_data=(x_val, y_val),\n",
    "                        verbose=1)\n",
    "    results = model.evaluate(x_test,  y_test, verbose=2)\n",
    "    history_dict = history.history\n",
    "    return history_dict\n",
    "\n",
    "def plot_result(history_dict):\n",
    "    acc = history_dict['accuracy']\n",
    "    val_acc = history_dict['val_accuracy']\n",
    "    loss = history_dict['loss']\n",
    "    val_loss = history_dict['val_loss']\n",
    "\n",
    "    epochs = range(1, len(acc) + 1)\n",
    "\n",
    "    fig, axs = plt.subplots(1,2)\n",
    "    axs[0].plot(epochs, loss, 'bo', label='Training loss')\n",
    "    axs[0].plot(epochs, val_loss, 'b', label='Validation loss')\n",
    "    axs[0].set_title('Training and validation loss')\n",
    "    axs[0].set_xlabel('Epochs')\n",
    "    axs[0].set_ylabel('Loss')\n",
    "    axs[0].legend()\n",
    "    axs[1].plot(epochs, acc, 'ro', label='Training accuracy')\n",
    "    axs[1].plot(epochs, val_acc, 'r', label='Validation accuracy')\n",
    "    axs[1].set_title('Training and validation accuracy')\n",
    "    axs[1].set_xlabel('Epochs')\n",
    "    axs[1].set_ylabel('accuracy')\n",
    "    axs[1].legend()\n",
    "    \n",
    "    plt.tight_layout()\n",
    "    plt.show()"
   ]
  },
  {
   "cell_type": "markdown",
   "id": "9666ac1c",
   "metadata": {},
   "source": [
    "### 모델 생성"
   ]
  },
  {
   "cell_type": "markdown",
   "id": "609d0a5f",
   "metadata": {},
   "source": [
    "> 모델 선정 이유: 한국어 데이터셋과 IMDB 데이터셋 사이의 차이를 보고 싶어 학습 시 사용한 모델인 LSTM, GlobalMaxPooling1D, 1DConv를 사용했다.성능은 나쁘지 않았지만 과적합이 너무 빨리 일어나 드롭아웃을 추가하거나 층을 키우는 실험을 진행할 예정이다   \n",
    "\n",
    "\n",
    "> metrics 선정 이유: 긍/부정 이진 분류 문제이므로 정확도로 충분히 측정할 수 있다  \n",
    "\n",
    "\n",
    "> loss 선정 이유: 긍/부정 이진 분류 문제이므로 binary cross entropy loss가 적절하다"
   ]
  },
  {
   "cell_type": "code",
   "execution_count": 18,
   "id": "ba2fb343",
   "metadata": {},
   "outputs": [],
   "source": [
    "vocab_size = len(word_to_index)  # 어휘 사전의 크기\n",
    "word_vector_dim = 48   # 단어 하나를 표현하는 임베딩 벡터의 차원 수입니다. "
   ]
  },
  {
   "cell_type": "markdown",
   "id": "fb338df3",
   "metadata": {},
   "source": [
    "#### 1) LSTM"
   ]
  },
  {
   "cell_type": "code",
   "execution_count": 19,
   "id": "e2f254df",
   "metadata": {},
   "outputs": [
    {
     "name": "stdout",
     "output_type": "stream",
     "text": [
      "Model: \"sequential\"\n",
      "_________________________________________________________________\n",
      "Layer (type)                 Output Shape              Param #   \n",
      "=================================================================\n",
      "embedding (Embedding)        (None, None, 48)          480000    \n",
      "_________________________________________________________________\n",
      "lstm (LSTM)                  (None, 8)                 1824      \n",
      "_________________________________________________________________\n",
      "dense (Dense)                (None, 8)                 72        \n",
      "_________________________________________________________________\n",
      "dense_1 (Dense)              (None, 1)                 9         \n",
      "=================================================================\n",
      "Total params: 481,905\n",
      "Trainable params: 481,905\n",
      "Non-trainable params: 0\n",
      "_________________________________________________________________\n",
      "Epoch 1/20\n",
      "276/276 [==============================] - 5s 7ms/step - loss: 0.5173 - accuracy: 0.7267 - val_loss: 0.3572 - val_accuracy: 0.8452\n",
      "Epoch 2/20\n",
      "276/276 [==============================] - 1s 5ms/step - loss: 0.3492 - accuracy: 0.8495 - val_loss: 0.3426 - val_accuracy: 0.8468\n",
      "Epoch 3/20\n",
      "276/276 [==============================] - 1s 5ms/step - loss: 0.3252 - accuracy: 0.8586 - val_loss: 0.3418 - val_accuracy: 0.8480\n",
      "Epoch 4/20\n",
      "276/276 [==============================] - 1s 5ms/step - loss: 0.3117 - accuracy: 0.8640 - val_loss: 0.3466 - val_accuracy: 0.8458\n",
      "Epoch 5/20\n",
      "276/276 [==============================] - 1s 5ms/step - loss: 0.2969 - accuracy: 0.8700 - val_loss: 0.3457 - val_accuracy: 0.8526\n",
      "Epoch 6/20\n",
      "276/276 [==============================] - 1s 5ms/step - loss: 0.2818 - accuracy: 0.8744 - val_loss: 0.3524 - val_accuracy: 0.8476\n",
      "1537/1537 - 3s - loss: 0.3663 - accuracy: 0.8387\n"
     ]
    }
   ],
   "source": [
    "model = tf.keras.Sequential()\n",
    "model.add(tf.keras.layers.Embedding(vocab_size, word_vector_dim, input_shape=(None,)))\n",
    "model.add(tf.keras.layers.LSTM(8))   # 가장 널리 쓰이는 RNN인 LSTM 레이어를 사용하였습니다. 이때 LSTM state 벡터의 차원수는 8로 하였습니다. (변경 가능)\n",
    "model.add(tf.keras.layers.Dense(8, activation='relu'))\n",
    "model.add(tf.keras.layers.Dense(1, activation='sigmoid'))  # 최종 출력은 긍정/부정을 나타내는 1dim 입니다.\n",
    "\n",
    "model.summary()\n",
    "# LSTM은 RNN 계열이므로 앞쪽이 패딩인 데이터셋 선택\n",
    "history = train_model(model, x_train=X_train_pre, x_val=X_val_pre, x_test=X_test_pre)"
   ]
  },
  {
   "cell_type": "code",
   "execution_count": 20,
   "id": "8770dde5",
   "metadata": {},
   "outputs": [
    {
     "data": {
      "image/png": "[encoded data removed]",
      "text/plain": [
       "<Figure size 432x288 with 2 Axes>"
      ]
     },
     "metadata": {
      "needs_background": "light"
     },
     "output_type": "display_data"
    }
   ],
   "source": [
    "plot_result(history)"
   ]
  },
  {
   "cell_type": "markdown",
   "id": "52ec4d7c",
   "metadata": {},
   "source": [
    "#### 2) GlobalMaxPooling1D"
   ]
  },
  {
   "cell_type": "code",
   "execution_count": 21,
   "id": "287085de",
   "metadata": {},
   "outputs": [
    {
     "name": "stdout",
     "output_type": "stream",
     "text": [
      "Model: \"sequential_1\"\n",
      "_________________________________________________________________\n",
      "Layer (type)                 Output Shape              Param #   \n",
      "=================================================================\n",
      "embedding_1 (Embedding)      (None, None, 48)          480000    \n",
      "_________________________________________________________________\n",
      "global_max_pooling1d (Global (None, 48)                0         \n",
      "_________________________________________________________________\n",
      "dense_2 (Dense)              (None, 8)                 392       \n",
      "_________________________________________________________________\n",
      "dense_3 (Dense)              (None, 1)                 9         \n",
      "=================================================================\n",
      "Total params: 480,401\n",
      "Trainable params: 480,401\n",
      "Non-trainable params: 0\n",
      "_________________________________________________________________\n",
      "Epoch 1/20\n",
      "276/276 [==============================] - 2s 4ms/step - loss: 0.5060 - accuracy: 0.7922 - val_loss: 0.3577 - val_accuracy: 0.8402\n",
      "Epoch 2/20\n",
      "276/276 [==============================] - 1s 3ms/step - loss: 0.3381 - accuracy: 0.8547 - val_loss: 0.3370 - val_accuracy: 0.8496\n",
      "Epoch 3/20\n",
      "276/276 [==============================] - 1s 3ms/step - loss: 0.2983 - accuracy: 0.8740 - val_loss: 0.3380 - val_accuracy: 0.8518\n",
      "Epoch 4/20\n",
      "276/276 [==============================] - 1s 3ms/step - loss: 0.2696 - accuracy: 0.8885 - val_loss: 0.3458 - val_accuracy: 0.8516\n",
      "Epoch 5/20\n",
      "276/276 [==============================] - 1s 3ms/step - loss: 0.2440 - accuracy: 0.9013 - val_loss: 0.3579 - val_accuracy: 0.8520\n",
      "1537/1537 - 2s - loss: 0.3774 - accuracy: 0.8413\n"
     ]
    }
   ],
   "source": [
    "model = tf.keras.Sequential()\n",
    "model.add(tf.keras.layers.Embedding(vocab_size, word_vector_dim, input_shape=(None,)))\n",
    "model.add(tf.keras.layers.GlobalMaxPooling1D())\n",
    "model.add(tf.keras.layers.Dense(8, activation='relu'))\n",
    "model.add(tf.keras.layers.Dense(1, activation='sigmoid'))  # 최종 출력은 긍정/부정을 나타내는 1dim 입니다.\n",
    "\n",
    "model.summary()\n",
    "history = train_model(model)"
   ]
  },
  {
   "cell_type": "code",
   "execution_count": 22,
   "id": "c2bce89a",
   "metadata": {},
   "outputs": [
    {
     "data": {
      "image/png": "[encoded data removed]",
      "text/plain": [
       "<Figure size 432x288 with 2 Axes>"
      ]
     },
     "metadata": {
      "needs_background": "light"
     },
     "output_type": "display_data"
    }
   ],
   "source": [
    "plot_result(history)"
   ]
  },
  {
   "cell_type": "markdown",
   "id": "167ee1a0",
   "metadata": {},
   "source": [
    "#### 3) 1D CNN"
   ]
  },
  {
   "cell_type": "code",
   "execution_count": 23,
   "id": "8ee5cc4b",
   "metadata": {},
   "outputs": [
    {
     "name": "stdout",
     "output_type": "stream",
     "text": [
      "Model: \"sequential_2\"\n",
      "_________________________________________________________________\n",
      "Layer (type)                 Output Shape              Param #   \n",
      "=================================================================\n",
      "embedding_2 (Embedding)      (None, None, 48)          480000    \n",
      "_________________________________________________________________\n",
      "conv1d (Conv1D)              (None, None, 16)          2320      \n",
      "_________________________________________________________________\n",
      "max_pooling1d (MaxPooling1D) (None, None, 16)          0         \n",
      "_________________________________________________________________\n",
      "conv1d_1 (Conv1D)            (None, None, 16)          784       \n",
      "_________________________________________________________________\n",
      "global_max_pooling1d_1 (Glob (None, 16)                0         \n",
      "_________________________________________________________________\n",
      "dense_4 (Dense)              (None, 8)                 136       \n",
      "_________________________________________________________________\n",
      "dense_5 (Dense)              (None, 1)                 9         \n",
      "=================================================================\n",
      "Total params: 483,249\n",
      "Trainable params: 483,249\n",
      "Non-trainable params: 0\n",
      "_________________________________________________________________\n",
      "Epoch 1/20\n",
      "276/276 [==============================] - 3s 5ms/step - loss: 0.4704 - accuracy: 0.7826 - val_loss: 0.3446 - val_accuracy: 0.8480\n",
      "Epoch 2/20\n",
      "276/276 [==============================] - 1s 4ms/step - loss: 0.3212 - accuracy: 0.8629 - val_loss: 0.3357 - val_accuracy: 0.8570\n",
      "Epoch 3/20\n",
      "276/276 [==============================] - 1s 4ms/step - loss: 0.2825 - accuracy: 0.8827 - val_loss: 0.3379 - val_accuracy: 0.8512\n",
      "Epoch 4/20\n",
      "276/276 [==============================] - 1s 4ms/step - loss: 0.2466 - accuracy: 0.9011 - val_loss: 0.3533 - val_accuracy: 0.8456\n",
      "Epoch 5/20\n",
      "276/276 [==============================] - 1s 4ms/step - loss: 0.2094 - accuracy: 0.9196 - val_loss: 0.3798 - val_accuracy: 0.8454\n",
      "1537/1537 - 3s - loss: 0.3839 - accuracy: 0.8421\n"
     ]
    }
   ],
   "source": [
    "model = tf.keras.Sequential()\n",
    "model.add(tf.keras.layers.Embedding(vocab_size, word_vector_dim, input_shape=(None,)))\n",
    "model.add(tf.keras.layers.Conv1D(16, 3, activation='relu'))\n",
    "model.add(tf.keras.layers.MaxPooling1D(5))\n",
    "model.add(tf.keras.layers.Conv1D(16, 3, activation='relu'))\n",
    "model.add(tf.keras.layers.GlobalMaxPooling1D())\n",
    "model.add(tf.keras.layers.Dense(8, activation='relu'))\n",
    "model.add(tf.keras.layers.Dense(1, activation='sigmoid'))  # 최종 출력은 긍정/부정을 나타내는 1dim 입니다.\n",
    "\n",
    "model.summary()\n",
    "history = train_model(model)"
   ]
  },
  {
   "cell_type": "code",
   "execution_count": 24,
   "id": "ee48822f",
   "metadata": {},
   "outputs": [
    {
     "data": {
      "image/png": "[encoded data removed]",
      "text/plain": [
       "<Figure size 432x288 with 2 Axes>"
      ]
     },
     "metadata": {
      "needs_background": "light"
     },
     "output_type": "display_data"
    }
   ],
   "source": [
    "plot_result(history)"
   ]
  },
  {
   "cell_type": "markdown",
   "id": "dc9707dc",
   "metadata": {},
   "source": [
    "#### 4) 사전학습된 Word2Vec"
   ]
  },
  {
   "cell_type": "code",
   "execution_count": 25,
   "id": "88e8e622",
   "metadata": {},
   "outputs": [],
   "source": [
    "import gensim\n",
    "from gensim.models.word2vec import Word2Vec"
   ]
  },
  {
   "cell_type": "markdown",
   "id": "0cdd4261",
   "metadata": {},
   "source": [
    "자체학습한 임베딩"
   ]
  },
  {
   "cell_type": "code",
   "execution_count": 26,
   "id": "41e5f41f",
   "metadata": {},
   "outputs": [
    {
     "data": {
      "text/plain": [
       "<tf.Tensor: shape=(141182, 39, 100), dtype=float32, numpy=\n",
       "array([[[-0.01017096, -0.03516585, -0.02217015, ...,  0.04919832,\n",
       "          0.02379714,  0.01242942],\n",
       "        [-0.04012308,  0.00679787, -0.01911341, ...,  0.01014459,\n",
       "         -0.02384387,  0.03496636],\n",
       "        [ 0.04281007, -0.03982397, -0.01508315, ..., -0.00693763,\n",
       "          0.03822744, -0.00683923],\n",
       "        ...,\n",
       "        [ 0.03112039, -0.02390535,  0.0004514 , ..., -0.03534664,\n",
       "         -0.04254593,  0.00508695],\n",
       "        [ 0.03112039, -0.02390535,  0.0004514 , ..., -0.03534664,\n",
       "         -0.04254593,  0.00508695],\n",
       "        [ 0.03112039, -0.02390535,  0.0004514 , ..., -0.03534664,\n",
       "         -0.04254593,  0.00508695]],\n",
       "\n",
       "       [[-0.01017096, -0.03516585, -0.02217015, ...,  0.04919832,\n",
       "          0.02379714,  0.01242942],\n",
       "        [ 0.04880961, -0.00300268,  0.01130767, ..., -0.03454279,\n",
       "          0.04214593, -0.03934035],\n",
       "        [ 0.00555192, -0.03114006, -0.04828429, ...,  0.01557333,\n",
       "          0.04989955,  0.0160387 ],\n",
       "        ...,\n",
       "        [ 0.03112039, -0.02390535,  0.0004514 , ..., -0.03534664,\n",
       "         -0.04254593,  0.00508695],\n",
       "        [ 0.03112039, -0.02390535,  0.0004514 , ..., -0.03534664,\n",
       "         -0.04254593,  0.00508695],\n",
       "        [ 0.03112039, -0.02390535,  0.0004514 , ..., -0.03534664,\n",
       "         -0.04254593,  0.00508695]],\n",
       "\n",
       "       [[-0.01017096, -0.03516585, -0.02217015, ...,  0.04919832,\n",
       "          0.02379714,  0.01242942],\n",
       "        [ 0.03112039, -0.02390535,  0.0004514 , ..., -0.03534664,\n",
       "         -0.04254593,  0.00508695],\n",
       "        [ 0.03112039, -0.02390535,  0.0004514 , ..., -0.03534664,\n",
       "         -0.04254593,  0.00508695],\n",
       "        ...,\n",
       "        [ 0.03112039, -0.02390535,  0.0004514 , ..., -0.03534664,\n",
       "         -0.04254593,  0.00508695],\n",
       "        [ 0.03112039, -0.02390535,  0.0004514 , ..., -0.03534664,\n",
       "         -0.04254593,  0.00508695],\n",
       "        [ 0.03112039, -0.02390535,  0.0004514 , ..., -0.03534664,\n",
       "         -0.04254593,  0.00508695]],\n",
       "\n",
       "       ...,\n",
       "\n",
       "       [[-0.01017096, -0.03516585, -0.02217015, ...,  0.04919832,\n",
       "          0.02379714,  0.01242942],\n",
       "        [ 0.02570837,  0.04260621, -0.00522221, ...,  0.0219189 ,\n",
       "         -0.0415921 , -0.00463821],\n",
       "        [-0.0364671 ,  0.04817052,  0.03514134, ...,  0.03868188,\n",
       "         -0.01388543, -0.02464969],\n",
       "        ...,\n",
       "        [ 0.03112039, -0.02390535,  0.0004514 , ..., -0.03534664,\n",
       "         -0.04254593,  0.00508695],\n",
       "        [ 0.03112039, -0.02390535,  0.0004514 , ..., -0.03534664,\n",
       "         -0.04254593,  0.00508695],\n",
       "        [ 0.03112039, -0.02390535,  0.0004514 , ..., -0.03534664,\n",
       "         -0.04254593,  0.00508695]],\n",
       "\n",
       "       [[-0.01017096, -0.03516585, -0.02217015, ...,  0.04919832,\n",
       "          0.02379714,  0.01242942],\n",
       "        [ 0.02652832, -0.00847943,  0.03792145, ..., -0.03876264,\n",
       "         -0.0033948 ,  0.00374588],\n",
       "        [ 0.04880961, -0.00300268,  0.01130767, ..., -0.03454279,\n",
       "          0.04214593, -0.03934035],\n",
       "        ...,\n",
       "        [ 0.03112039, -0.02390535,  0.0004514 , ..., -0.03534664,\n",
       "         -0.04254593,  0.00508695],\n",
       "        [ 0.03112039, -0.02390535,  0.0004514 , ..., -0.03534664,\n",
       "         -0.04254593,  0.00508695],\n",
       "        [ 0.03112039, -0.02390535,  0.0004514 , ..., -0.03534664,\n",
       "         -0.04254593,  0.00508695]],\n",
       "\n",
       "       [[-0.01017096, -0.03516585, -0.02217015, ...,  0.04919832,\n",
       "          0.02379714,  0.01242942],\n",
       "        [-0.03380245, -0.02110988,  0.02374567, ...,  0.01957927,\n",
       "          0.02649366,  0.04020052],\n",
       "        [ 0.04880961, -0.00300268,  0.01130767, ..., -0.03454279,\n",
       "          0.04214593, -0.03934035],\n",
       "        ...,\n",
       "        [ 0.03112039, -0.02390535,  0.0004514 , ..., -0.03534664,\n",
       "         -0.04254593,  0.00508695],\n",
       "        [ 0.03112039, -0.02390535,  0.0004514 , ..., -0.03534664,\n",
       "         -0.04254593,  0.00508695],\n",
       "        [ 0.03112039, -0.02390535,  0.0004514 , ..., -0.03534664,\n",
       "         -0.04254593,  0.00508695]]], dtype=float32)>"
      ]
     },
     "execution_count": 26,
     "metadata": {},
     "output_type": "execute_result"
    }
   ],
   "source": [
    "word_vector_dim = 100    # 위 그림과 같이 100차원의 워드 벡터를 가정합니다. \n",
    "\n",
    "embedding = tf.keras.layers.Embedding(input_dim=vocab_size, output_dim=word_vector_dim, mask_zero=True)\n",
    "output = embedding(X_train_post)\n",
    "output"
   ]
  },
  {
   "cell_type": "markdown",
   "id": "0858d078",
   "metadata": {},
   "source": [
    "사전학습 임베딩"
   ]
  },
  {
   "cell_type": "code",
   "execution_count": 27,
   "id": "50f46c06",
   "metadata": {},
   "outputs": [
    {
     "name": "stdout",
     "output_type": "stream",
     "text": [
      "[('제발', 0.729351282119751), ('아빠', 0.7095760703086853), ('그래', 0.7061144709587097), ('프레이야', 0.6787638068199158), ('당신', 0.6776760220527649), ('우린', 0.6711584329605103), ('넌', 0.6700929403305054), ('록크', 0.6657940745353699), ('그대', 0.6610890626907349), ('너희', 0.6481916308403015)]\n"
     ]
    }
   ],
   "source": [
    "ko_word2vec_path = '/aiffel/aiffel/sentiment_classification/models/word2vec_ko.model'\n",
    "ko_model = Word2Vec.load(ko_word2vec_path)\n",
    "print(ko_model.wv.most_similar('너'))"
   ]
  },
  {
   "cell_type": "code",
   "execution_count": 28,
   "id": "57817022",
   "metadata": {},
   "outputs": [],
   "source": [
    "# 앞에서 학습했던 모델의 임베딩 레이어를 교체하여 다시 학습\n",
    "word_vector_dim = 100  # 워드 벡터의 차원수\n",
    "embedding_matrix = np.random.rand(vocab_size, word_vector_dim)\n",
    "\n",
    "# embedding_matrix에 Word2Vec 워드 벡터를 단어 하나씩마다 차례차례 카피한다.\n",
    "for i in range(4,vocab_size):\n",
    "    if index_to_word[i] in ko_model.wv:\n",
    "        embedding_matrix[i] = ko_model.wv[index_to_word[i]]"
   ]
  },
  {
   "cell_type": "code",
   "execution_count": 29,
   "id": "e6866c1b",
   "metadata": {},
   "outputs": [
    {
     "name": "stdout",
     "output_type": "stream",
     "text": [
      "Model: \"sequential_3\"\n",
      "_________________________________________________________________\n",
      "Layer (type)                 Output Shape              Param #   \n",
      "=================================================================\n",
      "embedding_4 (Embedding)      (None, 39, 100)           1000000   \n",
      "_________________________________________________________________\n",
      "conv1d_2 (Conv1D)            (None, 37, 16)            4816      \n",
      "_________________________________________________________________\n",
      "max_pooling1d_1 (MaxPooling1 (None, 7, 16)             0         \n",
      "_________________________________________________________________\n",
      "conv1d_3 (Conv1D)            (None, 5, 16)             784       \n",
      "_________________________________________________________________\n",
      "global_max_pooling1d_2 (Glob (None, 16)                0         \n",
      "_________________________________________________________________\n",
      "dense_6 (Dense)              (None, 8)                 136       \n",
      "_________________________________________________________________\n",
      "dense_7 (Dense)              (None, 1)                 9         \n",
      "=================================================================\n",
      "Total params: 1,005,745\n",
      "Trainable params: 1,005,745\n",
      "Non-trainable params: 0\n",
      "_________________________________________________________________\n",
      "Epoch 1/20\n",
      "276/276 [==============================] - 2s 6ms/step - loss: 0.6154 - accuracy: 0.6411 - val_loss: 0.5069 - val_accuracy: 0.7528\n",
      "Epoch 2/20\n",
      "276/276 [==============================] - 1s 5ms/step - loss: 0.4593 - accuracy: 0.7848 - val_loss: 0.4200 - val_accuracy: 0.8000\n",
      "Epoch 3/20\n",
      "276/276 [==============================] - 1s 5ms/step - loss: 0.3963 - accuracy: 0.8213 - val_loss: 0.3815 - val_accuracy: 0.8304\n",
      "Epoch 4/20\n",
      "276/276 [==============================] - 1s 5ms/step - loss: 0.3614 - accuracy: 0.8401 - val_loss: 0.3607 - val_accuracy: 0.8390\n",
      "Epoch 5/20\n",
      "276/276 [==============================] - 1s 5ms/step - loss: 0.3373 - accuracy: 0.8530 - val_loss: 0.3530 - val_accuracy: 0.8416\n",
      "Epoch 6/20\n",
      "276/276 [==============================] - 1s 5ms/step - loss: 0.3189 - accuracy: 0.8634 - val_loss: 0.3452 - val_accuracy: 0.8492\n",
      "Epoch 7/20\n",
      "276/276 [==============================] - 1s 5ms/step - loss: 0.3049 - accuracy: 0.8706 - val_loss: 0.3423 - val_accuracy: 0.8526\n",
      "Epoch 8/20\n",
      "276/276 [==============================] - 1s 5ms/step - loss: 0.2933 - accuracy: 0.8762 - val_loss: 0.3442 - val_accuracy: 0.8550\n",
      "Epoch 9/20\n",
      "276/276 [==============================] - 1s 5ms/step - loss: 0.2815 - accuracy: 0.8825 - val_loss: 0.3460 - val_accuracy: 0.8516\n",
      "Epoch 10/20\n",
      "276/276 [==============================] - 1s 5ms/step - loss: 0.2716 - accuracy: 0.8870 - val_loss: 0.3478 - val_accuracy: 0.8538\n",
      "1537/1537 - 3s - loss: 0.3722 - accuracy: 0.8384\n"
     ]
    }
   ],
   "source": [
    "from tensorflow.keras.initializers import Constant\n",
    "\n",
    "# 모델 구성\n",
    "model = tf.keras.Sequential()\n",
    "model.add(tf.keras.layers.Embedding(vocab_size, \n",
    "                                 word_vector_dim, \n",
    "                                 embeddings_initializer=Constant(embedding_matrix),  # 카피한 임베딩을 여기서 활용\n",
    "                                 input_length=maxlen, \n",
    "                                 trainable=True))   # trainable을 True로 주면 Fine-tuning\n",
    "model.add(tf.keras.layers.Conv1D(16, 3, activation='relu'))\n",
    "model.add(tf.keras.layers.MaxPooling1D(5))\n",
    "model.add(tf.keras.layers.Conv1D(16, 3, activation='relu'))\n",
    "model.add(tf.keras.layers.GlobalMaxPooling1D())\n",
    "model.add(tf.keras.layers.Dense(8, activation='relu'))\n",
    "model.add(tf.keras.layers.Dense(1, activation='sigmoid')) \n",
    "\n",
    "model.summary()\n",
    "history = train_model(model)"
   ]
  },
  {
   "cell_type": "code",
   "execution_count": 30,
   "id": "1216dffa",
   "metadata": {},
   "outputs": [
    {
     "data": {
      "image/png": "[encoded data removed]",
      "text/plain": [
       "<Figure size 432x288 with 2 Axes>"
      ]
     },
     "metadata": {
      "needs_background": "light"
     },
     "output_type": "display_data"
    }
   ],
   "source": [
    "plot_result(history)"
   ]
  },
  {
   "cell_type": "markdown",
   "id": "996f1e1e",
   "metadata": {},
   "source": [
    "드롭아웃 추가"
   ]
  },
  {
   "cell_type": "code",
   "execution_count": 31,
   "id": "1d35f312",
   "metadata": {},
   "outputs": [
    {
     "name": "stdout",
     "output_type": "stream",
     "text": [
      "Model: \"sequential_4\"\n",
      "_________________________________________________________________\n",
      "Layer (type)                 Output Shape              Param #   \n",
      "=================================================================\n",
      "embedding_5 (Embedding)      (None, 39, 100)           1000000   \n",
      "_________________________________________________________________\n",
      "conv1d_4 (Conv1D)            (None, 37, 16)            4816      \n",
      "_________________________________________________________________\n",
      "max_pooling1d_2 (MaxPooling1 (None, 7, 16)             0         \n",
      "_________________________________________________________________\n",
      "conv1d_5 (Conv1D)            (None, 5, 16)             784       \n",
      "_________________________________________________________________\n",
      "global_max_pooling1d_3 (Glob (None, 16)                0         \n",
      "_________________________________________________________________\n",
      "dense_8 (Dense)              (None, 8)                 136       \n",
      "_________________________________________________________________\n",
      "dropout (Dropout)            (None, 8)                 0         \n",
      "_________________________________________________________________\n",
      "dense_9 (Dense)              (None, 1)                 9         \n",
      "=================================================================\n",
      "Total params: 1,005,745\n",
      "Trainable params: 1,005,745\n",
      "Non-trainable params: 0\n",
      "_________________________________________________________________\n",
      "Epoch 1/20\n",
      "276/276 [==============================] - 2s 5ms/step - loss: 0.6981 - accuracy: 0.5138 - val_loss: 0.6733 - val_accuracy: 0.6378\n",
      "Epoch 2/20\n",
      "276/276 [==============================] - 1s 5ms/step - loss: 0.6305 - accuracy: 0.6004 - val_loss: 0.5296 - val_accuracy: 0.7682\n",
      "Epoch 3/20\n",
      "276/276 [==============================] - 1s 5ms/step - loss: 0.5618 - accuracy: 0.6817 - val_loss: 0.4518 - val_accuracy: 0.8108\n",
      "Epoch 4/20\n",
      "276/276 [==============================] - 1s 5ms/step - loss: 0.5290 - accuracy: 0.7069 - val_loss: 0.4203 - val_accuracy: 0.8262\n",
      "Epoch 5/20\n",
      "276/276 [==============================] - 1s 5ms/step - loss: 0.5125 - accuracy: 0.7171 - val_loss: 0.3983 - val_accuracy: 0.8308\n",
      "Epoch 6/20\n",
      "276/276 [==============================] - 1s 5ms/step - loss: 0.4998 - accuracy: 0.7257 - val_loss: 0.3823 - val_accuracy: 0.8388\n",
      "Epoch 7/20\n",
      "276/276 [==============================] - 1s 5ms/step - loss: 0.4912 - accuracy: 0.7311 - val_loss: 0.3770 - val_accuracy: 0.8440\n",
      "Epoch 8/20\n",
      "276/276 [==============================] - 1s 5ms/step - loss: 0.4835 - accuracy: 0.7336 - val_loss: 0.3680 - val_accuracy: 0.8442\n",
      "Epoch 9/20\n",
      "276/276 [==============================] - 1s 5ms/step - loss: 0.4782 - accuracy: 0.7378 - val_loss: 0.3701 - val_accuracy: 0.8478\n",
      "Epoch 10/20\n",
      "276/276 [==============================] - 1s 5ms/step - loss: 0.4736 - accuracy: 0.7415 - val_loss: 0.3637 - val_accuracy: 0.8538\n",
      "Epoch 11/20\n",
      "276/276 [==============================] - 1s 5ms/step - loss: 0.4686 - accuracy: 0.7414 - val_loss: 0.3529 - val_accuracy: 0.8502\n",
      "Epoch 12/20\n",
      "276/276 [==============================] - 1s 5ms/step - loss: 0.4637 - accuracy: 0.7450 - val_loss: 0.3519 - val_accuracy: 0.8504\n",
      "Epoch 13/20\n",
      "276/276 [==============================] - 1s 5ms/step - loss: 0.4499 - accuracy: 0.7637 - val_loss: 0.3543 - val_accuracy: 0.8508\n",
      "Epoch 14/20\n",
      "276/276 [==============================] - 1s 5ms/step - loss: 0.4303 - accuracy: 0.7874 - val_loss: 0.3462 - val_accuracy: 0.8538\n",
      "Epoch 15/20\n",
      "276/276 [==============================] - 1s 5ms/step - loss: 0.4256 - accuracy: 0.7906 - val_loss: 0.3509 - val_accuracy: 0.8512\n",
      "Epoch 16/20\n",
      "276/276 [==============================] - 1s 5ms/step - loss: 0.4218 - accuracy: 0.7927 - val_loss: 0.3507 - val_accuracy: 0.8498\n",
      "Epoch 17/20\n",
      "276/276 [==============================] - 1s 5ms/step - loss: 0.4182 - accuracy: 0.7948 - val_loss: 0.3493 - val_accuracy: 0.8518\n",
      "1537/1537 - 3s - loss: 0.3684 - accuracy: 0.8381\n"
     ]
    }
   ],
   "source": [
    "from tensorflow.keras.initializers import Constant\n",
    "\n",
    "# 모델 구성\n",
    "model = tf.keras.Sequential()\n",
    "model.add(tf.keras.layers.Embedding(vocab_size, \n",
    "                                 word_vector_dim, \n",
    "                                 embeddings_initializer=Constant(embedding_matrix),  # 카피한 임베딩을 여기서 활용\n",
    "                                 input_length=maxlen, \n",
    "                                 trainable=True))   # trainable을 True로 주면 Fine-tuning\n",
    "model.add(tf.keras.layers.Conv1D(16, 3, activation='relu'))\n",
    "model.add(tf.keras.layers.MaxPooling1D(5))\n",
    "model.add(tf.keras.layers.Conv1D(16, 3, activation='relu'))\n",
    "model.add(tf.keras.layers.GlobalMaxPooling1D())\n",
    "model.add(tf.keras.layers.Dense(8, activation='relu'))\n",
    "model.add(tf.keras.layers.Dropout(0.7))\n",
    "model.add(tf.keras.layers.Dense(1, activation='sigmoid')) \n",
    "\n",
    "model.summary()\n",
    "history = train_model(model)"
   ]
  },
  {
   "cell_type": "code",
   "execution_count": 32,
   "id": "3c8d2d30",
   "metadata": {},
   "outputs": [
    {
     "data": {
      "image/png": "[encoded data removed]",
      "text/plain": [
       "<Figure size 432x288 with 2 Axes>"
      ]
     },
     "metadata": {
      "needs_background": "light"
     },
     "output_type": "display_data"
    }
   ],
   "source": [
    "plot_result(history)"
   ]
  },
  {
   "cell_type": "markdown",
   "id": "41da358a",
   "metadata": {},
   "source": [
    "`LSTM`으로 레이어 변경"
   ]
  },
  {
   "cell_type": "code",
   "execution_count": 33,
   "id": "0ebc6e8b",
   "metadata": {},
   "outputs": [
    {
     "name": "stdout",
     "output_type": "stream",
     "text": [
      "Model: \"sequential_5\"\n",
      "_________________________________________________________________\n",
      "Layer (type)                 Output Shape              Param #   \n",
      "=================================================================\n",
      "embedding_6 (Embedding)      (None, 39, 100)           1000000   \n",
      "_________________________________________________________________\n",
      "lstm_1 (LSTM)                (None, 8)                 3488      \n",
      "_________________________________________________________________\n",
      "dense_10 (Dense)             (None, 8)                 72        \n",
      "_________________________________________________________________\n",
      "dense_11 (Dense)             (None, 1)                 9         \n",
      "=================================================================\n",
      "Total params: 1,003,569\n",
      "Trainable params: 1,003,569\n",
      "Non-trainable params: 0\n",
      "_________________________________________________________________\n",
      "Epoch 1/20\n",
      "276/276 [==============================] - 3s 7ms/step - loss: 0.6872 - accuracy: 0.5439 - val_loss: 0.6818 - val_accuracy: 0.5624\n",
      "Epoch 2/20\n",
      "276/276 [==============================] - 2s 6ms/step - loss: 0.5978 - accuracy: 0.6919 - val_loss: 0.5408 - val_accuracy: 0.7458\n",
      "Epoch 3/20\n",
      "276/276 [==============================] - 2s 6ms/step - loss: 0.4984 - accuracy: 0.7661 - val_loss: 0.4539 - val_accuracy: 0.7980\n",
      "Epoch 4/20\n",
      "276/276 [==============================] - 2s 6ms/step - loss: 0.4210 - accuracy: 0.8117 - val_loss: 0.4039 - val_accuracy: 0.8158\n",
      "Epoch 5/20\n",
      "276/276 [==============================] - 2s 6ms/step - loss: 0.3778 - accuracy: 0.8328 - val_loss: 0.3746 - val_accuracy: 0.8312\n",
      "Epoch 6/20\n",
      "276/276 [==============================] - 2s 5ms/step - loss: 0.3516 - accuracy: 0.8463 - val_loss: 0.3654 - val_accuracy: 0.8390\n",
      "Epoch 7/20\n",
      "276/276 [==============================] - 2s 6ms/step - loss: 0.3338 - accuracy: 0.8551 - val_loss: 0.3616 - val_accuracy: 0.8408\n",
      "Epoch 8/20\n",
      "276/276 [==============================] - 2s 5ms/step - loss: 0.3213 - accuracy: 0.8612 - val_loss: 0.3575 - val_accuracy: 0.8452\n",
      "Epoch 9/20\n",
      "276/276 [==============================] - 2s 6ms/step - loss: 0.3108 - accuracy: 0.8670 - val_loss: 0.3557 - val_accuracy: 0.8470\n",
      "Epoch 10/20\n",
      "276/276 [==============================] - 2s 6ms/step - loss: 0.3008 - accuracy: 0.8717 - val_loss: 0.3540 - val_accuracy: 0.8492\n",
      "Epoch 11/20\n",
      "276/276 [==============================] - 2s 6ms/step - loss: 0.2921 - accuracy: 0.8762 - val_loss: 0.3544 - val_accuracy: 0.8472\n",
      "Epoch 12/20\n",
      "276/276 [==============================] - 2s 6ms/step - loss: 0.2851 - accuracy: 0.8796 - val_loss: 0.3630 - val_accuracy: 0.8450\n",
      "Epoch 13/20\n",
      "276/276 [==============================] - 2s 5ms/step - loss: 0.2782 - accuracy: 0.8824 - val_loss: 0.3584 - val_accuracy: 0.8458\n",
      "1537/1537 - 3s - loss: 0.3677 - accuracy: 0.8415\n"
     ]
    }
   ],
   "source": [
    "model = tf.keras.Sequential()\n",
    "model.add(tf.keras.layers.Embedding(vocab_size, \n",
    "                                 word_vector_dim, \n",
    "                                 embeddings_initializer=Constant(embedding_matrix),  # 카피한 임베딩을 여기서 활용\n",
    "                                 input_length=maxlen, \n",
    "                                 trainable=True))   # trainable을 True로 주면 Fine-tuning\n",
    "model.add(tf.keras.layers.LSTM(8))   # 가장 널리 쓰이는 RNN인 LSTM 레이어를 사용하였습니다. 이때 LSTM state 벡터의 차원수는 8로 하였습니다. (변경 가능)\n",
    "model.add(tf.keras.layers.Dense(8, activation='relu'))\n",
    "model.add(tf.keras.layers.Dense(1, activation='sigmoid'))  # 최종 출력은 긍정/부정을 나타내는 1dim 입니다.\n",
    "\n",
    "model.summary()\n",
    "# LSTM은 RNN 계열이므로 앞쪽이 패딩인 데이터셋 선택\n",
    "history = train_model(model, x_train=X_train_pre, x_val=X_val_pre, x_test=X_test_pre)"
   ]
  },
  {
   "cell_type": "code",
   "execution_count": 34,
   "id": "10f83398",
   "metadata": {},
   "outputs": [
    {
     "data": {
      "image/png": "[encoded data removed]",
      "text/plain": [
       "<Figure size 432x288 with 2 Axes>"
      ]
     },
     "metadata": {
      "needs_background": "light"
     },
     "output_type": "display_data"
    }
   ],
   "source": [
    "plot_result(history)"
   ]
  },
  {
   "cell_type": "markdown",
   "id": "13d206d0",
   "metadata": {},
   "source": [
    "`GlobalMaxPooling1D`로 레이어 변경"
   ]
  },
  {
   "cell_type": "code",
   "execution_count": 35,
   "id": "d3317077",
   "metadata": {},
   "outputs": [
    {
     "name": "stdout",
     "output_type": "stream",
     "text": [
      "Model: \"sequential_6\"\n",
      "_________________________________________________________________\n",
      "Layer (type)                 Output Shape              Param #   \n",
      "=================================================================\n",
      "embedding_7 (Embedding)      (None, 39, 100)           1000000   \n",
      "_________________________________________________________________\n",
      "global_max_pooling1d_4 (Glob (None, 100)               0         \n",
      "_________________________________________________________________\n",
      "dense_12 (Dense)             (None, 8)                 808       \n",
      "_________________________________________________________________\n",
      "dense_13 (Dense)             (None, 1)                 9         \n",
      "=================================================================\n",
      "Total params: 1,000,817\n",
      "Trainable params: 1,000,817\n",
      "Non-trainable params: 0\n",
      "_________________________________________________________________\n",
      "Epoch 1/20\n",
      "276/276 [==============================] - 2s 4ms/step - loss: 0.7372 - accuracy: 0.4979 - val_loss: 0.6944 - val_accuracy: 0.4974\n",
      "Epoch 2/20\n",
      "276/276 [==============================] - 1s 4ms/step - loss: 0.6897 - accuracy: 0.5260 - val_loss: 0.6793 - val_accuracy: 0.5718\n",
      "Epoch 3/20\n",
      "276/276 [==============================] - 1s 4ms/step - loss: 0.6545 - accuracy: 0.6301 - val_loss: 0.6350 - val_accuracy: 0.6582\n",
      "Epoch 4/20\n",
      "276/276 [==============================] - 1s 4ms/step - loss: 0.6091 - accuracy: 0.6864 - val_loss: 0.5904 - val_accuracy: 0.7050\n",
      "Epoch 5/20\n",
      "276/276 [==============================] - 1s 4ms/step - loss: 0.5704 - accuracy: 0.7182 - val_loss: 0.5553 - val_accuracy: 0.7314\n",
      "Epoch 6/20\n",
      "276/276 [==============================] - 1s 4ms/step - loss: 0.5378 - accuracy: 0.7398 - val_loss: 0.5274 - val_accuracy: 0.7454\n",
      "Epoch 7/20\n",
      "276/276 [==============================] - 1s 4ms/step - loss: 0.5090 - accuracy: 0.7551 - val_loss: 0.5022 - val_accuracy: 0.7584\n",
      "Epoch 8/20\n",
      "276/276 [==============================] - 1s 4ms/step - loss: 0.4841 - accuracy: 0.7687 - val_loss: 0.4847 - val_accuracy: 0.7696\n",
      "Epoch 9/20\n",
      "276/276 [==============================] - 1s 4ms/step - loss: 0.4653 - accuracy: 0.7797 - val_loss: 0.4668 - val_accuracy: 0.7810\n",
      "Epoch 10/20\n",
      "276/276 [==============================] - 1s 4ms/step - loss: 0.4508 - accuracy: 0.7886 - val_loss: 0.4562 - val_accuracy: 0.7876\n",
      "Epoch 11/20\n",
      "276/276 [==============================] - 1s 4ms/step - loss: 0.4379 - accuracy: 0.7966 - val_loss: 0.4467 - val_accuracy: 0.7908\n",
      "Epoch 12/20\n",
      "276/276 [==============================] - 1s 4ms/step - loss: 0.4272 - accuracy: 0.8033 - val_loss: 0.4409 - val_accuracy: 0.7980\n",
      "Epoch 13/20\n",
      "276/276 [==============================] - 1s 4ms/step - loss: 0.4173 - accuracy: 0.8086 - val_loss: 0.4363 - val_accuracy: 0.7958\n",
      "Epoch 14/20\n",
      "276/276 [==============================] - 1s 4ms/step - loss: 0.4091 - accuracy: 0.8143 - val_loss: 0.4271 - val_accuracy: 0.8038\n",
      "Epoch 15/20\n",
      "276/276 [==============================] - 1s 4ms/step - loss: 0.4015 - accuracy: 0.8195 - val_loss: 0.4230 - val_accuracy: 0.8078\n",
      "Epoch 16/20\n",
      "276/276 [==============================] - 1s 4ms/step - loss: 0.3943 - accuracy: 0.8231 - val_loss: 0.4189 - val_accuracy: 0.8100\n",
      "Epoch 17/20\n",
      "276/276 [==============================] - 1s 4ms/step - loss: 0.3879 - accuracy: 0.8264 - val_loss: 0.4162 - val_accuracy: 0.8098\n",
      "Epoch 18/20\n",
      "276/276 [==============================] - 1s 4ms/step - loss: 0.3819 - accuracy: 0.8305 - val_loss: 0.4166 - val_accuracy: 0.8104\n",
      "Epoch 19/20\n",
      "276/276 [==============================] - 1s 4ms/step - loss: 0.3756 - accuracy: 0.8334 - val_loss: 0.4104 - val_accuracy: 0.8134\n",
      "Epoch 20/20\n",
      "276/276 [==============================] - 1s 4ms/step - loss: 0.3697 - accuracy: 0.8366 - val_loss: 0.4083 - val_accuracy: 0.8164\n",
      "1537/1537 - 2s - loss: 0.4247 - accuracy: 0.8054\n"
     ]
    }
   ],
   "source": [
    "model = tf.keras.Sequential()\n",
    "model.add(tf.keras.layers.Embedding(vocab_size, \n",
    "                                 word_vector_dim, \n",
    "                                 embeddings_initializer=Constant(embedding_matrix),  # 카피한 임베딩을 여기서 활용\n",
    "                                 input_length=maxlen, \n",
    "                                 trainable=True))   # trainable을 True로 주면 Fine-tuning\n",
    "model.add(tf.keras.layers.GlobalMaxPooling1D())\n",
    "model.add(tf.keras.layers.Dense(8, activation='relu'))\n",
    "model.add(tf.keras.layers.Dense(1, activation='sigmoid'))  # 최종 출력은 긍정/부정을 나타내는 1dim 입니다.\n",
    "\n",
    "model.summary()\n",
    "history = train_model(model)"
   ]
  },
  {
   "cell_type": "code",
   "execution_count": 36,
   "id": "151b5c49",
   "metadata": {},
   "outputs": [
    {
     "data": {
      "image/png": "[encoded data removed]",
      "text/plain": [
       "<Figure size 432x288 with 2 Axes>"
      ]
     },
     "metadata": {
      "needs_background": "light"
     },
     "output_type": "display_data"
    }
   ],
   "source": [
    "plot_result(history)"
   ]
  },
  {
   "cell_type": "markdown",
   "id": "f6a1315a",
   "metadata": {},
   "source": [
    "`LSTM`에 드롭아웃 추가"
   ]
  },
  {
   "cell_type": "code",
   "execution_count": 37,
   "id": "aa033b8f",
   "metadata": {},
   "outputs": [
    {
     "name": "stdout",
     "output_type": "stream",
     "text": [
      "Model: \"sequential_7\"\n",
      "_________________________________________________________________\n",
      "Layer (type)                 Output Shape              Param #   \n",
      "=================================================================\n",
      "embedding_8 (Embedding)      (None, 39, 100)           1000000   \n",
      "_________________________________________________________________\n",
      "lstm_2 (LSTM)                (None, 8)                 3488      \n",
      "_________________________________________________________________\n",
      "dense_14 (Dense)             (None, 8)                 72        \n",
      "_________________________________________________________________\n",
      "dropout_1 (Dropout)          (None, 8)                 0         \n",
      "_________________________________________________________________\n",
      "dense_15 (Dense)             (None, 1)                 9         \n",
      "=================================================================\n",
      "Total params: 1,003,569\n",
      "Trainable params: 1,003,569\n",
      "Non-trainable params: 0\n",
      "_________________________________________________________________\n",
      "Epoch 1/20\n",
      "276/276 [==============================] - 4s 9ms/step - loss: 0.6935 - accuracy: 0.5009 - val_loss: 0.6921 - val_accuracy: 0.4998\n",
      "Epoch 2/20\n",
      "276/276 [==============================] - 2s 6ms/step - loss: 0.6894 - accuracy: 0.5123 - val_loss: 0.6469 - val_accuracy: 0.6846\n",
      "Epoch 3/20\n",
      "276/276 [==============================] - 2s 6ms/step - loss: 0.6028 - accuracy: 0.6511 - val_loss: 0.4821 - val_accuracy: 0.8014\n",
      "Epoch 4/20\n",
      "276/276 [==============================] - 2s 6ms/step - loss: 0.5166 - accuracy: 0.7596 - val_loss: 0.4267 - val_accuracy: 0.8212\n",
      "Epoch 5/20\n",
      "276/276 [==============================] - 2s 6ms/step - loss: 0.4729 - accuracy: 0.7782 - val_loss: 0.3939 - val_accuracy: 0.8362\n",
      "Epoch 6/20\n",
      "276/276 [==============================] - 2s 6ms/step - loss: 0.4520 - accuracy: 0.7879 - val_loss: 0.3710 - val_accuracy: 0.8370\n",
      "Epoch 7/20\n",
      "276/276 [==============================] - 2s 6ms/step - loss: 0.4372 - accuracy: 0.7942 - val_loss: 0.3674 - val_accuracy: 0.8394\n",
      "Epoch 8/20\n",
      "276/276 [==============================] - 2s 6ms/step - loss: 0.4291 - accuracy: 0.7993 - val_loss: 0.3628 - val_accuracy: 0.8422\n",
      "Epoch 9/20\n",
      "276/276 [==============================] - 2s 6ms/step - loss: 0.4192 - accuracy: 0.8042 - val_loss: 0.3579 - val_accuracy: 0.8388\n",
      "Epoch 10/20\n",
      "276/276 [==============================] - 2s 6ms/step - loss: 0.4128 - accuracy: 0.8073 - val_loss: 0.3599 - val_accuracy: 0.8410\n",
      "Epoch 11/20\n",
      "276/276 [==============================] - 2s 6ms/step - loss: 0.4072 - accuracy: 0.8098 - val_loss: 0.3586 - val_accuracy: 0.8416\n",
      "Epoch 12/20\n",
      "276/276 [==============================] - 2s 6ms/step - loss: 0.4047 - accuracy: 0.8109 - val_loss: 0.3576 - val_accuracy: 0.8416\n",
      "Epoch 13/20\n",
      "276/276 [==============================] - 2s 6ms/step - loss: 0.3969 - accuracy: 0.8149 - val_loss: 0.3622 - val_accuracy: 0.8414\n",
      "Epoch 14/20\n",
      "276/276 [==============================] - 2s 6ms/step - loss: 0.3914 - accuracy: 0.8168 - val_loss: 0.3634 - val_accuracy: 0.8416\n",
      "Epoch 15/20\n",
      "276/276 [==============================] - 2s 6ms/step - loss: 0.3888 - accuracy: 0.8192 - val_loss: 0.3679 - val_accuracy: 0.8440\n",
      "1537/1537 - 3s - loss: 0.3719 - accuracy: 0.8365\n"
     ]
    }
   ],
   "source": [
    "model = tf.keras.Sequential()\n",
    "model.add(tf.keras.layers.Embedding(vocab_size, \n",
    "                                 word_vector_dim, \n",
    "                                 embeddings_initializer=Constant(embedding_matrix),  # 카피한 임베딩을 여기서 활용\n",
    "                                 input_length=maxlen, \n",
    "                                 trainable=True))   # trainable을 True로 주면 Fine-tuning\n",
    "model.add(tf.keras.layers.LSTM(8))   # 가장 널리 쓰이는 RNN인 LSTM 레이어를 사용하였습니다. 이때 LSTM state 벡터의 차원수는 8로 하였습니다. (변경 가능)\n",
    "model.add(tf.keras.layers.Dense(8, activation='relu'))\n",
    "model.add(tf.keras.layers.Dropout(0.7))\n",
    "model.add(tf.keras.layers.Dense(1, activation='sigmoid'))  # 최종 출력은 긍정/부정을 나타내는 1dim 입니다.\n",
    "\n",
    "model.summary()\n",
    "# LSTM은 RNN 계열이므로 앞쪽이 패딩인 데이터셋 선택\n",
    "history = train_model(model, x_train=X_train_pre, x_val=X_val_pre, x_test=X_test_pre)"
   ]
  },
  {
   "cell_type": "code",
   "execution_count": 38,
   "id": "a330c5f7",
   "metadata": {},
   "outputs": [
    {
     "data": {
      "image/png": "[encoded data removed]",
      "text/plain": [
       "<Figure size 432x288 with 2 Axes>"
      ]
     },
     "metadata": {
      "needs_background": "light"
     },
     "output_type": "display_data"
    }
   ],
   "source": [
    "plot_result(history)"
   ]
  }
 ],
 "metadata": {
  "kernelspec": {
   "display_name": "Python 3 (ipykernel)",
   "language": "python",
   "name": "python3"
  },
  "language_info": {
   "codemirror_mode": {
    "name": "ipython",
    "version": 3
   },
   "file_extension": ".py",
   "mimetype": "text/x-python",
   "name": "python",
   "nbconvert_exporter": "python",
   "pygments_lexer": "ipython3",
   "version": "3.9.7"
  }
 },
 "nbformat": 4,
 "nbformat_minor": 5
}
