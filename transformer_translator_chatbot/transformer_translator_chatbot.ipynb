{
 "cells": [
  {
   "cell_type": "code",
   "execution_count": 1,
   "id": "bd615f33",
   "metadata": {},
   "outputs": [
    {
     "name": "stdout",
     "output_type": "stream",
     "text": [
      "2.6.0\n"
     ]
    }
   ],
   "source": [
    "import numpy as np\n",
    "import pandas as pd\n",
    "import tensorflow as tf\n",
    "import nltk\n",
    "import sentencepiece as spm\n",
    "from nltk.translate.bleu_score import sentence_bleu\n",
    "from nltk.translate.bleu_score import SmoothingFunction\n",
    "\n",
    "import re\n",
    "import os\n",
    "import random\n",
    "import math\n",
    "\n",
    "from tqdm.notebook import tqdm\n",
    "import matplotlib.pyplot as plt\n",
    "\n",
    "print(tf.__version__)"
   ]
  },
  {
   "cell_type": "markdown",
   "id": "89bc5773",
   "metadata": {},
   "source": [
    "# 데이터"
   ]
  },
  {
   "cell_type": "markdown",
   "id": "bb0bc1a5",
   "metadata": {},
   "source": [
    "## 다운로드"
   ]
  },
  {
   "cell_type": "code",
   "execution_count": 2,
   "id": "9ff05cc1",
   "metadata": {},
   "outputs": [],
   "source": [
    "origin_data = pd.read_csv('./data/ChatbotData.csv')"
   ]
  },
  {
   "cell_type": "code",
   "execution_count": 3,
   "id": "02fa7518",
   "metadata": {},
   "outputs": [
    {
     "data": {
      "text/html": [
       "<div>\n",
       "<style scoped>\n",
       "    .dataframe tbody tr th:only-of-type {\n",
       "        vertical-align: middle;\n",
       "    }\n",
       "\n",
       "    .dataframe tbody tr th {\n",
       "        vertical-align: top;\n",
       "    }\n",
       "\n",
       "    .dataframe thead th {\n",
       "        text-align: right;\n",
       "    }\n",
       "</style>\n",
       "<table border=\"1\" class=\"dataframe\">\n",
       "  <thead>\n",
       "    <tr style=\"text-align: right;\">\n",
       "      <th></th>\n",
       "      <th>Q</th>\n",
       "      <th>A</th>\n",
       "      <th>label</th>\n",
       "    </tr>\n",
       "  </thead>\n",
       "  <tbody>\n",
       "    <tr>\n",
       "      <th>0</th>\n",
       "      <td>12시 땡!</td>\n",
       "      <td>하루가 또 가네요.</td>\n",
       "      <td>0</td>\n",
       "    </tr>\n",
       "    <tr>\n",
       "      <th>1</th>\n",
       "      <td>1지망 학교 떨어졌어</td>\n",
       "      <td>위로해 드립니다.</td>\n",
       "      <td>0</td>\n",
       "    </tr>\n",
       "    <tr>\n",
       "      <th>2</th>\n",
       "      <td>3박4일 놀러가고 싶다</td>\n",
       "      <td>여행은 언제나 좋죠.</td>\n",
       "      <td>0</td>\n",
       "    </tr>\n",
       "    <tr>\n",
       "      <th>3</th>\n",
       "      <td>3박4일 정도 놀러가고 싶다</td>\n",
       "      <td>여행은 언제나 좋죠.</td>\n",
       "      <td>0</td>\n",
       "    </tr>\n",
       "    <tr>\n",
       "      <th>4</th>\n",
       "      <td>PPL 심하네</td>\n",
       "      <td>눈살이 찌푸려지죠.</td>\n",
       "      <td>0</td>\n",
       "    </tr>\n",
       "  </tbody>\n",
       "</table>\n",
       "</div>"
      ],
      "text/plain": [
       "                 Q            A  label\n",
       "0           12시 땡!   하루가 또 가네요.      0\n",
       "1      1지망 학교 떨어졌어    위로해 드립니다.      0\n",
       "2     3박4일 놀러가고 싶다  여행은 언제나 좋죠.      0\n",
       "3  3박4일 정도 놀러가고 싶다  여행은 언제나 좋죠.      0\n",
       "4          PPL 심하네   눈살이 찌푸려지죠.      0"
      ]
     },
     "execution_count": 3,
     "metadata": {},
     "output_type": "execute_result"
    }
   ],
   "source": [
    "origin_data.head()"
   ]
  },
  {
   "cell_type": "code",
   "execution_count": 4,
   "id": "f0a8484c",
   "metadata": {},
   "outputs": [
    {
     "name": "stdout",
     "output_type": "stream",
     "text": [
      "<class 'pandas.core.frame.DataFrame'>\n",
      "RangeIndex: 11823 entries, 0 to 11822\n",
      "Data columns (total 3 columns):\n",
      " #   Column  Non-Null Count  Dtype \n",
      "---  ------  --------------  ----- \n",
      " 0   Q       11823 non-null  object\n",
      " 1   A       11823 non-null  object\n",
      " 2   label   11823 non-null  int64 \n",
      "dtypes: int64(1), object(2)\n",
      "memory usage: 277.2+ KB\n"
     ]
    }
   ],
   "source": [
    "origin_data.info()"
   ]
  },
  {
   "cell_type": "code",
   "execution_count": 5,
   "id": "87d0e488",
   "metadata": {},
   "outputs": [],
   "source": [
    "questions = origin_data['Q']\n",
    "answers = origin_data['A']"
   ]
  },
  {
   "cell_type": "markdown",
   "id": "ccee7cd0",
   "metadata": {},
   "source": [
    "## 전처리"
   ]
  },
  {
   "cell_type": "code",
   "execution_count": 6,
   "id": "b4ea62f2",
   "metadata": {},
   "outputs": [],
   "source": [
    "def preprocess_sentence(sentence):\n",
    "    # 소문자로 변환\n",
    "    sentence = sentence.lower()\n",
    "    # 영문자, 한글, 숫자, 주요 특수문자만 살리기\n",
    "    sentence = re.sub(r'[^A-Za-zㄱ-ㅎ가-힣ㅏ-ㅣ0-9?.!,]', '', sentence)\n",
    "    return sentence"
   ]
  },
  {
   "cell_type": "code",
   "execution_count": 7,
   "id": "1aa8899b",
   "metadata": {},
   "outputs": [
    {
     "data": {
      "text/plain": [
       "'dk109sdㅇ마리단.?!'"
      ]
     },
     "execution_count": 7,
     "metadata": {},
     "output_type": "execute_result"
    }
   ],
   "source": [
    "preprocess_sentence(\"dk109sd\\]ㅇ마리단./~?!\")"
   ]
  },
  {
   "cell_type": "markdown",
   "id": "8238e952",
   "metadata": {},
   "source": [
    "## 토큰화"
   ]
  },
  {
   "cell_type": "code",
   "execution_count": 8,
   "id": "4095e697",
   "metadata": {},
   "outputs": [],
   "source": [
    "from konlpy.tag import Mecab\n",
    "    \n",
    "tokenizer = Mecab()\n",
    "def preprocess_tokeinze(sentence, tokenizer):\n",
    "    # 전처리\n",
    "    preprocessed = preprocess_sentence(sentence)\n",
    "    # 토큰화\n",
    "    return tokenizer.morphs(sentence)\n",
    "\n",
    "tokenized_que = []\n",
    "tokenized_ans = []\n",
    "\n",
    "for question, answer in zip(questions, answers):\n",
    "    tokenized_que.append(preprocess_tokeinze(question, tokenizer))\n",
    "    tokenized_ans.append(preprocess_tokeinze(answer, tokenizer))"
   ]
  },
  {
   "cell_type": "code",
   "execution_count": 9,
   "id": "8bb7220a",
   "metadata": {},
   "outputs": [
    {
     "data": {
      "image/png": "[encoded data removed]",
      "text/plain": [
       "<Figure size 432x288 with 2 Axes>"
      ]
     },
     "metadata": {
      "needs_background": "light"
     },
     "output_type": "display_data"
    }
   ],
   "source": [
    "lengths_que = list(map(len, tokenized_que))\n",
    "lengths_ans = list(map(len, tokenized_ans))\n",
    "fig, ax = plt.subplots(1, 2, constrained_layout=True)\n",
    "ax[0].hist(lengths_que)\n",
    "ax[1].hist(lengths_ans)\n",
    "plt.show()"
   ]
  },
  {
   "cell_type": "code",
   "execution_count": 10,
   "id": "4c920bda",
   "metadata": {},
   "outputs": [],
   "source": [
    "# 최대 길이 20으로 설정\n",
    "MAX_LEN = 20"
   ]
  },
  {
   "cell_type": "code",
   "execution_count": 11,
   "id": "ea5f78e0",
   "metadata": {},
   "outputs": [],
   "source": [
    "def find_duplicates(arr):\n",
    "    df = pd.DataFrame(arr)\n",
    "    duplicates = df.duplicated()\n",
    "    duplicate_idx = df.index[duplicates].tolist()\n",
    "    return duplicate_idx\n",
    "    \n",
    "def build_corpus(src, tgt, tokenizer, remove_duplicate=True):\n",
    "    # 전처리 및 토큰화\n",
    "    tokenized_src = []\n",
    "    tokenized_tgt = []\n",
    "\n",
    "    for src_sentence, tgt_sentence in zip(src, tgt):\n",
    "        tokenized_src.append(preprocess_tokeinze(src_sentence, tokenizer))\n",
    "        tokenized_tgt.append(preprocess_tokeinze(tgt_sentence, tokenizer))\n",
    "        \n",
    "    # 중복 처리\n",
    "    if remove_duplicate:\n",
    "        src_duplicate_idx = find_duplicates(tokenized_src)\n",
    "        tgt_duplicate_idx = find_duplicates(tokenized_tgt)\n",
    "        src_duplicate_idx.extend(tgt_duplicate_idx)\n",
    "        duplicate_idx = set(src_duplicate_idx)\n",
    "        result_src = [tokenized_src[i] for i in range(len(tokenized_src)) if i not in duplicate_idx]\n",
    "        result_tgt = [tokenized_tgt[i] for i in range(len(tokenized_tgt)) if i not in duplicate_idx]\n",
    "        return result_src, result_tgt\n",
    "    \n",
    "    return tokenized_src, tokenized_tgt      "
   ]
  },
  {
   "cell_type": "markdown",
   "id": "69412a2b",
   "metadata": {},
   "source": [
    "중복을 제거하는 것이 성능에 도움되는 지 모르겠음"
   ]
  },
  {
   "cell_type": "code",
   "execution_count": 12,
   "id": "b43ce76f",
   "metadata": {},
   "outputs": [],
   "source": [
    "que_corpus, ans_corpus = build_corpus(questions, answers, tokenizer)"
   ]
  },
  {
   "cell_type": "code",
   "execution_count": 13,
   "id": "bd8f3ac3",
   "metadata": {},
   "outputs": [
    {
     "name": "stdout",
     "output_type": "stream",
     "text": [
      "7653\n",
      "[['12', '시', '땡', '!'], ['1', '지망', '학교', '떨어졌', '어'], ['3', '박', '4', '일', '놀', '러', '가', '고', '싶', '다'], ['PPL', '심하', '네'], ['SD', '카드', '망가졌', '어']]\n",
      "7653\n",
      "[['하루', '가', '또', '가', '네요', '.'], ['위로', '해', '드립니다', '.'], ['여행', '은', '언제나', '좋', '죠', '.'], ['눈살', '이', '찌푸려', '지', '죠', '.'], ['다시', '새로', '사', '는', '게', '마음', '편해요', '.']]\n"
     ]
    }
   ],
   "source": [
    "print(len(que_corpus))\n",
    "print(que_corpus[:5])\n",
    "print(len(ans_corpus))\n",
    "print(ans_corpus[:5])"
   ]
  },
  {
   "cell_type": "markdown",
   "id": "5090f1be",
   "metadata": {},
   "source": [
    "## Augmentation\n",
    "https://github.com/Kyubyong/wordvectors?tab=readme-ov-file"
   ]
  },
  {
   "cell_type": "code",
   "execution_count": 14,
   "id": "89af552c",
   "metadata": {},
   "outputs": [
    {
     "name": "stdout",
     "output_type": "stream",
     "text": [
      "Requirement already satisfied: gensim==3.8.3 in /opt/conda/lib/python3.9/site-packages (3.8.3)\n",
      "Requirement already satisfied: scipy>=0.18.1 in /opt/conda/lib/python3.9/site-packages (from gensim==3.8.3) (1.7.1)\n",
      "Requirement already satisfied: six>=1.5.0 in /opt/conda/lib/python3.9/site-packages (from gensim==3.8.3) (1.16.0)\n",
      "Requirement already satisfied: numpy>=1.11.3 in /opt/conda/lib/python3.9/site-packages (from gensim==3.8.3) (1.22.2)\n",
      "Requirement already satisfied: smart-open>=1.8.1 in /opt/conda/lib/python3.9/site-packages (from gensim==3.8.3) (5.2.1)\n",
      "\u001b[33mWARNING: Running pip as the 'root' user can result in broken permissions and conflicting behaviour with the system package manager. It is recommended to use a virtual environment instead: https://pip.pypa.io/warnings/venv\u001b[0m\u001b[33m\n",
      "\u001b[0m"
     ]
    }
   ],
   "source": [
    "!pip install gensim==3.8.3"
   ]
  },
  {
   "cell_type": "code",
   "execution_count": 15,
   "id": "aae9d49b",
   "metadata": {},
   "outputs": [
    {
     "name": "stdout",
     "output_type": "stream",
     "text": [
      "3.8.3\n"
     ]
    }
   ],
   "source": [
    "import gensim\n",
    "print(gensim.__version__)"
   ]
  },
  {
   "cell_type": "code",
   "execution_count": 16,
   "id": "0c2a4583",
   "metadata": {},
   "outputs": [],
   "source": [
    "from gensim.models import Word2Vec\n",
    "\n",
    "# 저장된 Word2Vec 모델 파일 불러오기\n",
    "model = Word2Vec.load('./data/ko.bin')"
   ]
  },
  {
   "cell_type": "code",
   "execution_count": 17,
   "id": "a25ebe80",
   "metadata": {},
   "outputs": [],
   "source": [
    "def lexical_sub(tokens, wv):\n",
    "    selected_tok = random.choice(tokens)\n",
    "\n",
    "    result = \"\"\n",
    "    for tok in tokens:\n",
    "        if tok is selected_tok and tok in wv:\n",
    "            result += wv.most_similar(tok)[0][0] + \" \"\n",
    "\n",
    "        else:\n",
    "            result += tok + \" \"\n",
    "    \n",
    "    return result"
   ]
  },
  {
   "cell_type": "code",
   "execution_count": 18,
   "id": "dd02878f",
   "metadata": {},
   "outputs": [
    {
     "name": "stdout",
     "output_type": "stream",
     "text": [
      "7653\n",
      "7653\n"
     ]
    }
   ],
   "source": [
    "wv = model.wv\n",
    "new_que_corpus = []\n",
    "new_ans_corpus = []\n",
    "\n",
    "new_que_corpus.extend(que_corpus)\n",
    "new_ans_corpus.extend(ans_corpus)\n",
    "\n",
    "use_aug=False\n",
    "if use_aug:\n",
    "    for que, ans in tqdm(zip(que_corpus, ans_corpus), total=len(que_corpus)):\n",
    "        new_que_corpus.append(lexical_sub(que, wv))\n",
    "        new_ans_corpus.append(ans)\n",
    "        new_que_corpus.append(que)\n",
    "        new_ans_corpus.append(lexical_sub(ans, wv))\n",
    "\n",
    "print(len(new_que_corpus))\n",
    "print(len(new_ans_corpus))"
   ]
  },
  {
   "cell_type": "code",
   "execution_count": 19,
   "id": "8672c7fc",
   "metadata": {},
   "outputs": [
    {
     "name": "stdout",
     "output_type": "stream",
     "text": [
      "['하루', '가', '또', '가', '네요', '.']\n"
     ]
    }
   ],
   "source": [
    "print(new_ans_corpus[0])\n",
    "if use_aug:\n",
    "    # 증강된 데이터 확인\n",
    "    print(new_ans_corpus[len(ans_corpus)+1])"
   ]
  },
  {
   "cell_type": "markdown",
   "id": "14e65ddb",
   "metadata": {},
   "source": [
    "## 사전 구성"
   ]
  },
  {
   "cell_type": "code",
   "execution_count": 20,
   "id": "2ee1b6a5",
   "metadata": {},
   "outputs": [],
   "source": [
    "# 문자열을 리스트로 변환\n",
    "def str2list(tokens):\n",
    "    if not isinstance(tokens, list):\n",
    "        return tokens.split() \n",
    "    else:\n",
    "        return tokens\n",
    "    \n",
    "# 시작토큰, 종료토큰 추가\n",
    "def add_s_e_token(tokens):\n",
    "    # 리스트를 문자열로 변환\n",
    "    if isinstance(tokens, list):\n",
    "        tokens = ' '.join(tokens)\n",
    "    sentence = '<start> ' + tokens + ' <end>'\n",
    "    # 문자열을 리스트로 변환\n",
    "    return sentence.split()\n",
    "\n",
    "final_que_corpus = list(map(str2list, new_ans_corpus))\n",
    "final_ans_corpus = list(map(add_s_e_token, new_ans_corpus))"
   ]
  },
  {
   "cell_type": "code",
   "execution_count": 21,
   "id": "960a6a77",
   "metadata": {},
   "outputs": [
    {
     "name": "stdout",
     "output_type": "stream",
     "text": [
      "['<start>', '하루', '가', '또', '가', '네요', '.', '<end>']\n"
     ]
    }
   ],
   "source": [
    "print(final_ans_corpus[0])"
   ]
  },
  {
   "cell_type": "code",
   "execution_count": 22,
   "id": "570f16c0",
   "metadata": {},
   "outputs": [
    {
     "name": "stdout",
     "output_type": "stream",
     "text": [
      "3887\n"
     ]
    }
   ],
   "source": [
    "from collections import Counter\n",
    "\n",
    "words = np.concatenate(final_que_corpus).tolist() + np.concatenate(final_ans_corpus).tolist()\n",
    "\n",
    "counter = Counter(words)\n",
    "print(len(counter.most_common()))"
   ]
  },
  {
   "cell_type": "markdown",
   "id": "ef8ddee7",
   "metadata": {},
   "source": [
    "단어 개수가 많지 않으므로 그대로 사용"
   ]
  },
  {
   "cell_type": "code",
   "execution_count": 23,
   "id": "c74cedcf",
   "metadata": {},
   "outputs": [],
   "source": [
    "VOCAB_SIZE = len(counter.most_common())+2"
   ]
  },
  {
   "cell_type": "code",
   "execution_count": 24,
   "id": "9adc362d",
   "metadata": {},
   "outputs": [],
   "source": [
    "vocab = [key for key, _ in counter.most_common()]\n",
    "word2idx = {word:index+2 for index, word in enumerate(vocab)}    # 인덱스 0, 1은 패딩과 unk 토큰을 위해 비워둠\n",
    "word2idx['<pad>'] = 0\n",
    "word2idx['<unk>'] = 1"
   ]
  },
  {
   "cell_type": "markdown",
   "id": "02ce1d7f",
   "metadata": {},
   "source": [
    "## 벡터화"
   ]
  },
  {
   "cell_type": "code",
   "execution_count": 25,
   "id": "6c40243c",
   "metadata": {},
   "outputs": [],
   "source": [
    "enc_ndarray = [[word2idx.get(word, 1) for word in sentence] for sentence in final_que_corpus]\n",
    "dec_ndarray = [[word2idx.get(word, 1) for word in sentence] for sentence in final_ans_corpus]"
   ]
  },
  {
   "cell_type": "markdown",
   "id": "9d5838ac",
   "metadata": {},
   "source": [
    "### 패딩 적용"
   ]
  },
  {
   "cell_type": "code",
   "execution_count": 26,
   "id": "b76aad23",
   "metadata": {},
   "outputs": [],
   "source": [
    "enc = tf.keras.preprocessing.sequence.pad_sequences(enc_ndarray, maxlen=MAX_LEN, padding='post')\n",
    "dec = tf.keras.preprocessing.sequence.pad_sequences(dec_ndarray, maxlen=MAX_LEN, padding='post')"
   ]
  },
  {
   "cell_type": "markdown",
   "id": "097ffa9b",
   "metadata": {},
   "source": [
    "## 데이터셋 분할"
   ]
  },
  {
   "cell_type": "code",
   "execution_count": 27,
   "id": "5306a4e8",
   "metadata": {},
   "outputs": [
    {
     "name": "stdout",
     "output_type": "stream",
     "text": [
      "(6887, 20)\n",
      "(6887, 20)\n",
      "(766, 20)\n",
      "(766, 20)\n"
     ]
    }
   ],
   "source": [
    "from sklearn.model_selection import train_test_split\n",
    "\n",
    "enc_train, enc_val, dec_train, dec_val = train_test_split(enc, dec, test_size=0.1, random_state=123)\n",
    "\n",
    "print(enc_train.shape)\n",
    "print(dec_train.shape)\n",
    "print(enc_val.shape)\n",
    "print(dec_val.shape)"
   ]
  },
  {
   "cell_type": "markdown",
   "id": "bd602f1f",
   "metadata": {},
   "source": [
    "# 모델링\n",
    "트랜스포머 - Encoder와 Decoder 각각의 Embedding과 출력층의 Linear, 총 3개의 레이어가 Weight를 공유"
   ]
  },
  {
   "cell_type": "markdown",
   "id": "ea6683fd",
   "metadata": {},
   "source": [
    ">**모델 선정 이유**: 트랜스포머는 자연어처리 분야에서 좋은 성능을 내고 있기에 챗봇을 만들 때 사용하기 좋다. 다만, 사전학습된 트랜스포머 모델을 쓰면 더 좋은 성능을 낼 것으로 예상한다"
   ]
  },
  {
   "cell_type": "markdown",
   "id": "05b3085d",
   "metadata": {},
   "source": [
    "## positional encoding"
   ]
  },
  {
   "cell_type": "code",
   "execution_count": 28,
   "id": "c1a6a46c",
   "metadata": {},
   "outputs": [],
   "source": [
    "def positional_encoding(pos, d_model):\n",
    "    def cal_angle(position, i):\n",
    "        return position / np.power(10000, (2*(i//2)) / np.float32(d_model))\n",
    "\n",
    "    def get_posi_angle_vec(position):\n",
    "        return [cal_angle(position, i) for i in range(d_model)]\n",
    "\n",
    "    sinusoid_table = np.array([get_posi_angle_vec(pos_i) for pos_i in range(pos)])\n",
    "\n",
    "    sinusoid_table[:, 0::2] = np.sin(sinusoid_table[:, 0::2])\n",
    "    sinusoid_table[:, 1::2] = np.cos(sinusoid_table[:, 1::2])\n",
    "\n",
    "    return sinusoid_table"
   ]
  },
  {
   "cell_type": "markdown",
   "id": "10f05ce8",
   "metadata": {},
   "source": [
    "## Masking"
   ]
  },
  {
   "cell_type": "code",
   "execution_count": 29,
   "id": "ad94ef1c",
   "metadata": {},
   "outputs": [],
   "source": [
    "def generate_padding_mask(seq):\n",
    "    seq = tf.cast(tf.math.equal(seq, 0), tf.float32)\n",
    "    return seq[:, tf.newaxis, tf.newaxis, :]\n",
    "\n",
    "def generate_lookahead_mask(size):\n",
    "    mask = 1 - tf.linalg.band_part(tf.ones((size, size)), -1, 0)\n",
    "    return mask\n",
    "\n",
    "def generate_masks(src, tgt):\n",
    "    enc_mask = generate_padding_mask(src)\n",
    "    dec_enc_mask = generate_padding_mask(src)\n",
    "\n",
    "    dec_lookahead_mask = generate_lookahead_mask(tgt.shape[1])\n",
    "    dec_tgt_padding_mask = generate_padding_mask(tgt)\n",
    "    dec_mask = tf.maximum(dec_tgt_padding_mask, dec_lookahead_mask)\n",
    "\n",
    "    return enc_mask, dec_enc_mask, dec_mask"
   ]
  },
  {
   "cell_type": "markdown",
   "id": "d29f06b2",
   "metadata": {},
   "source": [
    "## Multi-Head Attention"
   ]
  },
  {
   "cell_type": "code",
   "execution_count": 30,
   "id": "e347d6ba",
   "metadata": {},
   "outputs": [],
   "source": [
    "class MultiHeadAttention(tf.keras.layers.Layer):\n",
    "    def __init__(self, d_model, num_heads):\n",
    "        super(MultiHeadAttention, self).__init__()\n",
    "        self.num_heads = num_heads\n",
    "        self.d_model = d_model\n",
    "        \n",
    "        self.depth = d_model // self.num_heads\n",
    "        \n",
    "        self.W_q = tf.keras.layers.Dense(d_model)\n",
    "        self.W_k = tf.keras.layers.Dense(d_model)\n",
    "        self.W_v = tf.keras.layers.Dense(d_model)\n",
    "        \n",
    "        self.linear = tf.keras.layers.Dense(d_model)\n",
    "\n",
    "    def scaled_dot_product_attention(self, Q, K, V, mask):\n",
    "        d_k = tf.cast(K.shape[-1], tf.float32)\n",
    "        QK = tf.matmul(Q, K, transpose_b=True)\n",
    "\n",
    "        scaled_qk = QK / tf.math.sqrt(d_k)\n",
    "\n",
    "        if mask is not None: scaled_qk += (mask * -1e9)  \n",
    "\n",
    "        attentions = tf.nn.softmax(scaled_qk, axis=-1)\n",
    "        out = tf.matmul(attentions, V)\n",
    "\n",
    "        return out, attentions\n",
    "        \n",
    "        \n",
    "    def split_heads(self, x):\n",
    "        bsz = x.shape[0]\n",
    "        split_x = tf.reshape(x, (bsz, -1, self.num_heads, self.depth))\n",
    "        split_x = tf.transpose(split_x, perm=[0, 2, 1, 3])\n",
    "\n",
    "        return split_x\n",
    "\n",
    "    def combine_heads(self, x):\n",
    "        bsz = x.shape[0]\n",
    "        combined_x = tf.transpose(x, perm=[0, 2, 1, 3])\n",
    "        combined_x = tf.reshape(combined_x, (bsz, -1, self.d_model))\n",
    "\n",
    "        return combined_x\n",
    "\n",
    "    \n",
    "    def call(self, Q, K, V, mask):\n",
    "        WQ = self.W_q(Q)\n",
    "        WK = self.W_k(K)\n",
    "        WV = self.W_v(V)\n",
    "        \n",
    "        WQ_splits = self.split_heads(WQ)\n",
    "        WK_splits = self.split_heads(WK)\n",
    "        WV_splits = self.split_heads(WV)\n",
    "        \n",
    "        out, attention_weights = self.scaled_dot_product_attention(\n",
    "            WQ_splits, WK_splits, WV_splits, mask)\n",
    "                        \n",
    "        out = self.combine_heads(out)\n",
    "        out = self.linear(out)\n",
    "            \n",
    "        return out, attention_weights"
   ]
  },
  {
   "cell_type": "markdown",
   "id": "f81485be",
   "metadata": {},
   "source": [
    "## Position-wise Feed Forward Network"
   ]
  },
  {
   "cell_type": "code",
   "execution_count": 31,
   "id": "50db2f04",
   "metadata": {},
   "outputs": [],
   "source": [
    "class PoswiseFeedForwardNet(tf.keras.layers.Layer):\n",
    "    def __init__(self, d_model, d_ff):\n",
    "        super(PoswiseFeedForwardNet, self).__init__()\n",
    "        self.d_model = d_model\n",
    "        self.d_ff = d_ff\n",
    "\n",
    "        self.fc1 = tf.keras.layers.Dense(d_ff, activation='relu')\n",
    "        self.fc2 = tf.keras.layers.Dense(d_model)\n",
    "\n",
    "    def call(self, x):\n",
    "        out = self.fc1(x)\n",
    "        out = self.fc2(out)\n",
    "            \n",
    "        return out"
   ]
  },
  {
   "cell_type": "markdown",
   "id": "94a996ac",
   "metadata": {},
   "source": [
    "## Encoder"
   ]
  },
  {
   "cell_type": "code",
   "execution_count": 32,
   "id": "7afd4bc4",
   "metadata": {},
   "outputs": [],
   "source": [
    "class EncoderLayer(tf.keras.layers.Layer):\n",
    "    def __init__(self, d_model, n_heads, d_ff, dropout):\n",
    "        super(EncoderLayer, self).__init__()\n",
    "\n",
    "        self.enc_self_attn = MultiHeadAttention(d_model, n_heads)\n",
    "        self.ffn = PoswiseFeedForwardNet(d_model, d_ff)\n",
    "\n",
    "        self.norm_1 = tf.keras.layers.LayerNormalization(epsilon=1e-6)\n",
    "        self.norm_2 = tf.keras.layers.LayerNormalization(epsilon=1e-6)\n",
    "\n",
    "        self.do = tf.keras.layers.Dropout(dropout)\n",
    "        \n",
    "    def call(self, x, mask):\n",
    "        '''\n",
    "        Multi-Head Attention\n",
    "        '''\n",
    "        residual = x\n",
    "        out = self.norm_1(x)\n",
    "        out, enc_attn = self.enc_self_attn(out, out, out, mask)\n",
    "        out = self.do(out)\n",
    "        out += residual\n",
    "        \n",
    "        '''\n",
    "        Position-Wise Feed Forward Network\n",
    "        '''\n",
    "        residual = out\n",
    "        out = self.norm_2(out)\n",
    "        out = self.ffn(out)\n",
    "        out = self.do(out)\n",
    "        out += residual\n",
    "        \n",
    "        return out, enc_attn"
   ]
  },
  {
   "cell_type": "code",
   "execution_count": 33,
   "id": "83cd3437",
   "metadata": {},
   "outputs": [],
   "source": [
    "class Encoder(tf.keras.Model):\n",
    "    def __init__(self,\n",
    "                    n_layers,\n",
    "                    d_model,\n",
    "                    n_heads,\n",
    "                    d_ff,\n",
    "                    dropout):\n",
    "        super(Encoder, self).__init__()\n",
    "        self.n_layers = n_layers\n",
    "        self.enc_layers = [EncoderLayer(d_model, n_heads, d_ff, dropout) \n",
    "                        for _ in range(n_layers)]\n",
    "    \n",
    "        self.do = tf.keras.layers.Dropout(dropout)\n",
    "        \n",
    "    def call(self, x, mask):\n",
    "        out = x\n",
    "    \n",
    "        enc_attns = list()\n",
    "        for i in range(self.n_layers):\n",
    "            out, enc_attn = self.enc_layers[i](out, mask)\n",
    "            enc_attns.append(enc_attn)\n",
    "        \n",
    "        return out, enc_attns"
   ]
  },
  {
   "cell_type": "markdown",
   "id": "1efb2c48",
   "metadata": {},
   "source": [
    "## Decoder"
   ]
  },
  {
   "cell_type": "code",
   "execution_count": 34,
   "id": "50fc1f8b",
   "metadata": {},
   "outputs": [],
   "source": [
    "class DecoderLayer(tf.keras.layers.Layer):\n",
    "    def __init__(self, d_model, num_heads, d_ff, dropout):\n",
    "        super(DecoderLayer, self).__init__()\n",
    "\n",
    "        self.dec_self_attn = MultiHeadAttention(d_model, num_heads)\n",
    "        self.enc_dec_attn = MultiHeadAttention(d_model, num_heads)\n",
    "\n",
    "        self.ffn = PoswiseFeedForwardNet(d_model, d_ff)\n",
    "\n",
    "        self.norm_1 = tf.keras.layers.LayerNormalization(epsilon=1e-6)\n",
    "        self.norm_2 = tf.keras.layers.LayerNormalization(epsilon=1e-6)\n",
    "        self.norm_3 = tf.keras.layers.LayerNormalization(epsilon=1e-6)\n",
    "\n",
    "        self.do = tf.keras.layers.Dropout(dropout)\n",
    "    \n",
    "    def call(self, x, enc_out, dec_enc_mask, padding_mask):\n",
    "        '''\n",
    "        Masked Multi-Head Attention\n",
    "        '''\n",
    "        residual = x\n",
    "        out = self.norm_1(x)\n",
    "        out, dec_attn = self.dec_self_attn(out, out, out, padding_mask)\n",
    "        out = self.do(out)\n",
    "        out += residual\n",
    "\n",
    "        '''\n",
    "        Multi-Head Attention\n",
    "        '''\n",
    "        residual = out\n",
    "        out = self.norm_2(out)\n",
    "        out, dec_enc_attn = self.enc_dec_attn(Q=out, K=enc_out, V=enc_out, mask=dec_enc_mask)\n",
    "        out = self.do(out)\n",
    "        out += residual\n",
    "        \n",
    "        '''\n",
    "        Position-Wise Feed Forward Network\n",
    "        '''\n",
    "        residual = out\n",
    "        out = self.norm_3(out)\n",
    "        out = self.ffn(out)\n",
    "        out = self.do(out)\n",
    "        out += residual\n",
    "\n",
    "        return out, dec_attn, dec_enc_attn"
   ]
  },
  {
   "cell_type": "code",
   "execution_count": 35,
   "id": "8c59d96b",
   "metadata": {},
   "outputs": [],
   "source": [
    "class Decoder(tf.keras.Model):\n",
    "    def __init__(self,\n",
    "                    n_layers,\n",
    "                    d_model,\n",
    "                    n_heads,\n",
    "                    d_ff,\n",
    "                    dropout):\n",
    "        super(Decoder, self).__init__()\n",
    "        self.n_layers = n_layers\n",
    "        self.dec_layers = [DecoderLayer(d_model, n_heads, d_ff, dropout) \n",
    "                            for _ in range(n_layers)]\n",
    "                            \n",
    "    def call(self, x, enc_out, dec_enc_mask, padding_mask):\n",
    "        out = x\n",
    "    \n",
    "        dec_attns = list()\n",
    "        dec_enc_attns = list()\n",
    "        for i in range(self.n_layers):\n",
    "            out, dec_attn, dec_enc_attn = \\\n",
    "            self.dec_layers[i](out, enc_out, dec_enc_mask, padding_mask)\n",
    "\n",
    "            dec_attns.append(dec_attn)\n",
    "            dec_enc_attns.append(dec_enc_attn)\n",
    "\n",
    "        return out, dec_attns, dec_enc_attns"
   ]
  },
  {
   "cell_type": "markdown",
   "id": "48e1efe8",
   "metadata": {},
   "source": [
    "## 전체 모델"
   ]
  },
  {
   "cell_type": "code",
   "execution_count": 36,
   "id": "ab592237",
   "metadata": {},
   "outputs": [],
   "source": [
    "class Transformer(tf.keras.Model):\n",
    "    def __init__(self,\n",
    "                    n_layers,\n",
    "                    d_model,\n",
    "                    n_heads,\n",
    "                    d_ff,\n",
    "                    src_vocab_size,\n",
    "                    tgt_vocab_size,\n",
    "                    pos_len,\n",
    "                    dropout=0.2,\n",
    "                    shared_fc=True,\n",
    "                    shared_emb=False):\n",
    "        super(Transformer, self).__init__()\n",
    "        \n",
    "        self.d_model = tf.cast(d_model, tf.float32)\n",
    "\n",
    "        if shared_emb:\n",
    "            self.enc_emb = self.dec_emb = \\\n",
    "            tf.keras.layers.Embedding(src_vocab_size, d_model)\n",
    "        else:\n",
    "            self.enc_emb = tf.keras.layers.Embedding(src_vocab_size, d_model)\n",
    "            self.dec_emb = tf.keras.layers.Embedding(tgt_vocab_size, d_model)\n",
    "\n",
    "        self.pos_encoding = positional_encoding(pos_len, d_model)\n",
    "        self.do = tf.keras.layers.Dropout(dropout)\n",
    "\n",
    "        self.encoder = Encoder(n_layers, d_model, n_heads, d_ff, dropout)\n",
    "        self.decoder = Decoder(n_layers, d_model, n_heads, d_ff, dropout)\n",
    "\n",
    "        self.fc = tf.keras.layers.Dense(tgt_vocab_size)\n",
    "\n",
    "        self.shared_fc = shared_fc\n",
    "\n",
    "        if shared_fc:\n",
    "            self.fc.set_weights(tf.transpose(self.dec_emb.weights))\n",
    "\n",
    "    def embedding(self, emb, x):\n",
    "        seq_len = x.shape[1]\n",
    "\n",
    "        out = emb(x)\n",
    "\n",
    "        if self.shared_fc: out *= tf.math.sqrt(self.d_model)\n",
    "\n",
    "        out += self.pos_encoding[np.newaxis, ...][:, :seq_len, :]\n",
    "        out = self.do(out)\n",
    "\n",
    "        return out\n",
    "\n",
    "        \n",
    "    def call(self, enc_in, dec_in, enc_mask, dec_enc_mask, dec_mask):\n",
    "        enc_in = self.embedding(self.enc_emb, enc_in)\n",
    "        dec_in = self.embedding(self.dec_emb, dec_in)\n",
    "\n",
    "        enc_out, enc_attns = self.encoder(enc_in, enc_mask)\n",
    "        \n",
    "        dec_out, dec_attns, dec_enc_attns = \\\n",
    "        self.decoder(dec_in, enc_out, dec_enc_mask, dec_mask)\n",
    "        \n",
    "        logits = self.fc(dec_out)\n",
    "        \n",
    "        return logits, enc_attns, dec_attns, dec_enc_attns"
   ]
  },
  {
   "cell_type": "markdown",
   "id": "4847b7d5",
   "metadata": {},
   "source": [
    "# 학습"
   ]
  },
  {
   "cell_type": "code",
   "execution_count": 37,
   "id": "9d45daa6",
   "metadata": {},
   "outputs": [
    {
     "name": "stdout",
     "output_type": "stream",
     "text": [
      "Requirement already satisfied: wandb==0.16.0 in /opt/conda/lib/python3.9/site-packages (0.16.0)\n",
      "Requirement already satisfied: GitPython!=3.1.29,>=1.0.0 in /opt/conda/lib/python3.9/site-packages (from wandb==0.16.0) (3.1.43)\n",
      "Requirement already satisfied: setproctitle in /opt/conda/lib/python3.9/site-packages (from wandb==0.16.0) (1.3.3)\n",
      "Requirement already satisfied: appdirs>=1.4.3 in /opt/conda/lib/python3.9/site-packages (from wandb==0.16.0) (1.4.4)\n",
      "Requirement already satisfied: Click!=8.0.0,>=7.1 in /opt/conda/lib/python3.9/site-packages (from wandb==0.16.0) (8.0.3)\n",
      "Requirement already satisfied: psutil>=5.0.0 in /opt/conda/lib/python3.9/site-packages (from wandb==0.16.0) (5.9.0)\n",
      "Requirement already satisfied: docker-pycreds>=0.4.0 in /opt/conda/lib/python3.9/site-packages (from wandb==0.16.0) (0.4.0)\n",
      "Requirement already satisfied: setuptools in /opt/conda/lib/python3.9/site-packages (from wandb==0.16.0) (60.9.3)\n",
      "Requirement already satisfied: protobuf!=4.21.0,<5,>=3.15.0 in /opt/conda/lib/python3.9/site-packages (from wandb==0.16.0) (3.19.4)\n",
      "Requirement already satisfied: requests<3,>=2.0.0 in /opt/conda/lib/python3.9/site-packages (from wandb==0.16.0) (2.26.0)\n",
      "Requirement already satisfied: typing-extensions in /opt/conda/lib/python3.9/site-packages (from wandb==0.16.0) (4.1.1)\n",
      "Requirement already satisfied: PyYAML in /opt/conda/lib/python3.9/site-packages (from wandb==0.16.0) (6.0)\n",
      "Requirement already satisfied: sentry-sdk>=1.0.0 in /opt/conda/lib/python3.9/site-packages (from wandb==0.16.0) (2.10.0)\n",
      "Requirement already satisfied: six>=1.4.0 in /opt/conda/lib/python3.9/site-packages (from docker-pycreds>=0.4.0->wandb==0.16.0) (1.16.0)\n",
      "Requirement already satisfied: gitdb<5,>=4.0.1 in /opt/conda/lib/python3.9/site-packages (from GitPython!=3.1.29,>=1.0.0->wandb==0.16.0) (4.0.11)\n",
      "Requirement already satisfied: idna<4,>=2.5 in /opt/conda/lib/python3.9/site-packages (from requests<3,>=2.0.0->wandb==0.16.0) (2.10)\n",
      "Requirement already satisfied: urllib3<1.27,>=1.21.1 in /opt/conda/lib/python3.9/site-packages (from requests<3,>=2.0.0->wandb==0.16.0) (1.26.19)\n",
      "Requirement already satisfied: charset-normalizer~=2.0.0 in /opt/conda/lib/python3.9/site-packages (from requests<3,>=2.0.0->wandb==0.16.0) (2.0.12)\n",
      "Requirement already satisfied: certifi>=2017.4.17 in /opt/conda/lib/python3.9/site-packages (from requests<3,>=2.0.0->wandb==0.16.0) (2021.10.8)\n",
      "Requirement already satisfied: smmap<6,>=3.0.1 in /opt/conda/lib/python3.9/site-packages (from gitdb<5,>=4.0.1->GitPython!=3.1.29,>=1.0.0->wandb==0.16.0) (5.0.1)\n",
      "\u001b[33mWARNING: Running pip as the 'root' user can result in broken permissions and conflicting behaviour with the system package manager. It is recommended to use a virtual environment instead: https://pip.pypa.io/warnings/venv\u001b[0m\u001b[33m\n",
      "\u001b[0m"
     ]
    }
   ],
   "source": [
    "!pip install wandb==0.16.0"
   ]
  },
  {
   "cell_type": "code",
   "execution_count": 38,
   "id": "df465b65",
   "metadata": {},
   "outputs": [],
   "source": [
    "import wandb\n",
    "\n",
    "sweep_config = {\n",
    "    'method': 'random',\n",
    "    'metric': {\n",
    "        'name': 'loss',\n",
    "        'goal': 'minimize'\n",
    "    },\n",
    "    'parameters': {\n",
    "        'epoch' : {\n",
    "            'distribution' : 'int_uniform',\n",
    "            'min' : 2,\n",
    "            'max' : 5\n",
    "        },\n",
    "        'embedding_dim': {\n",
    "            'values': [64, 128, 256]\n",
    "        },\n",
    "        'units': {\n",
    "            'values': [256, 512, 1024, 2048]\n",
    "        },\n",
    "        'dropout_rate': {\n",
    "            'values': [0, 0.1, 0.3]\n",
    "        },\n",
    "        'n_layers': {\n",
    "            'values': [1, 2]\n",
    "        },\n",
    "        'd_model': {\n",
    "            'values': [128, 256, 512]\n",
    "        },\n",
    "        'n_heads': {\n",
    "            'values': [2, 4, 8]\n",
    "        }\n",
    "    }\n",
    "}"
   ]
  },
  {
   "attachments": {
    "image-2.png": {
     "image/png": "[encoded data removed]"
    },
    "image.png": {
     "image/png": "[encoded data removed]"
    }
   },
   "cell_type": "markdown",
   "id": "bad098ec",
   "metadata": {},
   "source": [
    "```\n",
    "n_layers = 2\n",
    "d_model = 512\n",
    "n_heads = 8\n",
    "d_ff = 2048\n",
    "dropout=0.3\n",
    "shared_fc=True\n",
    "shared_emb=True\n",
    "EPOCHS = 3\n",
    "```\n",
    "![image.png](attachment:image.png)\n",
    "\n",
    "```\n",
    "BATCH_SIZE = 64\n",
    "n_layers = 2\n",
    "d_model = 256\n",
    "n_heads = 4\n",
    "d_ff = 1024\n",
    "dropout=0.3\n",
    "shared_fc=True\n",
    "shared_emb=True\n",
    "EPOCHS = 3\n",
    "```\n",
    "![image-2.png](attachment:image-2.png)"
   ]
  },
  {
   "cell_type": "code",
   "execution_count": 39,
   "id": "9e53ba26",
   "metadata": {},
   "outputs": [],
   "source": [
    "# 데이터셋 구성\n",
    "BATCH_SIZE = 64\n",
    "train_dataset = tf.data.Dataset.from_tensor_slices((enc_train, dec_train)).batch(batch_size=BATCH_SIZE)\n",
    "train_dataset = train_dataset.shuffle(buffer_size=3000, seed=123)\n",
    "\n",
    "valid_dataset = tf.data.Dataset.from_tensor_slices((enc_val, dec_val)).batch(batch_size=BATCH_SIZE)\n",
    "valid_dataset = train_dataset.shuffle(buffer_size=1000, seed=123)"
   ]
  },
  {
   "cell_type": "markdown",
   "id": "39e88f6e",
   "metadata": {},
   "source": [
    "## 학습률 스케쥴러"
   ]
  },
  {
   "cell_type": "code",
   "execution_count": 40,
   "id": "11daf0fa",
   "metadata": {},
   "outputs": [],
   "source": [
    "class LearningRateScheduler(tf.keras.optimizers.schedules.LearningRateSchedule):\n",
    "    def __init__(self, d_model, warmup_steps=4000):\n",
    "        super(LearningRateScheduler, self).__init__()\n",
    "        \n",
    "        self.d_model = d_model\n",
    "        self.warmup_steps = warmup_steps\n",
    "    \n",
    "    def __call__(self, step):\n",
    "        arg1 = step ** -0.5\n",
    "        arg2 = step * (self.warmup_steps ** -1.5)\n",
    "        \n",
    "        return (self.d_model ** -0.5) * tf.math.minimum(arg1, arg2)"
   ]
  },
  {
   "cell_type": "markdown",
   "id": "6d22d527",
   "metadata": {},
   "source": [
    "## 손실함수"
   ]
  },
  {
   "cell_type": "code",
   "execution_count": 41,
   "id": "693c05e4",
   "metadata": {},
   "outputs": [],
   "source": [
    "loss_object = tf.keras.losses.SparseCategoricalCrossentropy(\n",
    "    from_logits=True, reduction='none')\n",
    "\n",
    "def loss_function(real, pred):\n",
    "    mask = tf.math.logical_not(tf.math.equal(real, 0))\n",
    "    loss_ = loss_object(real, pred)\n",
    "\n",
    "    mask = tf.cast(mask, dtype=loss_.dtype)\n",
    "    loss_ *= mask\n",
    "\n",
    "    return tf.reduce_sum(loss_)/tf.reduce_sum(mask)"
   ]
  },
  {
   "cell_type": "markdown",
   "id": "d8b755a2",
   "metadata": {},
   "source": [
    ">**loss 선정 이유**: SparseCategoricalCrossentropy() 함수를 사용해 단어장의 단어 중 선택하는 다중 클래스 분류의 loss를 활용함. 또한 loss_function을 따로 정의하여 패딩에 대한 처리를 해 줌"
   ]
  },
  {
   "cell_type": "markdown",
   "id": "e3cd4d83",
   "metadata": {},
   "source": [
    "## 훈련"
   ]
  },
  {
   "cell_type": "code",
   "execution_count": 56,
   "id": "e489a378",
   "metadata": {},
   "outputs": [],
   "source": [
    "def valid_step(src, tgt, model):\n",
    "    tgt_in = tgt[:, :-1]\n",
    "    gold = tgt[:, 1:]\n",
    "\n",
    "    enc_mask, dec_enc_mask, dec_mask = generate_masks(src, tgt_in)\n",
    "\n",
    "    predictions, enc_attns, dec_attns, dec_enc_attns = model(\n",
    "        src, tgt_in, enc_mask, dec_enc_mask, dec_mask\n",
    "    )\n",
    "\n",
    "    # 검증 손실 계산\n",
    "    loss = loss_function(gold, predictions)\n",
    "\n",
    "    return loss"
   ]
  },
  {
   "cell_type": "code",
   "execution_count": 57,
   "id": "926fb8d8",
   "metadata": {},
   "outputs": [],
   "source": [
    "def train_step(src, tgt, model, optimizer):\n",
    "    tgt_in = tgt[:, :-1]  # Decoder의 input\n",
    "    gold = tgt[:, 1:]     # Decoder의 output과 비교하기 위해 right shift를 통해 생성한 최종 타겟\n",
    "\n",
    "    enc_mask, dec_enc_mask, dec_mask = generate_masks(src, tgt_in)\n",
    "\n",
    "    with tf.GradientTape() as tape:\n",
    "        predictions, enc_attns, dec_attns, dec_enc_attns = \\\n",
    "        model(src, tgt_in, enc_mask, dec_enc_mask, dec_mask)\n",
    "        loss = loss_function(gold, predictions)\n",
    "\n",
    "    gradients = tape.gradient(loss, model.trainable_variables)    \n",
    "    optimizer.apply_gradients(zip(gradients, model.trainable_variables))\n",
    "\n",
    "    return loss, enc_attns, dec_attns, dec_enc_attns"
   ]
  },
  {
   "cell_type": "code",
   "execution_count": 62,
   "id": "c1ca31b1",
   "metadata": {},
   "outputs": [],
   "source": [
    "def wandb_train():\n",
    "    wandb.init()\n",
    "    \n",
    "    config = wandb.config\n",
    "\n",
    "    shared_fc=True\n",
    "    shared_emb=True\n",
    "    \n",
    "    # 모델 정의\n",
    "    transformer = Transformer(\n",
    "        config.n_layers, config.d_model, config.n_heads, config.units, \n",
    "        VOCAB_SIZE, VOCAB_SIZE, MAX_LEN, config.dropout_rate, shared_fc, shared_emb)\n",
    "    \n",
    "    # optimizer 정의\n",
    "    learning_rate = LearningRateScheduler(config.d_model)\n",
    "\n",
    "    optimizer = tf.keras.optimizers.Adam(learning_rate,\n",
    "                                        beta_1=0.9,\n",
    "                                        beta_2=0.98, \n",
    "                                        epsilon=1e-9)\n",
    "    \n",
    "    # early stopping을 위함 \n",
    "    best_val_loss = np.inf    \n",
    "    \n",
    "    EPOCHS = 5\n",
    "    for epoch in range(EPOCHS):\n",
    "        # train loss 계산\n",
    "        total_loss = 0\n",
    "\n",
    "        dataset_count = tf.data.experimental.cardinality(train_dataset).numpy()\n",
    "        tqdm_bar = tqdm(train_dataset, total=dataset_count)\n",
    "\n",
    "        for i, (enc_train, dec_train) in enumerate(tqdm_bar):\n",
    "            batch_loss, enc_attns, dec_attns, dec_enc_attns = \\\n",
    "                        train_step(enc_train, dec_train, transformer, optimizer)\n",
    "            total_loss += batch_loss\n",
    "            wandb.log({'batch_loss': batch_loss.numpy()})\n",
    "            tqdm_bar.set_description_str('Epoch %2d' % (epoch + 1))\n",
    "            tqdm_bar.set_postfix(Loss=f'{total_loss / (i + 1):.4f}') \n",
    "\n",
    "        train_loss = total_loss / (i + 1)\n",
    "        wandb.log({'epoch': epoch + 1, 'train_loss': train_loss.numpy()})\n",
    "\n",
    "        # validation loss 계산\n",
    "        val_total_loss = 0\n",
    "        \n",
    "        val_dataset_count = tf.data.experimental.cardinality(valid_dataset).numpy()\n",
    "        val_tqdm_bar = tqdm(valid_dataset, total=val_dataset_count)\n",
    "        \n",
    "        for i, (enc_val, dec_val) in enumerate(val_tqdm_bar):\n",
    "            val_batch_loss = valid_step(enc_val, dec_val, transformer)\n",
    "\n",
    "            val_total_loss += val_batch_loss\n",
    "            wandb.log({'val_batch_loss': val_batch_loss.numpy()})\n",
    "            tqdm_bar.set_postfix({'Valid Loss': val_total_loss / (i + 1)})\n",
    "\n",
    "        val_loss = val_total_loss / (i + 1)\n",
    "        wandb.log({'val_loss': val_loss.numpy()})\n",
    "\n",
    "        # Early Stopping\n",
    "        # 현재 val_loss가 이전 val_loss 보다 좋을 때만 학습 계속 진행\n",
    "        if val_loss < best_val_loss:\n",
    "            best_val_loss = val_loss\n",
    "            # 매 epoch마다 모델 저장\n",
    "            model_save_path = os.path.join(wandb.run.dir, f'transformer_{epoch+1}')\n",
    "            transformer.save(model_save_path, save_format='tf')\n",
    "\n",
    "            # 저장한 모델을 wandb에 저장\n",
    "            wandb.save(model_save_path)\n",
    "        else:\n",
    "            print(f\"Early stopping at epoch {epoch + 1} due to validation loss increase.\")\n",
    "            break\n",
    "\n",
    "    # run 끝내기\n",
    "    wandb.finish()"
   ]
  },
  {
   "cell_type": "code",
   "execution_count": 63,
   "id": "7f5b570c",
   "metadata": {},
   "outputs": [
    {
     "name": "stdout",
     "output_type": "stream",
     "text": [
      "Create sweep with ID: itkw97un\n",
      "Sweep URL: https://wandb.ai/4-rldur0/transformer_chatbot/sweeps/itkw97un\n"
     ]
    },
    {
     "name": "stderr",
     "output_type": "stream",
     "text": [
      "\u001b[34m\u001b[1mwandb\u001b[0m: Agent Starting Run: m5jruwxe with config:\n",
      "\u001b[34m\u001b[1mwandb\u001b[0m: \td_model: 128\n",
      "\u001b[34m\u001b[1mwandb\u001b[0m: \tdropout_rate: 0\n",
      "\u001b[34m\u001b[1mwandb\u001b[0m: \tembedding_dim: 256\n",
      "\u001b[34m\u001b[1mwandb\u001b[0m: \tepoch: 5\n",
      "\u001b[34m\u001b[1mwandb\u001b[0m: \tn_heads: 8\n",
      "\u001b[34m\u001b[1mwandb\u001b[0m: \tn_layers: 1\n",
      "\u001b[34m\u001b[1mwandb\u001b[0m: \tunits: 256\n"
     ]
    },
    {
     "data": {
      "text/html": [
       "wandb version 0.17.4 is available!  To upgrade, please run:\n",
       " $ pip install wandb --upgrade"
      ],
      "text/plain": [
       "<IPython.core.display.HTML object>"
      ]
     },
     "metadata": {},
     "output_type": "display_data"
    },
    {
     "data": {
      "text/html": [
       "Tracking run with wandb version 0.16.0"
      ],
      "text/plain": [
       "<IPython.core.display.HTML object>"
      ]
     },
     "metadata": {},
     "output_type": "display_data"
    },
    {
     "data": {
      "text/html": [
       "Run data is saved locally in <code>/aiffel/aiffel/project/transformer_translator_chatbot/wandb/run-20240716_095239-m5jruwxe</code>"
      ],
      "text/plain": [
       "<IPython.core.display.HTML object>"
      ]
     },
     "metadata": {},
     "output_type": "display_data"
    },
    {
     "data": {
      "text/html": [
       "Syncing run <strong><a href='https://wandb.ai/4-rldur0/transformer_chatbot/runs/m5jruwxe' target=\"_blank\">astral-sweep-1</a></strong> to <a href='https://wandb.ai/4-rldur0/transformer_chatbot' target=\"_blank\">Weights & Biases</a> (<a href='https://wandb.me/run' target=\"_blank\">docs</a>)<br/>Sweep page: <a href='https://wandb.ai/4-rldur0/transformer_chatbot/sweeps/itkw97un' target=\"_blank\">https://wandb.ai/4-rldur0/transformer_chatbot/sweeps/itkw97un</a>"
      ],
      "text/plain": [
       "<IPython.core.display.HTML object>"
      ]
     },
     "metadata": {},
     "output_type": "display_data"
    },
    {
     "data": {
      "text/html": [
       " View project at <a href='https://wandb.ai/4-rldur0/transformer_chatbot' target=\"_blank\">https://wandb.ai/4-rldur0/transformer_chatbot</a>"
      ],
      "text/plain": [
       "<IPython.core.display.HTML object>"
      ]
     },
     "metadata": {},
     "output_type": "display_data"
    },
    {
     "data": {
      "text/html": [
       " View sweep at <a href='https://wandb.ai/4-rldur0/transformer_chatbot/sweeps/itkw97un' target=\"_blank\">https://wandb.ai/4-rldur0/transformer_chatbot/sweeps/itkw97un</a>"
      ],
      "text/plain": [
       "<IPython.core.display.HTML object>"
      ]
     },
     "metadata": {},
     "output_type": "display_data"
    },
    {
     "data": {
      "text/html": [
       " View run at <a href='https://wandb.ai/4-rldur0/transformer_chatbot/runs/m5jruwxe' target=\"_blank\">https://wandb.ai/4-rldur0/transformer_chatbot/runs/m5jruwxe</a>"
      ],
      "text/plain": [
       "<IPython.core.display.HTML object>"
      ]
     },
     "metadata": {},
     "output_type": "display_data"
    },
    {
     "data": {
      "application/vnd.jupyter.widget-view+json": {
       "model_id": "bb4ba7d19b5441a69ea83ce1a493b538",
       "version_major": 2,
       "version_minor": 0
      },
      "text/plain": [
       "  0%|          | 0/108 [00:00<?, ?it/s]"
      ]
     },
     "metadata": {},
     "output_type": "display_data"
    },
    {
     "data": {
      "application/vnd.jupyter.widget-view+json": {
       "model_id": "1c7eee573288498297e9a733c939184a",
       "version_major": 2,
       "version_minor": 0
      },
      "text/plain": [
       "  0%|          | 0/108 [00:00<?, ?it/s]"
      ]
     },
     "metadata": {},
     "output_type": "display_data"
    },
    {
     "data": {
      "application/vnd.jupyter.widget-view+json": {
       "model_id": "",
       "version_major": 2,
       "version_minor": 0
      },
      "text/plain": [
       "VBox(children=(Label(value='0.008 MB of 0.008 MB uploaded\\r'), FloatProgress(value=1.0, max=1.0)))"
      ]
     },
     "metadata": {},
     "output_type": "display_data"
    },
    {
     "data": {
      "text/html": [
       "<style>\n",
       "    table.wandb td:nth-child(1) { padding: 0 10px; text-align: left ; width: auto;} td:nth-child(2) {text-align: left ; width: 100%}\n",
       "    .wandb-row { display: flex; flex-direction: row; flex-wrap: wrap; justify-content: flex-start; width: 100% }\n",
       "    .wandb-col { display: flex; flex-direction: column; flex-basis: 100%; flex: 1; padding: 10px; }\n",
       "    </style>\n",
       "<div class=\"wandb-row\"><div class=\"wandb-col\"><h3>Run history:</h3><br/><table class=\"wandb\"><tr><td>batch_loss</td><td>██████████▇▇▇▇▇▇▇▇▇▆▆▆▆▆▆▅▅▅▅▄▄▄▄▄▃▃▃▂▂▁</td></tr><tr><td>epoch</td><td>▁</td></tr><tr><td>train_loss</td><td>▁</td></tr><tr><td>val_batch_loss</td><td>▆▆▃▂▆▄▆▅▄▃▅▄█▄▄▆▄▄▁▄▄▄▅▄▃▂▁▁▅▅▆▅▇▄▆▅▄▂▄▄</td></tr><tr><td>val_loss</td><td>▁</td></tr></table><br/></div><div class=\"wandb-col\"><h3>Run summary:</h3><br/><table class=\"wandb\"><tr><td>batch_loss</td><td>7.00164</td></tr><tr><td>epoch</td><td>1</td></tr><tr><td>train_loss</td><td>7.96013</td></tr><tr><td>val_batch_loss</td><td>6.97848</td></tr><tr><td>val_loss</td><td>6.98208</td></tr></table><br/></div></div>"
      ],
      "text/plain": [
       "<IPython.core.display.HTML object>"
      ]
     },
     "metadata": {},
     "output_type": "display_data"
    },
    {
     "data": {
      "text/html": [
       " View run <strong style=\"color:#cdcd00\">astral-sweep-1</strong> at: <a href='https://wandb.ai/4-rldur0/transformer_chatbot/runs/m5jruwxe' target=\"_blank\">https://wandb.ai/4-rldur0/transformer_chatbot/runs/m5jruwxe</a><br/>Synced 4 W&B file(s), 0 media file(s), 0 artifact file(s) and 0 other file(s)"
      ],
      "text/plain": [
       "<IPython.core.display.HTML object>"
      ]
     },
     "metadata": {},
     "output_type": "display_data"
    },
    {
     "data": {
      "text/html": [
       "Find logs at: <code>./wandb/run-20240716_095239-m5jruwxe/logs</code>"
      ],
      "text/plain": [
       "<IPython.core.display.HTML object>"
      ]
     },
     "metadata": {},
     "output_type": "display_data"
    },
    {
     "name": "stderr",
     "output_type": "stream",
     "text": [
      "Run m5jruwxe errored: TypeError('in user code:\\n\\n    /opt/conda/lib/python3.9/site-packages/keras/saving/saving_utils.py:125 _wrapped_model  *\\n        outputs = model(*args, **kwargs)\\n    /tmp/ipykernel_708/316502540.py:54 call  *\\n        enc_out, enc_attns = self.encoder(enc_in, enc_mask)\\n    /tmp/ipykernel_708/3884925815.py:20 call  *\\n        out, enc_attn = self.enc_layers[i](out, mask)\\n    /tmp/ipykernel_708/2762276407.py:19 call  *\\n        out, enc_attn = self.enc_self_attn(out, out, out, mask)\\n    /tmp/ipykernel_708/485309987.py:49 call  *\\n        WQ_splits = self.split_heads(WQ)\\n    /tmp/ipykernel_708/485309987.py:31 split_heads  *\\n        split_x = tf.reshape(x, (bsz, -1, self.num_heads, self.depth))\\n    /opt/conda/lib/python3.9/site-packages/tensorflow/python/util/dispatch.py:206 wrapper  **\\n        return target(*args, **kwargs)\\n    /opt/conda/lib/python3.9/site-packages/tensorflow/python/ops/array_ops.py:196 reshape\\n        result = gen_array_ops.reshape(tensor, shape, name)\\n    /opt/conda/lib/python3.9/site-packages/tensorflow/python/ops/gen_array_ops.py:8403 reshape\\n        _, _, _op, _outputs = _op_def_library._apply_op_helper(\\n    /opt/conda/lib/python3.9/site-packages/tensorflow/python/framework/op_def_library.py:525 _apply_op_helper\\n        raise err\\n    /opt/conda/lib/python3.9/site-packages/tensorflow/python/framework/op_def_library.py:511 _apply_op_helper\\n        values = ops.convert_to_tensor(\\n    /opt/conda/lib/python3.9/site-packages/tensorflow/python/profiler/trace.py:163 wrapped\\n        return func(*args, **kwargs)\\n    /opt/conda/lib/python3.9/site-packages/tensorflow/python/framework/ops.py:1566 convert_to_tensor\\n        ret = conversion_func(value, dtype=dtype, name=name, as_ref=as_ref)\\n    /opt/conda/lib/python3.9/site-packages/tensorflow/python/framework/constant_op.py:346 _constant_tensor_conversion_function\\n        return constant(v, dtype=dtype, name=name)\\n    /opt/conda/lib/python3.9/site-packages/tensorflow/python/framework/constant_op.py:271 constant\\n        return _constant_impl(value, dtype, shape, name, verify_shape=False,\\n    /opt/conda/lib/python3.9/site-packages/tensorflow/python/framework/constant_op.py:288 _constant_impl\\n        tensor_util.make_tensor_proto(\\n    /opt/conda/lib/python3.9/site-packages/tensorflow/python/framework/tensor_util.py:551 make_tensor_proto\\n        raise TypeError(\"Failed to convert object of type %s to Tensor. \"\\n\\n    TypeError: Failed to convert object of type <class \\'tuple\\'> to Tensor. Contents: (None, -1, 8, 16). Consider casting elements to a supported type.\\n')\n",
      "\u001b[34m\u001b[1mwandb\u001b[0m: \u001b[32m\u001b[41mERROR\u001b[0m Run m5jruwxe errored: TypeError('in user code:\\n\\n    /opt/conda/lib/python3.9/site-packages/keras/saving/saving_utils.py:125 _wrapped_model  *\\n        outputs = model(*args, **kwargs)\\n    /tmp/ipykernel_708/316502540.py:54 call  *\\n        enc_out, enc_attns = self.encoder(enc_in, enc_mask)\\n    /tmp/ipykernel_708/3884925815.py:20 call  *\\n        out, enc_attn = self.enc_layers[i](out, mask)\\n    /tmp/ipykernel_708/2762276407.py:19 call  *\\n        out, enc_attn = self.enc_self_attn(out, out, out, mask)\\n    /tmp/ipykernel_708/485309987.py:49 call  *\\n        WQ_splits = self.split_heads(WQ)\\n    /tmp/ipykernel_708/485309987.py:31 split_heads  *\\n        split_x = tf.reshape(x, (bsz, -1, self.num_heads, self.depth))\\n    /opt/conda/lib/python3.9/site-packages/tensorflow/python/util/dispatch.py:206 wrapper  **\\n        return target(*args, **kwargs)\\n    /opt/conda/lib/python3.9/site-packages/tensorflow/python/ops/array_ops.py:196 reshape\\n        result = gen_array_ops.reshape(tensor, shape, name)\\n    /opt/conda/lib/python3.9/site-packages/tensorflow/python/ops/gen_array_ops.py:8403 reshape\\n        _, _, _op, _outputs = _op_def_library._apply_op_helper(\\n    /opt/conda/lib/python3.9/site-packages/tensorflow/python/framework/op_def_library.py:525 _apply_op_helper\\n        raise err\\n    /opt/conda/lib/python3.9/site-packages/tensorflow/python/framework/op_def_library.py:511 _apply_op_helper\\n        values = ops.convert_to_tensor(\\n    /opt/conda/lib/python3.9/site-packages/tensorflow/python/profiler/trace.py:163 wrapped\\n        return func(*args, **kwargs)\\n    /opt/conda/lib/python3.9/site-packages/tensorflow/python/framework/ops.py:1566 convert_to_tensor\\n        ret = conversion_func(value, dtype=dtype, name=name, as_ref=as_ref)\\n    /opt/conda/lib/python3.9/site-packages/tensorflow/python/framework/constant_op.py:346 _constant_tensor_conversion_function\\n        return constant(v, dtype=dtype, name=name)\\n    /opt/conda/lib/python3.9/site-packages/tensorflow/python/framework/constant_op.py:271 constant\\n        return _constant_impl(value, dtype, shape, name, verify_shape=False,\\n    /opt/conda/lib/python3.9/site-packages/tensorflow/python/framework/constant_op.py:288 _constant_impl\\n        tensor_util.make_tensor_proto(\\n    /opt/conda/lib/python3.9/site-packages/tensorflow/python/framework/tensor_util.py:551 make_tensor_proto\\n        raise TypeError(\"Failed to convert object of type %s to Tensor. \"\\n\\n    TypeError: Failed to convert object of type <class \\'tuple\\'> to Tensor. Contents: (None, -1, 8, 16). Consider casting elements to a supported type.\\n')\n"
     ]
    }
   ],
   "source": [
    "sweep_id = wandb.sweep(sweep_config,\n",
    "                       entity = '4-rldur0',\n",
    "                       project = 'transformer_chatbot')\n",
    "\n",
    "wandb.agent(sweep_id, function=wandb_train, count=1)"
   ]
  },
  {
   "attachments": {
    "image.png": {
     "image/png": "[encoded data removed]"
    }
   },
   "cell_type": "markdown",
   "id": "58a602bd",
   "metadata": {},
   "source": [
    "마지막 batch에서만 loss가 nan\n",
    "![image.png](attachment:image.png)  \n",
    "\n",
    "<예상 원인과 시도>\n",
    "- input에 nan 있을 수 있음 -> 없음\n",
    "- batch 크기 1로(batch 크기대로 자를 때 마지막 남는 데이터는 앞의 데이터와 shape이 다름) -> 해결 x\n",
    "- augmentation 없애기(중복값이 너무 많으면 loss가 NaN이 될 수 있음) -> 해결 x\n",
    "- 특정 배치에서만 일어나기 때문에 shuffle 사용해서 결과 확인 -> 마지막 batch가 아닌 곳에서 loss nan(seed=123일 때 92번째 batch, 124일 때 47번째 batch). 두 batch 다 shuffle하지 않았다면 마지막 batch였을 batch -> 해당 batch에 무엇인가 문제가 있음\n",
    "- tf.data.Dataset.from_tensor_slices 사용하지 않기 -> 해결 x\n",
    "- **하루 뒤 다시 실행해보니 해결됨**(원인 알 수 없음)"
   ]
  },
  {
   "cell_type": "markdown",
   "id": "ceaab043",
   "metadata": {},
   "source": [
    "# 평가"
   ]
  },
  {
   "cell_type": "markdown",
   "id": "8726ee25",
   "metadata": {},
   "source": [
    ">**metric 선정 이유**: BLEU score는 번역 task에서 가장 널리 사용되고 있고, 다양한 측면을 고려할 수 있기 때문에 적합하다"
   ]
  },
  {
   "cell_type": "code",
   "execution_count": 46,
   "id": "1cadd562",
   "metadata": {},
   "outputs": [],
   "source": [
    "def translate(tokens, model, word2idx, idx2word):\n",
    "    padded_tokens = tf.keras.preprocessing.sequence.pad_sequences([tokens],\n",
    "                                                           maxlen=MAX_LEN,\n",
    "                                                           padding='post')\n",
    "    ids = []\n",
    "    output = tf.expand_dims([word2idx['<start>']], 0)   \n",
    "    for i in range(MAX_LEN):\n",
    "        enc_padding_mask, combined_mask, dec_padding_mask = \\\n",
    "        generate_masks(padded_tokens, output)\n",
    "\n",
    "        predictions, _, _, _ = model(padded_tokens, \n",
    "                                      output,\n",
    "                                      enc_padding_mask,\n",
    "                                      combined_mask,\n",
    "                                      dec_padding_mask)\n",
    "\n",
    "        predicted_id = \\\n",
    "        tf.argmax(tf.math.softmax(predictions, axis=-1)[0, -1]).numpy().item()\n",
    "        if word2idx['<end>'] == predicted_id:\n",
    "            result = [idx2word.get(idx, '<unk>') for idx in ids]\n",
    "            return ' '.join(result)\n",
    "\n",
    "        ids.append(predicted_id)\n",
    "        output = tf.concat([output, tf.expand_dims([predicted_id], 0)], axis=-1)\n",
    "    result = [idx2word.get(idx, '<unk>') for idx in ids]\n",
    "    return result"
   ]
  },
  {
   "cell_type": "code",
   "execution_count": 47,
   "id": "d7dabdf5",
   "metadata": {},
   "outputs": [],
   "source": [
    "def eval_bleu_single(model, src_sentence, tgt_sentence, tokenizer, word2idx, verbose=True):\n",
    "    idx2word =  dict((k, v) for v, k in word2idx.items()) \n",
    "    src_tokens = preprocess_tokeinze(src_sentence, tokenizer)\n",
    "    src_vector = [word2idx.get(word, 1) for word in src_tokens]\n",
    "    tgt_tokens = tgt_sentence.split()\n",
    "    if (len(src_vector) > MAX_LEN): return None\n",
    "    if (len(tgt_tokens) > MAX_LEN): return None\n",
    "\n",
    "    reference = tgt_tokens\n",
    "    candidate = translate(src_vector, model, word2idx, idx2word)\n",
    "\n",
    "    score = sentence_bleu([reference], candidate,\n",
    "                          smoothing_function=SmoothingFunction().method1)\n",
    "\n",
    "    if verbose:\n",
    "        print(\"Source Sentence: \", src_sentence)\n",
    "        print(\"Model Prediction: \", candidate)\n",
    "        print(\"Real: \", reference)\n",
    "        print(\"Score: %lf\\n\" % score)\n",
    "        \n",
    "    return score"
   ]
  },
  {
   "cell_type": "code",
   "execution_count": null,
   "id": "8ad9f4a7",
   "metadata": {},
   "outputs": [],
   "source": [
    "def calculate_bleu(model, src_sentences, tgt_sentence, tokenizer, word2idx, verbose=True):\n",
    "    total_score = 0.0\n",
    "    sample_size = len(src_sentences)\n",
    "    \n",
    "    for idx in tqdm(range(sample_size)):\n",
    "        score = eval_bleu_single(model, src_sentences[idx], tgt_sentence[idx], tokenizer, word2idx, verbose)\n",
    "        if not score: continue\n",
    "        \n",
    "        total_score += score\n",
    "    \n",
    "    print(\"Num of Sample:\", sample_size)\n",
    "    print(\"Total Score:\", total_score / sample_size)"
   ]
  },
  {
   "cell_type": "code",
   "execution_count": null,
   "id": "965d1fdc",
   "metadata": {},
   "outputs": [],
   "source": [
    "calculate_bleu(transformer, sample_src, sample_tgt, tokenizer, word2idx, verbose=True)"
   ]
  }
 ],
 "metadata": {
  "kernelspec": {
   "display_name": "Python 3 (ipykernel)",
   "language": "python",
   "name": "python3"
  },
  "language_info": {
   "codemirror_mode": {
    "name": "ipython",
    "version": 3
   },
   "file_extension": ".py",
   "mimetype": "text/x-python",
   "name": "python",
   "nbconvert_exporter": "python",
   "pygments_lexer": "ipython3",
   "version": "3.9.7"
  }
 },
 "nbformat": 4,
 "nbformat_minor": 5
}
