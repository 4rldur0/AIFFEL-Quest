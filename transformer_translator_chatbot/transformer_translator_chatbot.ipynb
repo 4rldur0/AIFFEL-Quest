{
 "cells": [
  {
   "cell_type": "code",
   "execution_count": 1,
   "id": "c1187841",
   "metadata": {},
   "outputs": [
    {
     "name": "stdout",
     "output_type": "stream",
     "text": [
      "2.6.0\n"
     ]
    }
   ],
   "source": [
    "import numpy as np\n",
    "import pandas as pd\n",
    "import tensorflow as tf\n",
    "import nltk\n",
    "import sentencepiece as spm\n",
    "from nltk.translate.bleu_score import sentence_bleu\n",
    "from nltk.translate.bleu_score import SmoothingFunction\n",
    "\n",
    "import re\n",
    "import os\n",
    "import random\n",
    "import math\n",
    "\n",
    "from tqdm.notebook import tqdm\n",
    "import matplotlib.pyplot as plt\n",
    "\n",
    "print(tf.__version__)"
   ]
  },
  {
   "cell_type": "markdown",
   "id": "197fe09f",
   "metadata": {},
   "source": [
    "# 데이터"
   ]
  },
  {
   "cell_type": "markdown",
   "id": "fb61a21b",
   "metadata": {},
   "source": [
    "## 다운로드"
   ]
  },
  {
   "cell_type": "code",
   "execution_count": 2,
   "id": "bd024cc8",
   "metadata": {},
   "outputs": [],
   "source": [
    "origin_data = pd.read_csv('./data/ChatbotData.csv')"
   ]
  },
  {
   "cell_type": "code",
   "execution_count": 3,
   "id": "8e797dc5",
   "metadata": {},
   "outputs": [
    {
     "data": {
      "text/html": [
       "<div>\n",
       "<style scoped>\n",
       "    .dataframe tbody tr th:only-of-type {\n",
       "        vertical-align: middle;\n",
       "    }\n",
       "\n",
       "    .dataframe tbody tr th {\n",
       "        vertical-align: top;\n",
       "    }\n",
       "\n",
       "    .dataframe thead th {\n",
       "        text-align: right;\n",
       "    }\n",
       "</style>\n",
       "<table border=\"1\" class=\"dataframe\">\n",
       "  <thead>\n",
       "    <tr style=\"text-align: right;\">\n",
       "      <th></th>\n",
       "      <th>Q</th>\n",
       "      <th>A</th>\n",
       "      <th>label</th>\n",
       "    </tr>\n",
       "  </thead>\n",
       "  <tbody>\n",
       "    <tr>\n",
       "      <th>0</th>\n",
       "      <td>12시 땡!</td>\n",
       "      <td>하루가 또 가네요.</td>\n",
       "      <td>0</td>\n",
       "    </tr>\n",
       "    <tr>\n",
       "      <th>1</th>\n",
       "      <td>1지망 학교 떨어졌어</td>\n",
       "      <td>위로해 드립니다.</td>\n",
       "      <td>0</td>\n",
       "    </tr>\n",
       "    <tr>\n",
       "      <th>2</th>\n",
       "      <td>3박4일 놀러가고 싶다</td>\n",
       "      <td>여행은 언제나 좋죠.</td>\n",
       "      <td>0</td>\n",
       "    </tr>\n",
       "    <tr>\n",
       "      <th>3</th>\n",
       "      <td>3박4일 정도 놀러가고 싶다</td>\n",
       "      <td>여행은 언제나 좋죠.</td>\n",
       "      <td>0</td>\n",
       "    </tr>\n",
       "    <tr>\n",
       "      <th>4</th>\n",
       "      <td>PPL 심하네</td>\n",
       "      <td>눈살이 찌푸려지죠.</td>\n",
       "      <td>0</td>\n",
       "    </tr>\n",
       "  </tbody>\n",
       "</table>\n",
       "</div>"
      ],
      "text/plain": [
       "                 Q            A  label\n",
       "0           12시 땡!   하루가 또 가네요.      0\n",
       "1      1지망 학교 떨어졌어    위로해 드립니다.      0\n",
       "2     3박4일 놀러가고 싶다  여행은 언제나 좋죠.      0\n",
       "3  3박4일 정도 놀러가고 싶다  여행은 언제나 좋죠.      0\n",
       "4          PPL 심하네   눈살이 찌푸려지죠.      0"
      ]
     },
     "execution_count": 3,
     "metadata": {},
     "output_type": "execute_result"
    }
   ],
   "source": [
    "origin_data.head()"
   ]
  },
  {
   "cell_type": "code",
   "execution_count": 4,
   "id": "d47a9500",
   "metadata": {},
   "outputs": [
    {
     "name": "stdout",
     "output_type": "stream",
     "text": [
      "<class 'pandas.core.frame.DataFrame'>\n",
      "RangeIndex: 11823 entries, 0 to 11822\n",
      "Data columns (total 3 columns):\n",
      " #   Column  Non-Null Count  Dtype \n",
      "---  ------  --------------  ----- \n",
      " 0   Q       11823 non-null  object\n",
      " 1   A       11823 non-null  object\n",
      " 2   label   11823 non-null  int64 \n",
      "dtypes: int64(1), object(2)\n",
      "memory usage: 277.2+ KB\n"
     ]
    }
   ],
   "source": [
    "origin_data.info()"
   ]
  },
  {
   "cell_type": "code",
   "execution_count": 5,
   "id": "41df0e97",
   "metadata": {},
   "outputs": [],
   "source": [
    "questions = origin_data['Q']\n",
    "answers = origin_data['A']"
   ]
  },
  {
   "cell_type": "markdown",
   "id": "6aca1f73",
   "metadata": {},
   "source": [
    "## 전처리"
   ]
  },
  {
   "cell_type": "code",
   "execution_count": 6,
   "id": "fd7147b7",
   "metadata": {},
   "outputs": [],
   "source": [
    "def preprocess_sentence(sentence):\n",
    "    # 소문자로 변환\n",
    "    sentence = sentence.lower()\n",
    "    # 영문자, 한글, 숫자, 주요 특수문자만 살리기\n",
    "    sentence = re.sub(r'[^A-Za-zㄱ-ㅎ가-힣ㅏ-ㅣ0-9?.!,]', '', sentence)\n",
    "    return sentence"
   ]
  },
  {
   "cell_type": "code",
   "execution_count": 7,
   "id": "a2b5b33c",
   "metadata": {},
   "outputs": [
    {
     "data": {
      "text/plain": [
       "'dk109sdㅇ마리단.?!'"
      ]
     },
     "execution_count": 7,
     "metadata": {},
     "output_type": "execute_result"
    }
   ],
   "source": [
    "preprocess_sentence(\"dk109sd\\]ㅇ마리단./~?!\")"
   ]
  },
  {
   "cell_type": "markdown",
   "id": "489a0ff3",
   "metadata": {},
   "source": [
    "## 토큰화"
   ]
  },
  {
   "cell_type": "code",
   "execution_count": 8,
   "id": "a80087d9",
   "metadata": {},
   "outputs": [],
   "source": [
    "from konlpy.tag import Mecab\n",
    "    \n",
    "tokenizer = Mecab()\n",
    "def preprocess_tokeinze(sentence, tokenizer):\n",
    "    # 전처리\n",
    "    preprocessed = preprocess_sentence(sentence)\n",
    "    # 토큰화\n",
    "    return tokenizer.morphs(sentence)\n",
    "\n",
    "tokenized_que = []\n",
    "tokenized_ans = []\n",
    "\n",
    "for question, answer in zip(questions, answers):\n",
    "    tokenized_que.append(preprocess_tokeinze(question, tokenizer))\n",
    "    tokenized_ans.append(preprocess_tokeinze(answer, tokenizer))"
   ]
  },
  {
   "cell_type": "code",
   "execution_count": 9,
   "id": "01ec6c11",
   "metadata": {},
   "outputs": [
    {
     "data": {
      "image/png": "[encoded data removed]",
      "text/plain": [
       "<Figure size 432x288 with 2 Axes>"
      ]
     },
     "metadata": {
      "needs_background": "light"
     },
     "output_type": "display_data"
    }
   ],
   "source": [
    "lengths_que = list(map(len, tokenized_que))\n",
    "lengths_ans = list(map(len, tokenized_ans))\n",
    "fig, ax = plt.subplots(1, 2, constrained_layout=True)\n",
    "ax[0].hist(lengths_que)\n",
    "ax[1].hist(lengths_ans)\n",
    "plt.show()"
   ]
  },
  {
   "cell_type": "code",
   "execution_count": 10,
   "id": "3f567595",
   "metadata": {},
   "outputs": [],
   "source": [
    "# 최대 길이 20으로 설정\n",
    "MAX_LEN = 20"
   ]
  },
  {
   "cell_type": "code",
   "execution_count": 11,
   "id": "9fe80255",
   "metadata": {},
   "outputs": [],
   "source": [
    "def find_duplicates(arr):\n",
    "    df = pd.DataFrame(arr)\n",
    "    duplicates = df.duplicated()\n",
    "    duplicate_idx = df.index[duplicates].tolist()\n",
    "    return duplicate_idx\n",
    "    \n",
    "def build_corpus(src, tgt, tokenizer, remove_duplicate=True):\n",
    "    # 전처리 및 토큰화\n",
    "    tokenized_src = []\n",
    "    tokenized_tgt = []\n",
    "\n",
    "    for src_sentence, tgt_sentence in zip(src, tgt):\n",
    "        tokenized_src.append(preprocess_tokeinze(src_sentence, tokenizer))\n",
    "        tokenized_tgt.append(preprocess_tokeinze(tgt_sentence, tokenizer))\n",
    "        \n",
    "    # 중복 처리\n",
    "    if remove_duplicate:\n",
    "        src_duplicate_idx = find_duplicates(tokenized_src)\n",
    "        tgt_duplicate_idx = find_duplicates(tokenized_tgt)\n",
    "        src_duplicate_idx.extend(tgt_duplicate_idx)\n",
    "        duplicate_idx = set(src_duplicate_idx)\n",
    "        result_src = [tokenized_src[i] for i in range(len(tokenized_src)) if i not in duplicate_idx]\n",
    "        result_tgt = [tokenized_tgt[i] for i in range(len(tokenized_tgt)) if i not in duplicate_idx]\n",
    "        return result_src, result_tgt\n",
    "    \n",
    "    return tokenized_src, tokenized_tgt      "
   ]
  },
  {
   "cell_type": "markdown",
   "id": "84225a4d",
   "metadata": {},
   "source": [
    "중복을 제거하는 것이 성능에 도움되는 지 모르겠음"
   ]
  },
  {
   "cell_type": "code",
   "execution_count": 12,
   "id": "10dd4a11",
   "metadata": {},
   "outputs": [],
   "source": [
    "que_corpus, ans_corpus = build_corpus(questions, answers, tokenizer)"
   ]
  },
  {
   "cell_type": "code",
   "execution_count": 13,
   "id": "f7e020e2",
   "metadata": {},
   "outputs": [
    {
     "name": "stdout",
     "output_type": "stream",
     "text": [
      "7653\n",
      "[['12', '시', '땡', '!'], ['1', '지망', '학교', '떨어졌', '어'], ['3', '박', '4', '일', '놀', '러', '가', '고', '싶', '다'], ['PPL', '심하', '네'], ['SD', '카드', '망가졌', '어']]\n",
      "7653\n",
      "[['하루', '가', '또', '가', '네요', '.'], ['위로', '해', '드립니다', '.'], ['여행', '은', '언제나', '좋', '죠', '.'], ['눈살', '이', '찌푸려', '지', '죠', '.'], ['다시', '새로', '사', '는', '게', '마음', '편해요', '.']]\n"
     ]
    }
   ],
   "source": [
    "print(len(que_corpus))\n",
    "print(que_corpus[:5])\n",
    "print(len(ans_corpus))\n",
    "print(ans_corpus[:5])"
   ]
  },
  {
   "cell_type": "markdown",
   "id": "aa93a7bc",
   "metadata": {},
   "source": [
    "## Augmentation\n",
    "https://github.com/Kyubyong/wordvectors?tab=readme-ov-file"
   ]
  },
  {
   "cell_type": "code",
   "execution_count": 14,
   "id": "503bb89c",
   "metadata": {},
   "outputs": [],
   "source": [
    "#!pip install gensim==3.8.3"
   ]
  },
  {
   "cell_type": "code",
   "execution_count": 15,
   "id": "b5956960",
   "metadata": {},
   "outputs": [
    {
     "name": "stdout",
     "output_type": "stream",
     "text": [
      "3.8.3\n"
     ]
    }
   ],
   "source": [
    "import gensim\n",
    "print(gensim.__version__)"
   ]
  },
  {
   "cell_type": "code",
   "execution_count": 16,
   "id": "fc86cd22",
   "metadata": {},
   "outputs": [],
   "source": [
    "from gensim.models import Word2Vec\n",
    "\n",
    "# 저장된 Word2Vec 모델 파일 불러오기\n",
    "model = Word2Vec.load('./data/ko.bin')"
   ]
  },
  {
   "cell_type": "code",
   "execution_count": 17,
   "id": "cc636f79",
   "metadata": {},
   "outputs": [],
   "source": [
    "def lexical_sub(tokens, wv):\n",
    "    selected_tok = random.choice(tokens)\n",
    "\n",
    "    result = \"\"\n",
    "    for tok in tokens:\n",
    "        if tok is selected_tok and tok in wv:\n",
    "            result += wv.most_similar(tok)[0][0] + \" \"\n",
    "\n",
    "        else:\n",
    "            result += tok + \" \"\n",
    "    \n",
    "    return result"
   ]
  },
  {
   "cell_type": "code",
   "execution_count": 18,
   "id": "ee8b1cb5",
   "metadata": {},
   "outputs": [
    {
     "name": "stdout",
     "output_type": "stream",
     "text": [
      "7653\n",
      "7653\n"
     ]
    }
   ],
   "source": [
    "wv = model.wv\n",
    "new_que_corpus = []\n",
    "new_ans_corpus = []\n",
    "\n",
    "new_que_corpus.extend(que_corpus)\n",
    "new_ans_corpus.extend(ans_corpus)\n",
    "\n",
    "use_aug=False\n",
    "if use_aug:\n",
    "    for que, ans in tqdm(zip(que_corpus, ans_corpus), total=len(que_corpus)):\n",
    "        new_que_corpus.append(lexical_sub(que, wv))\n",
    "        new_ans_corpus.append(ans)\n",
    "        new_que_corpus.append(que)\n",
    "        new_ans_corpus.append(lexical_sub(ans, wv))\n",
    "\n",
    "print(len(new_que_corpus))\n",
    "print(len(new_ans_corpus))"
   ]
  },
  {
   "cell_type": "code",
   "execution_count": 19,
   "id": "0a3f020d",
   "metadata": {},
   "outputs": [
    {
     "name": "stdout",
     "output_type": "stream",
     "text": [
      "['하루', '가', '또', '가', '네요', '.']\n"
     ]
    }
   ],
   "source": [
    "print(new_ans_corpus[0])\n",
    "if use_aug:\n",
    "    # 증강된 데이터 확인\n",
    "    print(new_ans_corpus[len(ans_corpus)+1])"
   ]
  },
  {
   "cell_type": "markdown",
   "id": "3bbc11ad",
   "metadata": {},
   "source": [
    "## 사전 구성"
   ]
  },
  {
   "cell_type": "code",
   "execution_count": 20,
   "id": "4af60b21",
   "metadata": {},
   "outputs": [],
   "source": [
    "# 문자열을 리스트로 변환\n",
    "def str2list(tokens):\n",
    "    if not isinstance(tokens, list):\n",
    "        return tokens.split() \n",
    "    else:\n",
    "        return tokens\n",
    "    \n",
    "# 시작토큰, 종료토큰 추가\n",
    "def add_s_e_token(tokens):\n",
    "    # 리스트를 문자열로 변환\n",
    "    if isinstance(tokens, list):\n",
    "        tokens = ' '.join(tokens)\n",
    "    sentence = '<start> ' + tokens + ' <end>'\n",
    "    # 문자열을 리스트로 변환\n",
    "    return sentence.split()\n",
    "\n",
    "final_que_corpus = list(map(str2list, new_ans_corpus))\n",
    "final_ans_corpus = list(map(add_s_e_token, new_ans_corpus))"
   ]
  },
  {
   "cell_type": "code",
   "execution_count": 21,
   "id": "50fefb76",
   "metadata": {},
   "outputs": [
    {
     "name": "stdout",
     "output_type": "stream",
     "text": [
      "['<start>', '하루', '가', '또', '가', '네요', '.', '<end>']\n"
     ]
    }
   ],
   "source": [
    "print(final_ans_corpus[0])"
   ]
  },
  {
   "cell_type": "code",
   "execution_count": 22,
   "id": "00fde10e",
   "metadata": {},
   "outputs": [
    {
     "name": "stdout",
     "output_type": "stream",
     "text": [
      "3887\n"
     ]
    }
   ],
   "source": [
    "from collections import Counter\n",
    "\n",
    "words = np.concatenate(final_que_corpus).tolist() + np.concatenate(final_ans_corpus).tolist()\n",
    "\n",
    "counter = Counter(words)\n",
    "print(len(counter.most_common()))"
   ]
  },
  {
   "cell_type": "markdown",
   "id": "c505d8fa",
   "metadata": {},
   "source": [
    "단어 개수가 많지 않으므로 그대로 사용"
   ]
  },
  {
   "cell_type": "code",
   "execution_count": 23,
   "id": "a2bd9d37",
   "metadata": {},
   "outputs": [],
   "source": [
    "VOCAB_SIZE = len(counter.most_common())"
   ]
  },
  {
   "cell_type": "code",
   "execution_count": 24,
   "id": "f4d892cf",
   "metadata": {},
   "outputs": [],
   "source": [
    "vocab = [key for key, _ in counter.most_common()]\n",
    "word2idx = {word:index+2 for index, word in enumerate(vocab)}    # 인덱스 0, 1은 패딩과 unk 토큰을 위해 비워둠\n",
    "word2idx['<pad>'] = 0\n",
    "word2idx['<unk>'] = 1"
   ]
  },
  {
   "cell_type": "markdown",
   "id": "6772ae0d",
   "metadata": {},
   "source": [
    "## 벡터화"
   ]
  },
  {
   "cell_type": "code",
   "execution_count": 25,
   "id": "18265cc4",
   "metadata": {},
   "outputs": [],
   "source": [
    "enc_ndarray = [[word2idx.get(word, 1) for word in sentence] for sentence in final_que_corpus]\n",
    "dec_ndarray = [[word2idx.get(word, 1) for word in sentence] for sentence in final_ans_corpus]"
   ]
  },
  {
   "cell_type": "markdown",
   "id": "e8b6f6f1",
   "metadata": {},
   "source": [
    "### 패딩 적용"
   ]
  },
  {
   "cell_type": "code",
   "execution_count": 26,
   "id": "0b1b7166",
   "metadata": {},
   "outputs": [],
   "source": [
    "enc_train = tf.keras.preprocessing.sequence.pad_sequences(enc_ndarray, maxlen=MAX_LEN, padding='post')\n",
    "dec_train = tf.keras.preprocessing.sequence.pad_sequences(dec_ndarray, maxlen=MAX_LEN, padding='post')"
   ]
  },
  {
   "cell_type": "code",
   "execution_count": 27,
   "id": "a34a6881",
   "metadata": {},
   "outputs": [
    {
     "name": "stdout",
     "output_type": "stream",
     "text": [
      "(7653, 20)\n",
      "(7653, 20)\n"
     ]
    }
   ],
   "source": [
    "print(enc_train.shape)\n",
    "print(dec_train.shape)"
   ]
  },
  {
   "cell_type": "code",
   "execution_count": 28,
   "id": "a493ae55",
   "metadata": {},
   "outputs": [],
   "source": [
    "BATCH_SIZE = 64\n",
    "#train_dataset = tf.data.Dataset.from_tensor_slices((enc_train, dec_train)).batch(batch_size=BATCH_SIZE)\n",
    "#train_dataset = train_dataset.shuffle(buffer_size=3000, seed=123)"
   ]
  },
  {
   "cell_type": "markdown",
   "id": "9f87b22d",
   "metadata": {},
   "source": [
    "# 모델링\n",
    "트랜스포머 - Encoder와 Decoder 각각의 Embedding과 출력층의 Linear, 총 3개의 레이어가 Weight를 공유"
   ]
  },
  {
   "cell_type": "markdown",
   "id": "058f80aa",
   "metadata": {},
   "source": [
    ">**모델 선정 이유**: 트랜스포머는 자연어처리 분야에서 좋은 성능을 내고 있기에 챗봇을 만들 때 사용하기 좋다. 다만, 사전학습된 트랜스포머 모델을 쓰면 더 좋은 성능을 낼 것으로 예상한다"
   ]
  },
  {
   "cell_type": "markdown",
   "id": "150deb56",
   "metadata": {},
   "source": [
    "## positional encoding"
   ]
  },
  {
   "cell_type": "code",
   "execution_count": 29,
   "id": "66584ef7",
   "metadata": {},
   "outputs": [],
   "source": [
    "def positional_encoding(pos, d_model):\n",
    "    def cal_angle(position, i):\n",
    "        return position / np.power(10000, (2*(i//2)) / np.float32(d_model))\n",
    "\n",
    "    def get_posi_angle_vec(position):\n",
    "        return [cal_angle(position, i) for i in range(d_model)]\n",
    "\n",
    "    sinusoid_table = np.array([get_posi_angle_vec(pos_i) for pos_i in range(pos)])\n",
    "\n",
    "    sinusoid_table[:, 0::2] = np.sin(sinusoid_table[:, 0::2])\n",
    "    sinusoid_table[:, 1::2] = np.cos(sinusoid_table[:, 1::2])\n",
    "\n",
    "    return sinusoid_table"
   ]
  },
  {
   "cell_type": "markdown",
   "id": "a0af20e6",
   "metadata": {},
   "source": [
    "## Masking"
   ]
  },
  {
   "cell_type": "code",
   "execution_count": 30,
   "id": "bb9a651f",
   "metadata": {},
   "outputs": [],
   "source": [
    "def generate_padding_mask(seq):\n",
    "    seq = tf.cast(tf.math.equal(seq, 0), tf.float32)\n",
    "    return seq[:, tf.newaxis, tf.newaxis, :]\n",
    "\n",
    "def generate_lookahead_mask(size):\n",
    "    mask = 1 - tf.linalg.band_part(tf.ones((size, size)), -1, 0)\n",
    "    return mask\n",
    "\n",
    "def generate_masks(src, tgt):\n",
    "    enc_mask = generate_padding_mask(src)\n",
    "    dec_enc_mask = generate_padding_mask(src)\n",
    "\n",
    "    dec_lookahead_mask = generate_lookahead_mask(tgt.shape[1])\n",
    "    dec_tgt_padding_mask = generate_padding_mask(tgt)\n",
    "    dec_mask = tf.maximum(dec_tgt_padding_mask, dec_lookahead_mask)\n",
    "\n",
    "    return enc_mask, dec_enc_mask, dec_mask"
   ]
  },
  {
   "cell_type": "markdown",
   "id": "dc6e5b89",
   "metadata": {},
   "source": [
    "## Multi-Head Attention"
   ]
  },
  {
   "cell_type": "code",
   "execution_count": 31,
   "id": "dd2130e7",
   "metadata": {},
   "outputs": [],
   "source": [
    "class MultiHeadAttention(tf.keras.layers.Layer):\n",
    "    def __init__(self, d_model, num_heads):\n",
    "        super(MultiHeadAttention, self).__init__()\n",
    "        self.num_heads = num_heads\n",
    "        self.d_model = d_model\n",
    "        \n",
    "        self.depth = d_model // self.num_heads\n",
    "        \n",
    "        self.W_q = tf.keras.layers.Dense(d_model)\n",
    "        self.W_k = tf.keras.layers.Dense(d_model)\n",
    "        self.W_v = tf.keras.layers.Dense(d_model)\n",
    "        \n",
    "        self.linear = tf.keras.layers.Dense(d_model)\n",
    "\n",
    "    def scaled_dot_product_attention(self, Q, K, V, mask):\n",
    "        d_k = tf.cast(K.shape[-1], tf.float32)\n",
    "        QK = tf.matmul(Q, K, transpose_b=True)\n",
    "\n",
    "        scaled_qk = QK / tf.math.sqrt(d_k)\n",
    "\n",
    "        if mask is not None: scaled_qk += (mask * -1e9)  \n",
    "\n",
    "        attentions = tf.nn.softmax(scaled_qk, axis=-1)\n",
    "        out = tf.matmul(attentions, V)\n",
    "\n",
    "        return out, attentions\n",
    "        \n",
    "        \n",
    "    def split_heads(self, x):\n",
    "        bsz = x.shape[0]\n",
    "        split_x = tf.reshape(x, (bsz, -1, self.num_heads, self.depth))\n",
    "        split_x = tf.transpose(split_x, perm=[0, 2, 1, 3])\n",
    "\n",
    "        return split_x\n",
    "\n",
    "    def combine_heads(self, x):\n",
    "        bsz = x.shape[0]\n",
    "        combined_x = tf.transpose(x, perm=[0, 2, 1, 3])\n",
    "        combined_x = tf.reshape(combined_x, (bsz, -1, self.d_model))\n",
    "\n",
    "        return combined_x\n",
    "\n",
    "    \n",
    "    def call(self, Q, K, V, mask):\n",
    "        WQ = self.W_q(Q)\n",
    "        WK = self.W_k(K)\n",
    "        WV = self.W_v(V)\n",
    "        \n",
    "        WQ_splits = self.split_heads(WQ)\n",
    "        WK_splits = self.split_heads(WK)\n",
    "        WV_splits = self.split_heads(WV)\n",
    "        \n",
    "        out, attention_weights = self.scaled_dot_product_attention(\n",
    "            WQ_splits, WK_splits, WV_splits, mask)\n",
    "                        \n",
    "        out = self.combine_heads(out)\n",
    "        out = self.linear(out)\n",
    "            \n",
    "        return out, attention_weights"
   ]
  },
  {
   "cell_type": "markdown",
   "id": "9719d00d",
   "metadata": {},
   "source": [
    "## Position-wise Feed Forward Network"
   ]
  },
  {
   "cell_type": "code",
   "execution_count": 32,
   "id": "62c1b781",
   "metadata": {},
   "outputs": [],
   "source": [
    "class PoswiseFeedForwardNet(tf.keras.layers.Layer):\n",
    "    def __init__(self, d_model, d_ff):\n",
    "        super(PoswiseFeedForwardNet, self).__init__()\n",
    "        self.d_model = d_model\n",
    "        self.d_ff = d_ff\n",
    "\n",
    "        self.fc1 = tf.keras.layers.Dense(d_ff, activation='relu')\n",
    "        self.fc2 = tf.keras.layers.Dense(d_model)\n",
    "\n",
    "    def call(self, x):\n",
    "        out = self.fc1(x)\n",
    "        out = self.fc2(out)\n",
    "            \n",
    "        return out"
   ]
  },
  {
   "cell_type": "markdown",
   "id": "2f0af946",
   "metadata": {},
   "source": [
    "## Encoder"
   ]
  },
  {
   "cell_type": "code",
   "execution_count": 33,
   "id": "aca3239a",
   "metadata": {},
   "outputs": [],
   "source": [
    "class EncoderLayer(tf.keras.layers.Layer):\n",
    "    def __init__(self, d_model, n_heads, d_ff, dropout):\n",
    "        super(EncoderLayer, self).__init__()\n",
    "\n",
    "        self.enc_self_attn = MultiHeadAttention(d_model, n_heads)\n",
    "        self.ffn = PoswiseFeedForwardNet(d_model, d_ff)\n",
    "\n",
    "        self.norm_1 = tf.keras.layers.LayerNormalization(epsilon=1e-6)\n",
    "        self.norm_2 = tf.keras.layers.LayerNormalization(epsilon=1e-6)\n",
    "\n",
    "        self.do = tf.keras.layers.Dropout(dropout)\n",
    "        \n",
    "    def call(self, x, mask):\n",
    "        '''\n",
    "        Multi-Head Attention\n",
    "        '''\n",
    "        residual = x\n",
    "        out = self.norm_1(x)\n",
    "        out, enc_attn = self.enc_self_attn(out, out, out, mask)\n",
    "        out = self.do(out)\n",
    "        out += residual\n",
    "        \n",
    "        '''\n",
    "        Position-Wise Feed Forward Network\n",
    "        '''\n",
    "        residual = out\n",
    "        out = self.norm_2(out)\n",
    "        out = self.ffn(out)\n",
    "        out = self.do(out)\n",
    "        out += residual\n",
    "        \n",
    "        return out, enc_attn"
   ]
  },
  {
   "cell_type": "code",
   "execution_count": 34,
   "id": "949629ed",
   "metadata": {},
   "outputs": [],
   "source": [
    "class Encoder(tf.keras.Model):\n",
    "    def __init__(self,\n",
    "                    n_layers,\n",
    "                    d_model,\n",
    "                    n_heads,\n",
    "                    d_ff,\n",
    "                    dropout):\n",
    "        super(Encoder, self).__init__()\n",
    "        self.n_layers = n_layers\n",
    "        self.enc_layers = [EncoderLayer(d_model, n_heads, d_ff, dropout) \n",
    "                        for _ in range(n_layers)]\n",
    "    \n",
    "        self.do = tf.keras.layers.Dropout(dropout)\n",
    "        \n",
    "    def call(self, x, mask):\n",
    "        out = x\n",
    "    \n",
    "        enc_attns = list()\n",
    "        for i in range(self.n_layers):\n",
    "            out, enc_attn = self.enc_layers[i](out, mask)\n",
    "            enc_attns.append(enc_attn)\n",
    "        \n",
    "        return out, enc_attns"
   ]
  },
  {
   "cell_type": "markdown",
   "id": "def9e2fa",
   "metadata": {},
   "source": [
    "## Decoder"
   ]
  },
  {
   "cell_type": "code",
   "execution_count": 35,
   "id": "9b4eddd1",
   "metadata": {},
   "outputs": [],
   "source": [
    "class DecoderLayer(tf.keras.layers.Layer):\n",
    "    def __init__(self, d_model, num_heads, d_ff, dropout):\n",
    "        super(DecoderLayer, self).__init__()\n",
    "\n",
    "        self.dec_self_attn = MultiHeadAttention(d_model, num_heads)\n",
    "        self.enc_dec_attn = MultiHeadAttention(d_model, num_heads)\n",
    "\n",
    "        self.ffn = PoswiseFeedForwardNet(d_model, d_ff)\n",
    "\n",
    "        self.norm_1 = tf.keras.layers.LayerNormalization(epsilon=1e-6)\n",
    "        self.norm_2 = tf.keras.layers.LayerNormalization(epsilon=1e-6)\n",
    "        self.norm_3 = tf.keras.layers.LayerNormalization(epsilon=1e-6)\n",
    "\n",
    "        self.do = tf.keras.layers.Dropout(dropout)\n",
    "    \n",
    "    def call(self, x, enc_out, dec_enc_mask, padding_mask):\n",
    "        '''\n",
    "        Masked Multi-Head Attention\n",
    "        '''\n",
    "        residual = x\n",
    "        out = self.norm_1(x)\n",
    "        out, dec_attn = self.dec_self_attn(out, out, out, padding_mask)\n",
    "        out = self.do(out)\n",
    "        out += residual\n",
    "\n",
    "        '''\n",
    "        Multi-Head Attention\n",
    "        '''\n",
    "        residual = out\n",
    "        out = self.norm_2(out)\n",
    "        out, dec_enc_attn = self.enc_dec_attn(Q=out, K=enc_out, V=enc_out, mask=dec_enc_mask)\n",
    "        out = self.do(out)\n",
    "        out += residual\n",
    "        \n",
    "        '''\n",
    "        Position-Wise Feed Forward Network\n",
    "        '''\n",
    "        residual = out\n",
    "        out = self.norm_3(out)\n",
    "        out = self.ffn(out)\n",
    "        out = self.do(out)\n",
    "        out += residual\n",
    "\n",
    "        return out, dec_attn, dec_enc_attn"
   ]
  },
  {
   "cell_type": "code",
   "execution_count": 36,
   "id": "79096b8d",
   "metadata": {},
   "outputs": [],
   "source": [
    "class Decoder(tf.keras.Model):\n",
    "    def __init__(self,\n",
    "                    n_layers,\n",
    "                    d_model,\n",
    "                    n_heads,\n",
    "                    d_ff,\n",
    "                    dropout):\n",
    "        super(Decoder, self).__init__()\n",
    "        self.n_layers = n_layers\n",
    "        self.dec_layers = [DecoderLayer(d_model, n_heads, d_ff, dropout) \n",
    "                            for _ in range(n_layers)]\n",
    "                            \n",
    "    def call(self, x, enc_out, dec_enc_mask, padding_mask):\n",
    "        out = x\n",
    "    \n",
    "        dec_attns = list()\n",
    "        dec_enc_attns = list()\n",
    "        for i in range(self.n_layers):\n",
    "            out, dec_attn, dec_enc_attn = \\\n",
    "            self.dec_layers[i](out, enc_out, dec_enc_mask, padding_mask)\n",
    "\n",
    "            dec_attns.append(dec_attn)\n",
    "            dec_enc_attns.append(dec_enc_attn)\n",
    "\n",
    "        return out, dec_attns, dec_enc_attns"
   ]
  },
  {
   "cell_type": "markdown",
   "id": "29ddd441",
   "metadata": {},
   "source": [
    "## 전체 모델"
   ]
  },
  {
   "cell_type": "code",
   "execution_count": 37,
   "id": "b7d8bb32",
   "metadata": {},
   "outputs": [],
   "source": [
    "class Transformer(tf.keras.Model):\n",
    "    def __init__(self,\n",
    "                    n_layers,\n",
    "                    d_model,\n",
    "                    n_heads,\n",
    "                    d_ff,\n",
    "                    src_vocab_size,\n",
    "                    tgt_vocab_size,\n",
    "                    pos_len,\n",
    "                    dropout=0.2,\n",
    "                    shared_fc=True,\n",
    "                    shared_emb=False):\n",
    "        super(Transformer, self).__init__()\n",
    "        \n",
    "        self.d_model = tf.cast(d_model, tf.float32)\n",
    "\n",
    "        if shared_emb:\n",
    "            self.enc_emb = self.dec_emb = \\\n",
    "            tf.keras.layers.Embedding(src_vocab_size, d_model)\n",
    "        else:\n",
    "            self.enc_emb = tf.keras.layers.Embedding(src_vocab_size, d_model)\n",
    "            self.dec_emb = tf.keras.layers.Embedding(tgt_vocab_size, d_model)\n",
    "\n",
    "        self.pos_encoding = positional_encoding(pos_len, d_model)\n",
    "        self.do = tf.keras.layers.Dropout(dropout)\n",
    "\n",
    "        self.encoder = Encoder(n_layers, d_model, n_heads, d_ff, dropout)\n",
    "        self.decoder = Decoder(n_layers, d_model, n_heads, d_ff, dropout)\n",
    "\n",
    "        self.fc = tf.keras.layers.Dense(tgt_vocab_size)\n",
    "\n",
    "        self.shared_fc = shared_fc\n",
    "\n",
    "        if shared_fc:\n",
    "            self.fc.set_weights(tf.transpose(self.dec_emb.weights))\n",
    "\n",
    "    def embedding(self, emb, x):\n",
    "        seq_len = x.shape[1]\n",
    "\n",
    "        out = emb(x)\n",
    "\n",
    "        if self.shared_fc: out *= tf.math.sqrt(self.d_model)\n",
    "\n",
    "        out += self.pos_encoding[np.newaxis, ...][:, :seq_len, :]\n",
    "        out = self.do(out)\n",
    "\n",
    "        return out\n",
    "\n",
    "        \n",
    "    def call(self, enc_in, dec_in, enc_mask, dec_enc_mask, dec_mask):\n",
    "        enc_in = self.embedding(self.enc_emb, enc_in)\n",
    "        dec_in = self.embedding(self.dec_emb, dec_in)\n",
    "\n",
    "        enc_out, enc_attns = self.encoder(enc_in, enc_mask)\n",
    "        \n",
    "        dec_out, dec_attns, dec_enc_attns = \\\n",
    "        self.decoder(dec_in, enc_out, dec_enc_mask, dec_mask)\n",
    "        \n",
    "        logits = self.fc(dec_out)\n",
    "        \n",
    "        return logits, enc_attns, dec_attns, dec_enc_attns"
   ]
  },
  {
   "cell_type": "code",
   "execution_count": 38,
   "id": "7cc68fe8",
   "metadata": {},
   "outputs": [],
   "source": [
    "# 하이퍼파라미터\n",
    "n_layers = 2\n",
    "d_model = 256\n",
    "n_heads = 4\n",
    "d_ff = 1024\n",
    "dropout=0.3\n",
    "shared_fc=True\n",
    "shared_emb=True\n",
    "EPOCHS = 3\n",
    "\n",
    "src_vocab_size = VOCAB_SIZE\n",
    "tgt_vocab_size = VOCAB_SIZE\n",
    "pos_len = MAX_LEN\n",
    "\n",
    "transformer = Transformer(\n",
    "    n_layers, d_model, n_heads, d_ff, src_vocab_size, tgt_vocab_size, pos_len, dropout, shared_fc, shared_emb)"
   ]
  },
  {
   "attachments": {
    "image.png": {
     "image/png": "[encoded data removed]"
    }
   },
   "cell_type": "markdown",
   "id": "b6c65fb8",
   "metadata": {},
   "source": [
    "```\n",
    "n_layers = 2\n",
    "d_model = 512\n",
    "n_heads = 8\n",
    "d_ff = 2048\n",
    "dropout=0.3\n",
    "shared_fc=True\n",
    "shared_emb=True\n",
    "EPOCHS = 3\n",
    "```\n",
    "![image.png](attachment:image.png)\n",
    "\n",
    "```\n",
    "n_layers = 2\n",
    "d_model = 256\n",
    "n_heads = 4\n",
    "d_ff = 1024\n",
    "dropout=0.3\n",
    "shared_fc=True\n",
    "shared_emb=True\n",
    "EPOCHS = 3\n",
    "```"
   ]
  },
  {
   "cell_type": "markdown",
   "id": "94f109e6",
   "metadata": {},
   "source": [
    "# 학습"
   ]
  },
  {
   "cell_type": "markdown",
   "id": "cddfc56c",
   "metadata": {},
   "source": [
    "## 학습률 스케쥴러"
   ]
  },
  {
   "cell_type": "code",
   "execution_count": 39,
   "id": "443412f0",
   "metadata": {},
   "outputs": [],
   "source": [
    "class LearningRateScheduler(tf.keras.optimizers.schedules.LearningRateSchedule):\n",
    "    def __init__(self, d_model, warmup_steps=4000):\n",
    "        super(LearningRateScheduler, self).__init__()\n",
    "        \n",
    "        self.d_model = d_model\n",
    "        self.warmup_steps = warmup_steps\n",
    "    \n",
    "    def __call__(self, step):\n",
    "        arg1 = step ** -0.5\n",
    "        arg2 = step * (self.warmup_steps ** -1.5)\n",
    "        \n",
    "        return (self.d_model ** -0.5) * tf.math.minimum(arg1, arg2)"
   ]
  },
  {
   "cell_type": "code",
   "execution_count": 40,
   "id": "da6a5592",
   "metadata": {},
   "outputs": [],
   "source": [
    "learning_rate = LearningRateScheduler(d_model)\n",
    "\n",
    "optimizer = tf.keras.optimizers.Adam(learning_rate,\n",
    "                                        beta_1=0.9,\n",
    "                                        beta_2=0.98, \n",
    "                                        epsilon=1e-9)"
   ]
  },
  {
   "cell_type": "markdown",
   "id": "d46b63f6",
   "metadata": {},
   "source": [
    "## 손실함수"
   ]
  },
  {
   "cell_type": "code",
   "execution_count": 41,
   "id": "27dd01ff",
   "metadata": {},
   "outputs": [],
   "source": [
    "loss_object = tf.keras.losses.SparseCategoricalCrossentropy(\n",
    "    from_logits=True, reduction='none')\n",
    "\n",
    "def loss_function(real, pred):\n",
    "    mask = tf.math.logical_not(tf.math.equal(real, 0))\n",
    "    loss_ = loss_object(real, pred)\n",
    "\n",
    "    mask = tf.cast(mask, dtype=loss_.dtype)\n",
    "    loss_ *= mask\n",
    "\n",
    "    return tf.reduce_sum(loss_)/tf.reduce_sum(mask)"
   ]
  },
  {
   "cell_type": "markdown",
   "id": "f685cefe",
   "metadata": {},
   "source": [
    ">**loss 선정 이유**: SparseCategoricalCrossentropy() 함수를 사용해 단어장의 단어 중 선택하는 다중 클래스 분류의 loss를 활용함. 또한 loss_function을 따로 정의하여 패딩에 대한 처리를 해 줌"
   ]
  },
  {
   "cell_type": "markdown",
   "id": "0f299938",
   "metadata": {},
   "source": [
    "## 훈련"
   ]
  },
  {
   "cell_type": "code",
   "execution_count": 42,
   "id": "c01f3403",
   "metadata": {},
   "outputs": [],
   "source": [
    "@tf.function()\n",
    "def train_step(src, tgt, model, optimizer):\n",
    "    tgt_in = tgt[:, :-1]  # Decoder의 input\n",
    "    gold = tgt[:, 1:]     # Decoder의 output과 비교하기 위해 right shift를 통해 생성한 최종 타겟\n",
    "\n",
    "    enc_mask, dec_enc_mask, dec_mask = generate_masks(src, tgt_in)\n",
    "\n",
    "    with tf.GradientTape() as tape:\n",
    "        predictions, enc_attns, dec_attns, dec_enc_attns = \\\n",
    "        model(src, tgt_in, enc_mask, dec_enc_mask, dec_mask)\n",
    "        loss = loss_function(gold, predictions)\n",
    "\n",
    "    gradients = tape.gradient(loss, model.trainable_variables)    \n",
    "    optimizer.apply_gradients(zip(gradients, model.trainable_variables))\n",
    "\n",
    "    return loss, enc_attns, dec_attns, dec_enc_attns"
   ]
  },
  {
   "cell_type": "code",
   "execution_count": 43,
   "id": "4bd575d6",
   "metadata": {},
   "outputs": [
    {
     "data": {
      "application/vnd.jupyter.widget-view+json": {
       "model_id": "c838dd8aa2f84b6fb30ae3a2eeb5fb43",
       "version_major": 2,
       "version_minor": 0
      },
      "text/plain": [
       "  0%|          | 0/120 [00:00<?, ?it/s]"
      ]
     },
     "metadata": {},
     "output_type": "display_data"
    },
    {
     "data": {
      "application/vnd.jupyter.widget-view+json": {
       "model_id": "71ddc603f0db4d268233d7e1ef2c0c63",
       "version_major": 2,
       "version_minor": 0
      },
      "text/plain": [
       "  0%|          | 0/120 [00:00<?, ?it/s]"
      ]
     },
     "metadata": {},
     "output_type": "display_data"
    },
    {
     "data": {
      "application/vnd.jupyter.widget-view+json": {
       "model_id": "b9f84f8bfabb48ca9a85cae6bb43a57d",
       "version_major": 2,
       "version_minor": 0
      },
      "text/plain": [
       "  0%|          | 0/120 [00:00<?, ?it/s]"
      ]
     },
     "metadata": {},
     "output_type": "display_data"
    }
   ],
   "source": [
    "for epoch in range(EPOCHS):\n",
    "    total_loss = 0\n",
    "    \n",
    "    idx_list = list(range(0, enc_train.shape[0], BATCH_SIZE))\n",
    "    random.shuffle(idx_list)\n",
    "    t = tqdm(idx_list)\n",
    "\n",
    "    for (batch, idx) in enumerate(t):\n",
    "        batch_loss, enc_attns, dec_attns, dec_enc_attns = \\\n",
    "        train_step(enc_train[idx:idx+BATCH_SIZE],\n",
    "                    dec_train[idx:idx+BATCH_SIZE],\n",
    "                    transformer,\n",
    "                    optimizer)\n",
    "\n",
    "        total_loss += batch_loss\n",
    "        \n",
    "        t.set_description_str('Epoch %2d' % (epoch + 1))\n",
    "        t.set_postfix_str('Loss %.4f' % (total_loss.numpy() / (batch + 1)))"
   ]
  },
  {
   "cell_type": "code",
   "execution_count": 44,
   "id": "96c859fe",
   "metadata": {},
   "outputs": [
    {
     "data": {
      "text/plain": [
       "\"\\nfor epoch in range(EPOCHS):\\n    total_loss = 0\\n    \\n    dataset_count = tf.data.experimental.cardinality(train_dataset).numpy()\\n    tqdm_bar = tqdm(train_dataset, total=dataset_count)\\n\\n    for i, (enc_train, dec_train) in enumerate(tqdm_bar):\\n        batch_loss, enc_attns, dec_attns, dec_enc_attns =                                 train_step(enc_train,\\n                                           dec_train,\\n                                           transformer,\\n                                           optimizer)\\n        #print(i, ': ', batch_loss)\\n        if np.isnan(batch_loss):\\n            # input에 nan 값 있는지 확인\\n            print(pd.DataFrame(enc_train).isnull().any().any())\\n            print(pd.DataFrame(dec_train).isnull().any().any())\\n            print(enc_train)\\n            print(dec_train)\\n            break\\n        total_loss += batch_loss\\n        \\n        tqdm_bar.set_description(f'Epoch {epoch + 1}')\\n        tqdm_bar.set_postfix(Loss=f'{total_loss / (i + 1):.4f}') \\n\""
      ]
     },
     "execution_count": 44,
     "metadata": {},
     "output_type": "execute_result"
    }
   ],
   "source": [
    "'''\n",
    "for epoch in range(EPOCHS):\n",
    "    total_loss = 0\n",
    "    \n",
    "    dataset_count = tf.data.experimental.cardinality(train_dataset).numpy()\n",
    "    tqdm_bar = tqdm(train_dataset, total=dataset_count)\n",
    "\n",
    "    for i, (enc_train, dec_train) in enumerate(tqdm_bar):\n",
    "        batch_loss, enc_attns, dec_attns, dec_enc_attns = \\\n",
    "                                train_step(enc_train,\n",
    "                                           dec_train,\n",
    "                                           transformer,\n",
    "                                           optimizer)\n",
    "        #print(i, ': ', batch_loss)\n",
    "        if np.isnan(batch_loss):\n",
    "            # input에 nan 값 있는지 확인\n",
    "            print(pd.DataFrame(enc_train).isnull().any().any())\n",
    "            print(pd.DataFrame(dec_train).isnull().any().any())\n",
    "            print(enc_train)\n",
    "            print(dec_train)\n",
    "            break\n",
    "        total_loss += batch_loss\n",
    "        \n",
    "        tqdm_bar.set_description(f'Epoch {epoch + 1}')\n",
    "        tqdm_bar.set_postfix(Loss=f'{total_loss / (i + 1):.4f}') \n",
    "'''"
   ]
  },
  {
   "attachments": {
    "image.png": {
     "image/png": "[encoded data removed]"
    }
   },
   "cell_type": "markdown",
   "id": "6d3944e1",
   "metadata": {},
   "source": [
    "마지막 batch에서만 loss가 nan\n",
    "![image.png](attachment:image.png)\n",
    "- input에 nan 있을 수 있음 -> 없음\n",
    "- batch 크기 1로(batch 크기대로 자를 때 마지막 남는 데이터는 앞의 데이터와 shape이 다름) -> 해결 x\n",
    "- augmentation 없애기(중복값이 너무 많으면 loss가 NaN이 될 수 있음) -> 해결 x\n",
    "- 특정 배치에서만 일어나기 때문에 shuffle 사용해서 결과 확인 -> 마지막 batch가 아닌 곳에서 loss nan(seed=123일 때 92번째 batch, 124일 때 47번째 batch)"
   ]
  },
  {
   "cell_type": "markdown",
   "id": "6cea0278",
   "metadata": {},
   "source": [
    "# 평가"
   ]
  },
  {
   "cell_type": "markdown",
   "id": "d553638a",
   "metadata": {},
   "source": [
    ">**metric 선정 이유**: BLEU score는 번역 task에서 가장 널리 사용되고 있고, 다양한 측면을 고려할 수 있기 때문에 적합하다"
   ]
  },
  {
   "cell_type": "code",
   "execution_count": 45,
   "id": "badaa5de",
   "metadata": {},
   "outputs": [],
   "source": [
    "def translate(tokens, model, word2idx, idx2word):\n",
    "    padded_tokens = tf.keras.preprocessing.sequence.pad_sequences([tokens],\n",
    "                                                           maxlen=MAX_LEN,\n",
    "                                                           padding='post')\n",
    "    ids = []\n",
    "    output = tf.expand_dims([word2idx['<start>']], 0)   \n",
    "    for i in range(MAX_LEN):\n",
    "        enc_padding_mask, combined_mask, dec_padding_mask = \\\n",
    "        generate_masks(padded_tokens, output)\n",
    "\n",
    "        predictions, _, _, _ = model(padded_tokens, \n",
    "                                      output,\n",
    "                                      enc_padding_mask,\n",
    "                                      combined_mask,\n",
    "                                      dec_padding_mask)\n",
    "\n",
    "        predicted_id = \\\n",
    "        tf.argmax(tf.math.softmax(predictions, axis=-1)[0, -1]).numpy().item()\n",
    "        if word2idx['<end>'] == predicted_id:\n",
    "            result = [idx2word.get(idx, '<unk>') for idx in output]\n",
    "            return ' '.join(result)\n",
    "\n",
    "        ids.append(predicted_id)\n",
    "        output = tf.concat([output, tf.expand_dims([predicted_id], 0)], axis=-1)\n",
    "    result = [idx2word.get(idx, '<unk>') for idx in ids]\n",
    "    return result"
   ]
  },
  {
   "cell_type": "code",
   "execution_count": 46,
   "id": "fe49606c",
   "metadata": {},
   "outputs": [],
   "source": [
    "def eval_bleu_single(model, src_sentence, tgt_sentence, tokenizer, word2idx, verbose=True):\n",
    "    idx2word =  dict((k, v) for v, k in word2idx.items()) \n",
    "    src_tokens = preprocess_tokeinze(src_sentence, tokenizer)\n",
    "    src_vector = [word2idx.get(word, 1) for word in src_tokens]\n",
    "    tgt_tokens = tgt_sentence.split()\n",
    "    if (len(src_vector) > MAX_LEN): return None\n",
    "    if (len(tgt_tokens) > MAX_LEN): return None\n",
    "\n",
    "    reference = tgt_tokens\n",
    "    candidate = translate(src_vector, model, word2idx, idx2word)\n",
    "\n",
    "    score = sentence_bleu([reference], candidate,\n",
    "                          smoothing_function=SmoothingFunction().method1)\n",
    "\n",
    "    if verbose:\n",
    "        print(\"Source Sentence: \", src_sentence)\n",
    "        print(\"Model Prediction: \", candidate)\n",
    "        print(\"Real: \", reference)\n",
    "        print(\"Score: %lf\\n\" % score)\n",
    "        \n",
    "    return score"
   ]
  },
  {
   "cell_type": "code",
   "execution_count": 47,
   "id": "16379f21",
   "metadata": {
    "scrolled": true
   },
   "outputs": [
    {
     "name": "stdout",
     "output_type": "stream",
     "text": [
      "Source Sentence:  지루하다, 놀러가고 싶어.\n",
      "Model Prediction:  ['<pad>', '<pad>', '<pad>', '<pad>', '<pad>', '<pad>', '<pad>', '<pad>', '<pad>', '<pad>', '<pad>', '<pad>', '<pad>', '<pad>', '<pad>', '<pad>', '<pad>', '<pad>', '<pad>', '<pad>']\n",
      "Real:  ['잠깐', '쉬', '어도', '돼요', '.', '<end>']\n",
      "Score: 0.000000\n",
      "\n"
     ]
    },
    {
     "data": {
      "text/plain": [
       "0"
      ]
     },
     "execution_count": 47,
     "metadata": {},
     "output_type": "execute_result"
    }
   ],
   "source": [
    "sample_src = ['지루하다, 놀러가고 싶어.', '오늘 일찍 일어났더니 피곤하다.',\n",
    "          '간만에 여자친구랑 데이트 하기로 했어.', '집에 있는다는 소리야.']\n",
    "sample_tgt = ['잠깐 쉬 어도 돼요 . <end>', '맛난 거 드세요 . <end>',\n",
    "              '떨리 겠 죠 . <end>', '좋 아 하 면 그럴 수 있 어요 . <end>']\n",
    "test_idx = 0\n",
    "\n",
    "eval_bleu_single(transformer, \n",
    "                 sample_src[test_idx], \n",
    "                 sample_tgt[test_idx], \n",
    "                 tokenizer, \n",
    "                 word2idx)"
   ]
  },
  {
   "cell_type": "code",
   "execution_count": 48,
   "id": "dba619a6",
   "metadata": {},
   "outputs": [],
   "source": [
    "def calculate_bleu(model, src_sentences, tgt_sentence, tokenizer, word2idx, verbose=True):\n",
    "    total_score = 0.0\n",
    "    sample_size = len(src_sentences)\n",
    "    \n",
    "    for idx in tqdm(range(sample_size)):\n",
    "        score = eval_bleu_single(model, src_sentences[idx], tgt_sentence[idx], tokenizer, word2idx, verbose)\n",
    "        if not score: continue\n",
    "        \n",
    "        total_score += score\n",
    "    \n",
    "    print(\"Num of Sample:\", sample_size)\n",
    "    print(\"Total Score:\", total_score / sample_size)"
   ]
  },
  {
   "cell_type": "code",
   "execution_count": 49,
   "id": "35df4ee8",
   "metadata": {},
   "outputs": [
    {
     "data": {
      "application/vnd.jupyter.widget-view+json": {
       "model_id": "ead7f14663654768b7b6057a5bf70736",
       "version_major": 2,
       "version_minor": 0
      },
      "text/plain": [
       "  0%|          | 0/4 [00:00<?, ?it/s]"
      ]
     },
     "metadata": {},
     "output_type": "display_data"
    },
    {
     "name": "stdout",
     "output_type": "stream",
     "text": [
      "Source Sentence:  지루하다, 놀러가고 싶어.\n",
      "Model Prediction:  ['<pad>', '<pad>', '<pad>', '<pad>', '<pad>', '<pad>', '<pad>', '<pad>', '<pad>', '<pad>', '<pad>', '<pad>', '<pad>', '<pad>', '<pad>', '<pad>', '<pad>', '<pad>', '<pad>', '<pad>']\n",
      "Real:  ['잠깐', '쉬', '어도', '돼요', '.', '<end>']\n",
      "Score: 0.000000\n",
      "\n",
      "Source Sentence:  오늘 일찍 일어났더니 피곤하다.\n",
      "Model Prediction:  ['<pad>', '<pad>', '<pad>', '<pad>', '<pad>', '<pad>', '<pad>', '<pad>', '<pad>', '<pad>', '<pad>', '<pad>', '<pad>', '<pad>', '<pad>', '<pad>', '<pad>', '<pad>', '<pad>', '<pad>']\n",
      "Real:  ['맛난', '거', '드세요', '.', '<end>']\n",
      "Score: 0.000000\n",
      "\n",
      "Source Sentence:  간만에 여자친구랑 데이트 하기로 했어.\n",
      "Model Prediction:  ['<pad>', '<pad>', '<pad>', '<pad>', '<pad>', '<pad>', '<pad>', '<pad>', '<pad>', '<pad>', '<pad>', '<pad>', '<pad>', '<pad>', '<pad>', '<pad>', '<pad>', '<pad>', '<pad>', '<pad>']\n",
      "Real:  ['떨리', '겠', '죠', '.', '<end>']\n",
      "Score: 0.000000\n",
      "\n",
      "Source Sentence:  집에 있는다는 소리야.\n",
      "Model Prediction:  ['<pad>', '<pad>', '<pad>', '<pad>', '<pad>', '<pad>', '<pad>', '<pad>', '<pad>', '<pad>', '<pad>', '<pad>', '<pad>', '<pad>', '<pad>', '<pad>', '<pad>', '<pad>', '<pad>', '<pad>']\n",
      "Real:  ['좋', '아', '하', '면', '그럴', '수', '있', '어요', '.', '<end>']\n",
      "Score: 0.000000\n",
      "\n",
      "Num of Sample: 4\n",
      "Total Score: 0.0\n"
     ]
    }
   ],
   "source": [
    "calculate_bleu(transformer, sample_src, sample_tgt, tokenizer, word2idx, verbose=True)"
   ]
  }
 ],
 "metadata": {
  "kernelspec": {
   "display_name": "Python 3 (ipykernel)",
   "language": "python",
   "name": "python3"
  },
  "language_info": {
   "codemirror_mode": {
    "name": "ipython",
    "version": 3
   },
   "file_extension": ".py",
   "mimetype": "text/x-python",
   "name": "python",
   "nbconvert_exporter": "python",
   "pygments_lexer": "ipython3",
   "version": "3.9.7"
  }
 },
 "nbformat": 4,
 "nbformat_minor": 5
}
