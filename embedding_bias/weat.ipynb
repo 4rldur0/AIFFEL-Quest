{
 "cells": [
  {
   "cell_type": "markdown",
   "id": "97a915cc",
   "metadata": {},
   "source": [
    "## STEP 1. 형태소 분석기를 이용하여 품사에 따라 해당 단어를 추출하기\n",
    "\n",
    "- 명사만 추출 `nouns.txt`\n",
    "- 명사, 동사 추출 `nouns_verbs.txt`\n",
    "- 명사, 동사, 형용사 추출 `nouns_verbs_adjectives.txt`"
   ]
  },
  {
   "cell_type": "code",
   "execution_count": 36,
   "id": "ee113129",
   "metadata": {},
   "outputs": [
    {
     "data": {
      "text/plain": [
       "'\\nwith open(input_file_path, \\'r\\', encoding=\\'utf-8\\') as rf:\\n    with open(output_file_path, \\'w\\', encoding=\\'utf-8\\') as wf:\\n        lines = rf.readlines()\\n        for line in tqdm(lines):\\n            words = okt.pos(line, stem=True, norm=True)\\n            res = [w[0] for w in words if w[1] == \"Noun\" or w[1] == \"Verb\"]\\n            wf.write(\\' \\'.join(res) + \\'\\n\\')\\n'"
      ]
     },
     "execution_count": 36,
     "metadata": {},
     "output_type": "execute_result"
    }
   ],
   "source": [
    "# 시간이 오래 소요되므로 파일로 저장\n",
    "# word2vec 생성을 위한 토큰화\n",
    "import os\n",
    "from konlpy.tag import Okt\n",
    "from tqdm import tqdm\n",
    "\n",
    "okt = Okt()\n",
    "input_file_path = os.getenv('HOME') + '/aiffel/weat/synopsis.txt'\n",
    "output_file_path = './tokenized/nouns.txt'\n",
    "\n",
    "'''\n",
    "with open(input_file_path, 'r', encoding='utf-8') as rf:\n",
    "    with open(output_file_path, 'w', encoding='utf-8') as wf:\n",
    "        lines = rf.readlines()\n",
    "        for line in tqdm(lines):\n",
    "            words = okt.pos(line, stem=True, norm=True)\n",
    "            res = [w[0] for w in words if w[1] == \"Noun\" or w[1] == \"Verb\"]\n",
    "            wf.write(' '.join(res) + '\\n')\n",
    "'''"
   ]
  },
  {
   "cell_type": "code",
   "execution_count": 37,
   "id": "fb7a9166",
   "metadata": {},
   "outputs": [],
   "source": [
    "# 저장해놓은 토큰 파일 불러오기\n",
    "tokenized=[]\n",
    "with open(output_file_path, 'r', encoding='utf-8') as rf:\n",
    "    for line in rf:\n",
    "        # 각 줄을 읽어 공백을 기준으로 단어를 나누고 리스트로 변환\n",
    "        words = line.strip().split()\n",
    "        tokenized.append(words)"
   ]
  },
  {
   "cell_type": "code",
   "execution_count": 38,
   "id": "9591a16b",
   "metadata": {},
   "outputs": [
    {
     "name": "stdout",
     "output_type": "stream",
     "text": [
      "1342179\n"
     ]
    }
   ],
   "source": [
    "# 개수 세기\n",
    "cnt=0\n",
    "for words in tokenized:\n",
    "    cnt+=len(words)\n",
    "print(cnt)"
   ]
  },
  {
   "cell_type": "markdown",
   "id": "2c99b73c",
   "metadata": {},
   "source": [
    "- Noun 개수: 1342179\n",
    "- Noun & Verb 개수: 1723183\n",
    "- Noun & Verb & Adjective 개수: 1850315"
   ]
  },
  {
   "cell_type": "markdown",
   "id": "1453d97d",
   "metadata": {},
   "source": [
    "## STEP 2. 추출된 결과로 embedding model 만들기"
   ]
  },
  {
   "cell_type": "code",
   "execution_count": 39,
   "id": "f0584dd7",
   "metadata": {},
   "outputs": [
    {
     "data": {
      "text/plain": [
       "[('작품', 0.8846949338912964),\n",
       " ('다큐멘터리', 0.8416526913642883),\n",
       " ('드라마', 0.8353283405303955),\n",
       " ('영화로', 0.814343273639679),\n",
       " ('코미디', 0.7921692132949829),\n",
       " ('스토리', 0.7879258990287781),\n",
       " ('형식', 0.7872180938720703),\n",
       " ('주제', 0.7832558751106262),\n",
       " ('에마데딘', 0.7752403616905212),\n",
       " ('감동', 0.7739428877830505)]"
      ]
     },
     "execution_count": 39,
     "metadata": {},
     "output_type": "execute_result"
    }
   ],
   "source": [
    "from gensim.models import Word2Vec\n",
    "\n",
    "# tokenized에 담긴 데이터를 가지고 나만의 Word2Vec을 생성합니다. (Gensim 4.0 기준)\n",
    "model = Word2Vec(tokenized, vector_size=100, window=5, min_count=3, sg=0)  \n",
    "model.wv.most_similar(positive=['영화'])"
   ]
  },
  {
   "cell_type": "markdown",
   "id": "da29b372",
   "metadata": {},
   "source": [
    "## STEP 3. target, attribute 단어 셋 만들기"
   ]
  },
  {
   "cell_type": "code",
   "execution_count": 93,
   "id": "eb9796fa",
   "metadata": {},
   "outputs": [],
   "source": [
    "import os\n",
    "from sklearn.feature_extraction.text import TfidfVectorizer\n",
    "from sklearn.feature_extraction.text import CountVectorizer\n",
    "import numpy as np\n",
    "from konlpy.tag import Okt\n",
    "\n",
    "# 토큰화 파일 저장 함수\n",
    "def save_tokens(input_file_name, output_file_name):\n",
    "    okt = Okt()\n",
    "    result = []\n",
    "    with open(os.getenv('HOME')+'/aiffel/weat/'+input_file_name, 'r') as fread: \n",
    "        with open('./tokenized/'+output_file_name, 'w', encoding='utf-8') as fwrite:\n",
    "            print(input_file_name, '파일을 읽고 있습니다.')\n",
    "            lines = fread.readlines()\n",
    "            for line in tqdm(lines):\n",
    "                words = okt.pos(line, stem=True, norm=True)\n",
    "                res = [w[0] for w in words if w[1] == \"Noun\" or w[1] == \"Verb\"]\n",
    "                fwrite.write(' '.join(res) + '\\n')\n",
    "# 토큰 파일 불러오는 함수              \n",
    "def read_tokens(file_name):\n",
    "    with open('./tokenized/' + file_name, 'r', encoding='utf-8') as fread:\n",
    "        # 파일 전체를 읽어서 줄바꿈 문자를 제거하고 하나의 문자열로 반환\n",
    "        tokenized = fread.read().replace('\\n', ' ')\n",
    "    \n",
    "    return tokenized"
   ]
  },
  {
   "cell_type": "markdown",
   "id": "3974336c",
   "metadata": {},
   "source": [
    "명사만 추출할 때에는 `okt.nouns()`을 활용해보았지만 소요 시간 차이 크지 않았음"
   ]
  },
  {
   "cell_type": "code",
   "execution_count": 94,
   "id": "344e5e0f",
   "metadata": {},
   "outputs": [
    {
     "name": "stdout",
     "output_type": "stream",
     "text": [
      "['하다', '되다', '자신', '위해', '않다', '이다', '되어다', '싶다', '점점', '때문', '오다', '가다', '과연', '이제', '통해', '시작', '영화', '사람', '모두']\n"
     ]
    }
   ],
   "source": [
    "# 불용어 불러오기\n",
    "with open('./stopwords.txt', 'r', encoding='utf-8') as fread:\n",
    "    stopwords = [line.strip() for line in fread.readlines()]\n",
    "    print(stopwords)"
   ]
  },
  {
   "cell_type": "markdown",
   "id": "37b92e10",
   "metadata": {},
   "source": [
    "stopwords 구성 기준: 모든 데이터셋에서 자주 등장하고, 주제와 관련 없는 단어 선정"
   ]
  },
  {
   "cell_type": "code",
   "execution_count": 95,
   "id": "8c4404e6",
   "metadata": {},
   "outputs": [],
   "source": [
    "# LDA 결과 출력 함수\n",
    "# 각 주제에 대한 단어 분포 출력\n",
    "def print_top_words(model, feature_names, n_top_words):\n",
    "    for topic_idx, topic in enumerate(model.components_):\n",
    "        print(f\"Topic #{topic_idx}:\")\n",
    "        print(\" \".join([feature_names[i] for i in topic.argsort()[:-n_top_words - 1:-1]]))\n",
    "    print()\n",
    "\n",
    "# 각 문서에서 가장 확률이 큰 주제와 그 확률 출력\n",
    "def print_max_topic_for_documents(model, documents):\n",
    "    topic_distribution = model.transform(X)\n",
    "    max_topic_idxs=[]\n",
    "    for i, doc in enumerate(documents):\n",
    "        max_topic_idx = np.argmax(topic_distribution[i])\n",
    "        max_prob = topic_distribution[i, max_topic_idx]\n",
    "        print(f\"Document #{i}:\")\n",
    "        print(f\"Max Probability Topic: {max_topic_idx}, Probability: {max_prob:.4f}\")\n",
    "        print()\n",
    "        max_topic_idxs.append(max_topic_idx)\n",
    "    return max_topic_idxs\n",
    "        \n",
    "        \n",
    "def get_topic_words(model, topic_idx, feature_names, n_top_words):\n",
    "    topic_word_distribution = model.components_[topic_idx]\n",
    "    top_word_indices = topic_word_distribution.argsort()[:-n_top_words-1:-1]\n",
    "    top_words = [feature_names[i] for i in top_word_indices]\n",
    "    top_word_probs = [topic_word_distribution[i] for i in top_word_indices]\n",
    "    return top_words"
   ]
  },
  {
   "cell_type": "markdown",
   "id": "79f24069",
   "metadata": {},
   "source": [
    "### target 단어 추출"
   ]
  },
  {
   "cell_type": "code",
   "execution_count": 96,
   "id": "b2230198",
   "metadata": {},
   "outputs": [],
   "source": [
    "# target 데이터 불러오기\n",
    "art_txt = 'synopsis_art.txt'\n",
    "gen_txt = 'synopsis_gen.txt'\n",
    "# 품사에 따라 바꾸기\n",
    "output_art_txt = 'synopsis_art_nouns.txt'\n",
    "output_gen_txt = 'synopsis_gen_nouns.txt'\n",
    "\n",
    "'''\n",
    "save_tokens(art_txt, output_art_txt)\n",
    "save_tokens(gen_txt, output_gen_txt)\n",
    "'''\n",
    "\n",
    "art=read_tokens(output_art_txt)\n",
    "gen=read_tokens(output_gen_txt)"
   ]
  },
  {
   "cell_type": "code",
   "execution_count": 97,
   "id": "3c17e0aa",
   "metadata": {},
   "outputs": [],
   "source": [
    "# 벡터화, 불용어 제거\n",
    "vec_type = 'tfidf'\n",
    "\n",
    "# TF-IDF\n",
    "if vec_type=='tfidf':\n",
    "    vectorizer = TfidfVectorizer(stop_words=stopwords)\n",
    "# DTM\n",
    "elif vec_type=='dtm':\n",
    "    vectorizer = CountVectorizer(stop_words=stopwords)\n",
    "    \n",
    "X = vectorizer.fit_transform([art,gen])"
   ]
  },
  {
   "cell_type": "code",
   "execution_count": 98,
   "id": "6c76f308",
   "metadata": {},
   "outputs": [
    {
     "name": "stdout",
     "output_type": "stream",
     "text": [
      "예술영화를 대표하는 단어들:\n",
      "그녀, 사랑, 친구, 남자, 가족, 이야기, 마을, 사건, 마음, 세상, 아버지, 아이, 엄마, 모든, 여자, 대한, 서로, 다시, 시간, 아들, 소녀, 아내, 다른, 사이, 영화제, 세계, 사실, 하나, 남편, 감독, 여행, 인생, 발견, 순간, 우리, 가장, 마지막, 생활, 아빠, 모습, 죽음, 기억, 비밀, 학교, 음악, 한편, 소년, 생각, 도시, 명의, 사고, 결혼, 전쟁, 위기, 최고, 이자, 과거, 일상, 경찰, 상황, 간다, 미국, 결심, 운명, 현실, 관계, 지금, 단편, 여인, 하루, 이름, 이후, 준비, 인간, 감정, 만난, 국제, 처음, 충격, 살인, 누구, 동안, 존재, 그린, 어머니, 연인, 계속, 동생, 작품, 청년, 한국, 가지, 상처, 할머니, 목숨, 이상, 희망, 계획, 매력, 프랑스, \n",
      "\n",
      "일반영화를 대표하는 단어들:\n",
      "그녀, 영화제, 국제, 친구, 사랑, 남자, 이야기, 대한, 서울, 여자, 사건, 남편, 아이, 가족, 아버지, 다른, 마을, 시간, 엄마, 아들, 모든, 단편, 마음, 사실, 다시, 세계, 모습, 작품, 생각, 서로, 세상, 발견, 감독, 아내, 관계, 소녀, 사이, 하나, 우리, 애니메이션, 여성, 죽음, 인간, 생활, 한편, 결혼, 상황, 기억, 명의, 소년, 여행, 가장, 간다, 순간, 도시, 비밀, 학교, 과거, 가지, 이자, 경찰, 마지막, 미국, 동안, 전쟁, 주인공, 대해, 존재, 현실, 연출, 사고, 살인, 일상, 어머니, 계속, 사회, 인생, 다큐멘터리, 부문, 섹스, 최고, 바로, 동생, 의도, 하루, 위기, 계획, 정체, 한국, 이후, 조직, 회사, 보고, 부산, 아빠, 부부, 일본, 문제, 처음, 그것, "
     ]
    }
   ],
   "source": [
    "m1 = X[0].tocoo()   # sparse matrix를 가져오기\n",
    "m2 = X[1].tocoo()   # sparse matrix를 가져오기\n",
    "\n",
    "w1 = [[i, j] for i, j in zip(m1.col, m1.data)]\n",
    "w2 = [[i, j] for i, j in zip(m2.col, m2.data)]\n",
    "\n",
    "w1.sort(key=lambda x: x[1], reverse=True)   #art를 구성하는 단어들을 높은 순으로 정렬\n",
    "w2.sort(key=lambda x: x[1], reverse=True)   #gen을 구성하는 단어들을 높은 순으로 정렬 \n",
    "\n",
    "w1_, w2_ = [], []\n",
    "print('예술영화를 대표하는 단어들:')\n",
    "for i in range(100):\n",
    "    word = vectorizer.get_feature_names()[w1[i][0]]\n",
    "    print(word, end=', ')\n",
    "    w1_.append(word)\n",
    "\n",
    "print('\\n')\n",
    "    \n",
    "print('일반영화를 대표하는 단어들:')\n",
    "for i in range(100):\n",
    "    word = vectorizer.get_feature_names()[w2[i][0]]\n",
    "    print(word, end=', ')\n",
    "    w2_.append(word)"
   ]
  },
  {
   "cell_type": "markdown",
   "id": "5357b88f",
   "metadata": {},
   "source": [
    "> Q. 왜 두 문서 사이에 중복값이 많을까?(하다, 되다, 그녀, 자신, 위해 등)  \n",
    "> A. 둘 다 영화를 다루고 있으므로 공통된 어휘가 많이 사용됨. 또한 현재 문서가 2개만 존재하므로 단어 간의 IDF 값 차이가 적어져 TF 값이 TF-IDF 값에 영향을 끼치는 정도가 커짐"
   ]
  },
  {
   "cell_type": "markdown",
   "id": "d73238d8",
   "metadata": {},
   "source": [
    "#### TF-IDF/DTM 그대로 활용"
   ]
  },
  {
   "cell_type": "code",
   "execution_count": 99,
   "id": "0df18c7b",
   "metadata": {},
   "outputs": [],
   "source": [
    "# 중복 제거\n",
    "n = 15\n",
    "duplicated = set()\n",
    "# w1에만 있고 w2에는 없는, 예술영화를 잘 대표하는 단어를 15개 추출한다.\n",
    "target_art, target_gen = [], []\n",
    "for i in range(100):\n",
    "    if (w1_[i] not in w2_) and (w1_[i] in model.wv): target_art.append(w1_[i])\n",
    "    else: duplicated.add(w1_[i])\n",
    "    if len(target_art) == n: break \n",
    "\n",
    "# w2에만 있고 w1에는 없는, 일반영화를 잘 대표하는 단어를 15개 추출한다.\n",
    "for i in range(100):\n",
    "    if (w2_[i] not in w1_) and (w2_[i] in model.wv): target_gen.append(w2_[i])\n",
    "    else: duplicated.add(w2_[i])\n",
    "    if len(target_gen) == n: break"
   ]
  },
  {
   "cell_type": "code",
   "execution_count": 100,
   "id": "9b2b0510",
   "metadata": {},
   "outputs": [
    {
     "name": "stdout",
     "output_type": "stream",
     "text": [
      "예술영화를 대표하는 단어들:\n",
      "음악, 결심, 운명, 지금, 여인, 이름, 준비, 감정, 만난, 충격, 누구, 그린, 연인, 청년, 상처, \n",
      "\n",
      "일반영화를 대표하는 단어들:\n",
      "서울, 애니메이션, 여성, 주인공, 대해, 연출, 사회, 다큐멘터리, 부문, 섹스, 바로, 의도, 정체, 조직, 회사, "
     ]
    }
   ],
   "source": [
    "print('예술영화를 대표하는 단어들:')\n",
    "for word in target_art:\n",
    "    print(word, end=', ')\n",
    "\n",
    "print('\\n')\n",
    "    \n",
    "print('일반영화를 대표하는 단어들:')\n",
    "for word in target_gen:\n",
    "    print(word, end=', ')"
   ]
  },
  {
   "cell_type": "markdown",
   "id": "cbeb99c1",
   "metadata": {},
   "source": [
    "#### LDA 적용"
   ]
  },
  {
   "cell_type": "code",
   "execution_count": 88,
   "id": "3cc47db9",
   "metadata": {},
   "outputs": [],
   "source": [
    "# 중복 단어 불용어 리스트에 추가해서 벡터화\n",
    "lda_stopwords = stopwords + list(duplicated)\n",
    "# TF-IDF\n",
    "tfidf_vectorizer = TfidfVectorizer(stop_words=lda_stopwords)\n",
    "    \n",
    "X = tfidf_vectorizer.fit_transform([art,gen])"
   ]
  },
  {
   "cell_type": "code",
   "execution_count": 89,
   "id": "2efb0294",
   "metadata": {},
   "outputs": [
    {
     "data": {
      "text/plain": [
       "['하다',\n",
       " '되다',\n",
       " '자신',\n",
       " '위해',\n",
       " '않다',\n",
       " '이다',\n",
       " '되어다',\n",
       " '싶다',\n",
       " '점점',\n",
       " '때문',\n",
       " '오다',\n",
       " '가다',\n",
       " '과연',\n",
       " '이제',\n",
       " '통해',\n",
       " '시작',\n",
       " '영화',\n",
       " '사람',\n",
       " '모두',\n",
       " '아빠',\n",
       " '순간',\n",
       " '사실',\n",
       " '가장',\n",
       " '소년',\n",
       " '미국',\n",
       " '서로',\n",
       " '발견',\n",
       " '마지막',\n",
       " '작품',\n",
       " '단편',\n",
       " '남편',\n",
       " '이후',\n",
       " '위기',\n",
       " '가족',\n",
       " '모든',\n",
       " '다시',\n",
       " '일상',\n",
       " '생활',\n",
       " '소녀',\n",
       " '사랑',\n",
       " '죽음',\n",
       " '사고',\n",
       " '생각',\n",
       " '친구',\n",
       " '하루',\n",
       " '마을',\n",
       " '비밀',\n",
       " '전쟁',\n",
       " '이자',\n",
       " '국제',\n",
       " '결혼',\n",
       " '계속',\n",
       " '감독',\n",
       " '경찰',\n",
       " '시간',\n",
       " '인간',\n",
       " '학교',\n",
       " '하나',\n",
       " '사이',\n",
       " '여행',\n",
       " '과거',\n",
       " '관계',\n",
       " '대한',\n",
       " '마음',\n",
       " '어머니',\n",
       " '아이',\n",
       " '세계',\n",
       " '아들',\n",
       " '가지',\n",
       " '살인',\n",
       " '기억',\n",
       " '영화제',\n",
       " '동생',\n",
       " '이야기',\n",
       " '모습',\n",
       " '처음',\n",
       " '남자',\n",
       " '인생',\n",
       " '여자',\n",
       " '명의',\n",
       " '사건',\n",
       " '한국',\n",
       " '세상',\n",
       " '동안',\n",
       " '최고',\n",
       " '한편',\n",
       " '다른',\n",
       " '현실',\n",
       " '그녀',\n",
       " '아버지',\n",
       " '도시',\n",
       " '엄마',\n",
       " '아내',\n",
       " '계획',\n",
       " '우리',\n",
       " '상황',\n",
       " '존재',\n",
       " '간다']"
      ]
     },
     "execution_count": 89,
     "metadata": {},
     "output_type": "execute_result"
    }
   ],
   "source": [
    "lda_stopwords"
   ]
  },
  {
   "cell_type": "code",
   "execution_count": 90,
   "id": "31142de7",
   "metadata": {},
   "outputs": [
    {
     "data": {
      "text/plain": [
       "(2, 41008)"
      ]
     },
     "execution_count": 90,
     "metadata": {},
     "output_type": "execute_result"
    }
   ],
   "source": [
    "X.shape"
   ]
  },
  {
   "cell_type": "code",
   "execution_count": 91,
   "id": "ec529223",
   "metadata": {},
   "outputs": [
    {
     "data": {
      "text/plain": [
       "array([[0.00176621, 0.98410411, 0.00176621, 0.00176621, 0.00176621,\n",
       "        0.00176621, 0.00176621, 0.00176621, 0.00176621, 0.00176621],\n",
       "       [0.00172612, 0.98446489, 0.00172612, 0.00172612, 0.00172612,\n",
       "        0.00172612, 0.00172612, 0.00172613, 0.00172613, 0.00172613]])"
      ]
     },
     "execution_count": 91,
     "metadata": {},
     "output_type": "execute_result"
    }
   ],
   "source": [
    "# LDA\n",
    "from sklearn.decomposition import LatentDirichletAllocation\n",
    "\n",
    "lda_model = LatentDirichletAllocation(n_components=10, \n",
    "                                      learning_method='online', \n",
    "                                      random_state=777, \n",
    "                                      max_iter=10)\n",
    "\n",
    "lda_model.fit_transform(X)"
   ]
  },
  {
   "cell_type": "code",
   "execution_count": 92,
   "id": "36eb10e1",
   "metadata": {},
   "outputs": [
    {
     "name": "stdout",
     "output_type": "stream",
     "text": [
      "Topics in LDA model:\n",
      "Topic #0:\n",
      "클린턴 강혁 한페이 키플링 에스프레소 에리크 혹시 토산 정장 갈수록 메소포타미아 들락 유동근 대리석 리카도 박사 테리야키 별미 조잡 깃털 아네모네 마퀴스 각성 신동미 태수 쿠온 종결 세인 러브송 라이터\n",
      "Topic #1:\n",
      "서브 우즈베키스탄 여관 은표 정율성 호쾌 대학가요제 막상 앞가림 이단옆차기 즉흥연주 소녀 그리기 시실리 결손 로맨틱코미디 일기도 막셀 축해 대서 문성근 병조참판 고무 제다이 변수 무속인 연무대 애론 감자 게이트\n",
      "Topic #2:\n",
      "벨라도나 꼭두 정어리 경찰관 치외법권 옐키 의무경찰 군첼 셴젠 한의원 무척 슬러그 흑해 가결 날개 대통령선거 이북 정세희 승부조작 폐쇄병원 화련 상과 서푼 꾸르베 추천 시리 몬테카를로 아타루 흥부전 보헤미언\n",
      "Topic #3:\n",
      "조승우 연구기관 굿맨 리틀 어니스트 하류 카베 이영애 제조업체 삽시간 쪽잠 갓길 김영남 밀페된 위생 방만 하도급 트럭운전사 눈곱 카탈로그 보나뻬띠 칼리지 안미나 걸스 교육청 재쉬 아낙네 머큐리 하천 전용\n",
      "Topic #4:\n",
      "대림 키타 중요성 주체사상 현행범 무당산 밀수 울렁증 공연 임기 비정상 막스 반라 전편 가루타 로즈왈드 독수리 사칭 여인숙 구명회 음악학자 멘트 가변 사뮈 이력 쥐라기 불친절 공군 노포동 민소매\n",
      "Topic #5:\n",
      "재아 약육강식 도린 지혜롭 아틀란타 뤄산얼 제철소 오천만 미시간주 뒷이야기 리테쉬 난폭운전 민친현 자두 컨트롤러 부패커넥션 레온 사미족 퀸즈 왕권강화 래그 좌석 양성애 틱낫한 일천 정현우 탐엣더팜 구덩이 석궁 꿀꿀이\n",
      "Topic #6:\n",
      "세린 촬영상 의무 고야상 투표소 자탄 지기 위쯔 피오르 김꽃비 인드렉 결정화 이니셔티브 반대파 김자옥 이승헌 민범 민스트렐 옥편 회포 조성 아빌라 구내식당 뇌우 차려 모씨 최희정 파르셀 선학생 이위\n",
      "Topic #7:\n",
      "양심선언 평화로움 말리 한구 엉킨 판별 스먀오 머셜 강문 트위들디 병리학 주차 헐벗 이기주의 타협 순수 타칭 정장 반려자 에티엔느 공정 트위그 농포 취향 왕가위 그간 적응 네필 생명복제 에센\n",
      "Topic #8:\n",
      "캐트럴 공금 대세 거란 결항 전방 인격장애 카투사 명화 진대 중주 셀렉 굿윌 탈고 프랜드 발키리 도플러 고문 국장 패리 어째 모처럼 최고급 두둥 콜튼 혈혈 아틀리에 패기 일본장기 막도\n",
      "Topic #9:\n",
      "쇼군 유리나 리엘 황태자비 만담 강쇠 옹달샘 화청 동연 브란도 동강 센터 색감 빛깔 분통 템비 따돌림 유진희 부르주아 불기둥 피그스 해철 야산 아트디렉터 올림피아 라인 엘레 삽입곡 터주 철책\n",
      "\n",
      "Document-Topic Distributions:\n",
      "Document #0:\n",
      "Max Probability Topic: 1, Probability: 0.9841\n",
      "\n",
      "Document #1:\n",
      "Max Probability Topic: 1, Probability: 0.9845\n",
      "\n"
     ]
    }
   ],
   "source": [
    "# LDA의 결과 토픽과 각 단어의 비중을 출력\n",
    "n_top_words = 30\n",
    "tf_feature_names = vectorizer.get_feature_names_out()\n",
    "\n",
    "print(\"Topics in LDA model:\")\n",
    "print_top_words(lda_model, tf_feature_names, n_top_words)\n",
    "\n",
    "print(\"Document-Topic Distributions:\")\n",
    "documents = [art, gen]\n",
    "max_topic_idxs = print_max_topic_for_documents(lda_model, documents)"
   ]
  },
  {
   "cell_type": "markdown",
   "id": "9c624845",
   "metadata": {},
   "source": [
    "중복 단어를 제거해도 문서에 같은 주제가 할당되는 문제는 해결되지 않음 -> LDA 사용 안 함"
   ]
  },
  {
   "cell_type": "code",
   "execution_count": null,
   "id": "6812a5ed",
   "metadata": {},
   "outputs": [],
   "source": [
    "target_art = get_topic_words(lda_model, max_topic_idxs[0], tf_feature_names, 15)\n",
    "target_gen = get_topic_words(lda_model, max_topic_idxs[1], tf_feature_names, 15)"
   ]
  },
  {
   "cell_type": "markdown",
   "id": "ab898480",
   "metadata": {},
   "source": [
    "### attribute 단어 추출 "
   ]
  },
  {
   "cell_type": "code",
   "execution_count": 101,
   "id": "3f031ffe",
   "metadata": {},
   "outputs": [],
   "source": [
    "#파일 불러와서 TF-IDF 생성\n",
    "genre_txt = ['synopsis_SF.txt', 'synopsis_family.txt', 'synopsis_show.txt', 'synopsis_horror.txt', 'synopsis_etc.txt', \n",
    "             'synopsis_documentary.txt', 'synopsis_drama.txt', 'synopsis_romance.txt', 'synopsis_musical.txt', \n",
    "             'synopsis_mystery.txt', 'synopsis_crime.txt', 'synopsis_historical.txt', 'synopsis_western.txt', \n",
    "             'synopsis_adult.txt', 'synopsis_thriller.txt', 'synopsis_animation.txt', 'synopsis_action.txt', \n",
    "             'synopsis_adventure.txt', 'synopsis_war.txt', 'synopsis_comedy.txt', 'synopsis_fantasy.txt']\n",
    "genre_name = ['SF', '가족', '공연', '공포(호러)', '기타', '다큐멘터리', '드라마', '멜로로맨스', '뮤지컬', '미스터리', '범죄', '사극', '서부극(웨스턴)',\n",
    "         '성인물(에로)', '스릴러', '애니메이션', '액션', '어드벤처', '전쟁', '코미디', '판타지']\n",
    "# 품사에 따라 바꾸기\n",
    "output_genre_txt = [txt.strip('.txt')+'_nouns.txt' for txt in genre_txt]\n",
    "\n",
    "genre = []\n",
    "for file_name, output_file_name in zip(genre_txt, output_genre_txt):\n",
    "    #save_tokens(file_name, output_file_name)\n",
    "    genre.append(read_tokens(output_file_name))"
   ]
  },
  {
   "cell_type": "code",
   "execution_count": 102,
   "id": "ed733dff",
   "metadata": {},
   "outputs": [],
   "source": [
    "# 벡터화, 불용어 제거\n",
    "# TF-IDF\n",
    "if vec_type=='tfidf':\n",
    "    vectorizer = TfidfVectorizer(stop_words=stopwords)\n",
    "# DTM\n",
    "elif vec_type=='dtm':\n",
    "    vectorizer = CountVectorizer(stop_words=stopwords)\n",
    "X = vectorizer.fit_transform(genre)"
   ]
  },
  {
   "cell_type": "markdown",
   "id": "8619841f",
   "metadata": {},
   "source": [
    "#### TF-IDF/DTM 그대로 사용"
   ]
  },
  {
   "cell_type": "code",
   "execution_count": 103,
   "id": "0d32caf5",
   "metadata": {},
   "outputs": [
    {
     "name": "stdout",
     "output_type": "stream",
     "text": [
      "SF: 지구, 인류, 인간, 미래, 우주, 그녀, 로봇, 세계, 모든, 박사, 우주선, 외계, 존재, 세상, 발견, \n",
      "가족: 엄마, 아빠, 가족, 영화제, 친구, 아주르, 아버지, 그녀, 아들, 마을, 국제, 낙타, 할머니, 씨제이, 동구, \n",
      "공연: 오페라, 사랑, 토스카, 실황, 올레, 카바, 그녀, 공연, 오텔로, 리골레토, 백작, 프레, 베르디, 카르피, 비바, \n",
      "공포(호러): 친구, 그녀, 사건, 공포, 발견, 죽음, 마을, 가족, 악령, 남자, 좀비, 사실, 소녀, 하나, 살인, \n",
      "기타: 영화제, 국제, 서울, 단편, 이야기, 그녀, 남자, 사랑, 뉴미디어, 페스티벌, 여자, 대한, 독립, 친구, 작품, \n",
      "다큐멘터리: 영화제, 다큐, 국제, 다큐멘터리, 이야기, 대한, 감독, 서울, 우리, 세계, 그녀, 여성, 가족, 한국, 작품, \n",
      "드라마: 영화제, 그녀, 사랑, 국제, 남자, 친구, 이야기, 엄마, 여자, 아버지, 가족, 단편, 서울, 대한, 아들, \n",
      "멜로로맨스: 그녀, 사랑, 남편, 남자, 여자, 친구, 섹스, 마음, 결혼, 서로, 아내, 관계, 부부, 엄마, 아버지, \n",
      "뮤지컬: 뮤지컬, 사랑, 에스메랄다, 그녀, 음악, 충무로, 모차르트, 토스카, 니웨, 카바, 영화제, 바흐, 페뷔스, 프롤, 모도, \n",
      "미스터리: 사건, 그녀, 발견, 사고, 진실, 죽음, 기억, 살인, 친구, 아내, 남자, 아이, 민혁, 사실, 의문, \n",
      "범죄: 사건, 경찰, 그녀, 범죄, 조직, 살인, 마약, 형사, 남자, 모든, 살해, 수사, 발견, 한길수, 범인, \n",
      "사극: 조선, 신기전, 사랑, 아가멤논, 황제, 그녀, 루안, 최고, 운명, 하선, 전쟁, 윤서, 트로이, 세자, 허균, \n",
      "서부극(웨스턴): 서부, 보안관, 벌린, 카우보이, 그레이프바인, 헨리, 마을, 개릿, 아이, 무법자, 프린트, 마적, 태구, 현상금, 분노, \n",
      "성인물(에로): 그녀, 남편, 마사지, 섹스, 관계, 정사, 남자, 여자, 유부녀, 마음, 사랑, 에피소드, 그린, 아내, 다시, \n",
      "스릴러: 그녀, 사건, 살인, 남자, 발견, 아내, 경찰, 친구, 모든, 사실, 살해, 가족, 형사, 비밀, 사랑, \n",
      "애니메이션: 애니메이션, 국제, 영화제, 친구, 인디애니페스트, 페스티벌, 서울, 이야기, 아이, 마을, 소녀, 세계, 세상, 애니, 단편, \n",
      "액션: 조직, 사건, 그녀, 경찰, 전쟁, 모든, 목숨, 사실, 친구, 가족, 요원, 임무, 범죄, 세계, 살인, \n",
      "어드벤처: 친구, 마을, 아버지, 아이, 여행, 세계, 앤트, 세상, 가족, 모험, 비밀, 대한, 이야기, 모든, 소년, \n",
      "전쟁: 전쟁, 독일군, 전투, 작전, 부대, 윈터스, 독일, 연합군, 미군, 임무, 나치, 병사, 공격, 이지중대, 혁리, \n",
      "코미디: 그녀, 사랑, 친구, 남자, 여자, 영화제, 가족, 마을, 사건, 이야기, 인생, 아이, 아버지, 마음, 모든, \n",
      "판타지: 그녀, 사랑, 요괴, 영화제, 이야기, 소녀, 남자, 인간, 세상, 마을, 세계, 국제, 마법, 알렉스, 존재, \n"
     ]
    }
   ],
   "source": [
    "m = [X[i].tocoo() for i in range(X.shape[0])]\n",
    "\n",
    "w = [[[i, j] for i, j in zip(mm.col, mm.data)] for mm in m]\n",
    "\n",
    "for i in range(len(w)):\n",
    "    w[i].sort(key=lambda x: x[1], reverse=True)\n",
    "\n",
    "attributes = []\n",
    "for i in range(len(w)):\n",
    "    print(genre_name[i], end=': ')\n",
    "    attr = []\n",
    "    j = 0\n",
    "    while (len(attr) < 15):\n",
    "        if vectorizer.get_feature_names()[w[i][j][0]] in model.wv:\n",
    "            attr.append(vectorizer.get_feature_names()[w[i][j][0]])\n",
    "            print(vectorizer.get_feature_names()[w[i][j][0]], end=', ')\n",
    "        j += 1\n",
    "    attributes.append(attr)\n",
    "    print()"
   ]
  },
  {
   "cell_type": "markdown",
   "id": "8f374180",
   "metadata": {},
   "source": [
    "#### LDA 적용"
   ]
  },
  {
   "cell_type": "code",
   "execution_count": null,
   "id": "fd88cc72",
   "metadata": {},
   "outputs": [],
   "source": [
    "# LDA\n",
    "lda_model = LatentDirichletAllocation(n_components=50, \n",
    "                                      learning_method='online', \n",
    "                                      random_state=777, \n",
    "                                      max_iter=10,\n",
    "                                     doc_topic_prior=0.1)\n",
    "# 주제 간 중복 줄이기 위해 topic_word_prior 조정 가능\n",
    "# 문서 간 주제 중복 줄이기 위해 doc_topic_prior 조정 가능\n",
    "\n",
    "lda_model.fit_transform(X)"
   ]
  },
  {
   "cell_type": "code",
   "execution_count": null,
   "id": "c1c47d0a",
   "metadata": {},
   "outputs": [],
   "source": [
    "# LDA의 결과 토픽과 각 단어의 비중을 출력\n",
    "n_top_words = 15\n",
    "tf_feature_names = vectorizer.get_feature_names_out()\n",
    "\n",
    "print(\"Topics in LDA model:\")\n",
    "print_top_words(lda_model, tf_feature_names, n_top_words)\n",
    "\n",
    "print(\"Max Probability Topic for Each Document:\")\n",
    "documents = genre\n",
    "max_topic_idxs = print_max_topic_for_documents(lda_model, documents)"
   ]
  },
  {
   "cell_type": "code",
   "execution_count": null,
   "id": "8c6020f5",
   "metadata": {},
   "outputs": [],
   "source": [
    "attributes=[]\n",
    "for i in range(len(genre_)):\n",
    "    attributes.append(get_topic_words(lda_model, max_topic_idxs[i], tf_feature_names, 15))"
   ]
  },
  {
   "cell_type": "markdown",
   "id": "b9c12e16",
   "metadata": {},
   "source": [
    "## STEP 4. WEAT score 계산과 시각화"
   ]
  },
  {
   "cell_type": "code",
   "execution_count": 104,
   "id": "78cdd429",
   "metadata": {},
   "outputs": [],
   "source": [
    "from numpy import dot\n",
    "from numpy.linalg import norm\n",
    "# WEAT score function\n",
    "def cos_sim(i, j):\n",
    "    return dot(i, j.T)/(norm(i)*norm(j))\n",
    "def s(w, A, B):\n",
    "    c_a = cos_sim(w, A)\n",
    "    c_b = cos_sim(w, B)\n",
    "    mean_A = np.mean(c_a, axis=-1)\n",
    "    mean_B = np.mean(c_b, axis=-1)\n",
    "    return mean_A - mean_B #, c_a, c_b\n",
    "def weat_score(X, Y, A, B):    \n",
    "    s_X = s(X, A, B)\n",
    "    s_Y = s(Y, A, B)\n",
    "\n",
    "    mean_X = np.mean(s_X)\n",
    "    mean_Y = np.mean(s_Y)\n",
    "    \n",
    "    std_dev = np.std(np.concatenate([s_X, s_Y], axis=0))\n",
    "    \n",
    "    return  (mean_X-mean_Y)/std_dev"
   ]
  },
  {
   "cell_type": "code",
   "execution_count": 105,
   "id": "4ed05fed",
   "metadata": {},
   "outputs": [
    {
     "name": "stdout",
     "output_type": "stream",
     "text": [
      "SF 가족 -0.53150725\n",
      "SF 공연 -0.3741411\n",
      "SF 공포(호러) -0.6745052\n",
      "SF 기타 0.0978527\n",
      "SF 다큐멘터리 0.33839515\n",
      "SF 드라마 -0.48161277\n",
      "SF 멜로로맨스 -0.8324336\n",
      "SF 뮤지컬 0.041505575\n",
      "SF 미스터리 -0.65147555\n",
      "SF 범죄 0.031059926\n",
      "SF 사극 -0.638535\n",
      "SF 서부극(웨스턴) -0.3227293\n",
      "SF 성인물(에로) -0.6740359\n",
      "SF 스릴러 -0.51695967\n",
      "SF 애니메이션 0.2883604\n",
      "SF 액션 -0.11773561\n",
      "SF 어드벤처 -1.0487992\n",
      "SF 전쟁 0.5109637\n",
      "SF 코미디 -0.73389447\n",
      "SF 판타지 -0.41827908\n",
      "가족 공연 0.22990453\n",
      "가족 공포(호러) -0.099937126\n",
      "가족 기타 0.70095116\n",
      "가족 다큐멘터리 0.7739525\n",
      "가족 드라마 0.0683443\n",
      "가족 멜로로맨스 -0.79482913\n",
      "가족 뮤지컬 0.7491461\n",
      "가족 미스터리 -0.22383226\n",
      "가족 범죄 0.49459463\n",
      "가족 사극 0.048398163\n",
      "가족 서부극(웨스턴) 0.70755816\n",
      "가족 성인물(에로) -0.54214656\n",
      "가족 스릴러 -0.09127344\n",
      "가족 애니메이션 0.83815926\n",
      "가족 액션 0.46017346\n",
      "가족 어드벤처 -0.37564352\n",
      "가족 전쟁 0.86685187\n",
      "가족 코미디 -0.33659032\n",
      "가족 판타지 0.38848364\n",
      "공연 공포(호러) -0.20096704\n",
      "공연 기타 0.78022087\n",
      "공연 다큐멘터리 0.7586542\n",
      "공연 드라마 -0.22273427\n",
      "공연 멜로로맨스 -0.8388777\n",
      "공연 뮤지컬 0.9807199\n",
      "공연 미스터리 -0.28914705\n",
      "공연 범죄 0.34854808\n",
      "공연 사극 -0.2561163\n",
      "공연 서부극(웨스턴) 0.24222052\n",
      "공연 성인물(에로) -0.6712176\n",
      "공연 스릴러 -0.18749203\n",
      "공연 애니메이션 0.84167475\n",
      "공연 액션 0.28469178\n",
      "공연 어드벤처 -0.4391778\n",
      "공연 전쟁 0.8050296\n",
      "공연 코미디 -0.44838214\n",
      "공연 판타지 0.19778943\n",
      "공포(호러) 기타 0.52147126\n",
      "공포(호러) 다큐멘터리 0.6363745\n",
      "공포(호러) 드라마 0.12571809\n",
      "공포(호러) 멜로로맨스 -0.77063406\n",
      "공포(호러) 뮤지컬 0.5040595\n",
      "공포(호러) 미스터리 -0.44021505\n",
      "공포(호러) 범죄 0.8355637\n",
      "공포(호러) 사극 0.13316521\n",
      "공포(호러) 서부극(웨스턴) 0.54808265\n",
      "공포(호러) 성인물(에로) -0.48953766\n",
      "공포(호러) 스릴러 -0.015223243\n",
      "공포(호러) 애니메이션 0.6197902\n",
      "공포(호러) 액션 0.7708478\n",
      "공포(호러) 어드벤처 -0.215563\n",
      "공포(호러) 전쟁 0.7982861\n",
      "공포(호러) 코미디 -0.14225724\n",
      "공포(호러) 판타지 0.39426744\n",
      "기타 다큐멘터리 0.5087798\n",
      "기타 드라마 -0.96872324\n",
      "기타 멜로로맨스 -0.9119832\n",
      "기타 뮤지컬 -0.2533214\n",
      "기타 미스터리 -0.53817976\n",
      "기타 범죄 -0.049169682\n",
      "기타 사극 -0.68792117\n",
      "기타 서부극(웨스턴) -0.37286723\n",
      "기타 성인물(에로) -0.8274087\n",
      "기타 스릴러 -0.45523548\n",
      "기타 애니메이션 0.5447714\n",
      "기타 액션 -0.14793336\n",
      "기타 어드벤처 -0.84414256\n",
      "기타 전쟁 0.2993109\n",
      "기타 코미디 -0.81023896\n",
      "기타 판타지 -0.5825693\n",
      "다큐멘터리 드라마 -0.9271684\n",
      "다큐멘터리 멜로로맨스 -0.8970205\n",
      "다큐멘터리 뮤지컬 -0.52605367\n",
      "다큐멘터리 미스터리 -0.6305473\n",
      "다큐멘터리 범죄 -0.19381854\n",
      "다큐멘터리 사극 -0.76786804\n",
      "다큐멘터리 서부극(웨스턴) -0.53022677\n",
      "다큐멘터리 성인물(에로) -0.81355244\n",
      "다큐멘터리 스릴러 -0.5444061\n",
      "다큐멘터리 애니메이션 -0.13970384\n",
      "다큐멘터리 액션 -0.30393332\n",
      "다큐멘터리 어드벤처 -1.0120281\n",
      "다큐멘터리 전쟁 0.07706287\n",
      "다큐멘터리 코미디 -0.8687832\n",
      "다큐멘터리 판타지 -0.79849076\n",
      "드라마 멜로로맨스 -0.82115334\n",
      "드라마 뮤지컬 0.95234716\n",
      "드라마 미스터리 -0.23358928\n",
      "드라마 범죄 0.41634062\n",
      "드라마 사극 -0.005225194\n",
      "드라마 서부극(웨스턴) 0.42717806\n",
      "드라마 성인물(에로) -0.62431765\n",
      "드라마 스릴러 -0.10809426\n",
      "드라마 애니메이션 0.9588092\n",
      "드라마 액션 0.3617497\n",
      "드라마 어드벤처 -0.43568993\n",
      "드라마 전쟁 0.75531465\n",
      "드라마 코미디 -0.46065894\n",
      "드라마 판타지 0.4661335\n",
      "멜로로맨스 뮤지컬 0.9278526\n",
      "멜로로맨스 미스터리 0.71729213\n",
      "멜로로맨스 범죄 1.0802226\n",
      "멜로로맨스 사극 0.7600637\n",
      "멜로로맨스 서부극(웨스턴) 0.9309169\n",
      "멜로로맨스 성인물(에로) 0.8173553\n",
      "멜로로맨스 스릴러 0.8665638\n",
      "멜로로맨스 애니메이션 0.89783424\n",
      "멜로로맨스 액션 0.9818608\n",
      "멜로로맨스 어드벤처 0.53041106\n",
      "멜로로맨스 전쟁 0.9580458\n",
      "멜로로맨스 코미디 0.8204527\n",
      "멜로로맨스 판타지 0.8144946\n",
      "뮤지컬 미스터리 -0.526901\n",
      "뮤지컬 범죄 -0.0054061827\n",
      "뮤지컬 사극 -0.7892713\n",
      "뮤지컬 서부극(웨스턴) -0.3547705\n",
      "뮤지컬 성인물(에로) -0.8214595\n",
      "뮤지컬 스릴러 -0.4448476\n",
      "뮤지컬 애니메이션 0.6244334\n",
      "뮤지컬 액션 -0.111019805\n",
      "뮤지컬 어드벤처 -0.8536256\n",
      "뮤지컬 전쟁 0.4088407\n",
      "뮤지컬 코미디 -0.81997323\n",
      "뮤지컬 판타지 -0.5294462\n",
      "미스터리 범죄 1.0697932\n",
      "미스터리 사극 0.24563678\n",
      "미스터리 서부극(웨스턴) 0.5673578\n",
      "미스터리 성인물(에로) -0.38810945\n",
      "미스터리 스릴러 0.48032704\n",
      "미스터리 애니메이션 0.61156887\n",
      "미스터리 액션 0.8823177\n",
      "미스터리 어드벤처 -0.0017084337\n",
      "미스터리 전쟁 0.7943836\n",
      "미스터리 코미디 0.08489807\n",
      "미스터리 판타지 0.4252588\n",
      "범죄 사극 -0.51290816\n",
      "범죄 서부극(웨스턴) -0.31452966\n",
      "범죄 성인물(에로) -0.8730565\n",
      "범죄 스릴러 -1.233465\n",
      "범죄 애니메이션 0.16731137\n",
      "범죄 액션 -0.33582687\n",
      "범죄 어드벤처 -0.6331184\n",
      "범죄 전쟁 0.41251186\n",
      "범죄 코미디 -0.67191994\n",
      "범죄 판타지 -0.24141565\n",
      "사극 서부극(웨스턴) 0.5726425\n",
      "사극 성인물(에로) -0.54671836\n",
      "사극 스릴러 -0.11995259\n",
      "사극 애니메이션 0.8198741\n",
      "사극 액션 0.5189176\n",
      "사극 어드벤처 -0.4146665\n",
      "사극 전쟁 1.0358868\n",
      "사극 코미디 -0.34298566\n",
      "사극 판타지 0.41835648\n",
      "서부극(웨스턴) 성인물(에로) -0.71684116\n",
      "서부극(웨스턴) 스릴러 -0.43988726\n",
      "서부극(웨스턴) 애니메이션 0.56559855\n",
      "서부극(웨스턴) 액션 0.22129487\n",
      "서부극(웨스턴) 어드벤처 -0.86714023\n",
      "서부극(웨스턴) 전쟁 0.8228094\n",
      "서부극(웨스턴) 코미디 -0.8193348\n",
      "서부극(웨스턴) 판타지 -0.05297386\n",
      "성인물(에로) 스릴러 0.5294107\n",
      "성인물(에로) 애니메이션 0.8094871\n",
      "성인물(에로) 액션 0.7594713\n",
      "성인물(에로) 어드벤처 0.30353028\n",
      "성인물(에로) 전쟁 0.83785236\n",
      "성인물(에로) 코미디 0.5194129\n",
      "성인물(에로) 판타지 0.653548\n",
      "스릴러 애니메이션 0.53584105\n",
      "스릴러 액션 0.8632118\n",
      "스릴러 어드벤처 -0.13291685\n",
      "스릴러 전쟁 0.77132857\n",
      "스릴러 코미디 -0.090886965\n",
      "스릴러 판타지 0.29302773\n",
      "애니메이션 액션 -0.28042045\n",
      "애니메이션 어드벤처 -0.97214586\n",
      "애니메이션 전쟁 0.15510209\n",
      "애니메이션 코미디 -0.8630608\n",
      "애니메이션 판타지 -0.8103414\n",
      "액션 어드벤처 -0.6744392\n",
      "액션 전쟁 0.65265054\n",
      "액션 코미디 -0.6544739\n",
      "액션 판타지 -0.16888362\n",
      "어드벤처 전쟁 0.9356974\n",
      "어드벤처 코미디 0.1501032\n",
      "어드벤처 판타지 1.0475228\n",
      "전쟁 코미디 -0.8602521\n",
      "전쟁 판타지 -0.6671693\n",
      "코미디 판타지 0.7440669\n"
     ]
    }
   ],
   "source": [
    "# embedding model과 단어 셋으로 WEAT score 구해보기\n",
    "matrix = [[0 for _ in range(len(genre_name))] for _ in range(len(genre_name))]\n",
    "X = np.array([model.wv[word] for word in target_art])\n",
    "Y = np.array([model.wv[word] for word in target_gen])\n",
    "\n",
    "for i in range(len(genre_name)-1):\n",
    "    for j in range(i+1, len(genre_name)):\n",
    "        A = np.array([model.wv[word] for word in attributes[i]])\n",
    "        B = np.array([model.wv[word] for word in attributes[j]])\n",
    "        matrix[i][j] = weat_score(X, Y, A, B)\n",
    "        \n",
    "for i in range(len(genre_name)-1):\n",
    "    for j in range(i+1, len(genre_name)):\n",
    "        print(genre_name[i], genre_name[j],matrix[i][j])"
   ]
  },
  {
   "cell_type": "code",
   "execution_count": 106,
   "id": "d87a8706",
   "metadata": {},
   "outputs": [
    {
     "data": {
      "image/png": "[encoded data removed]",
      "text/plain": [
       "<Figure size 1080x936 with 2 Axes>"
      ]
     },
     "metadata": {},
     "output_type": "display_data"
    }
   ],
   "source": [
    "# 시각화\n",
    "import numpy as np\n",
    "import seaborn as sns\n",
    "import matplotlib.pyplot as plt\n",
    "\n",
    "def plot_heatmap(matrix, genre_name, title, save=True):\n",
    "    np.random.seed(0)\n",
    "    # 한글 지원 폰트\n",
    "    sns.set(font='NanumGothic')\n",
    "\n",
    "    # 마이너스 부호 \n",
    "    plt.rcParams['axes.unicode_minus'] = False\n",
    "\n",
    "    fig, ax = plt.subplots(figsize=(15,13))\n",
    "    sns.heatmap(matrix, xticklabels=genre_name, yticklabels=genre_name, annot=True, cmap='RdYlGn_r', ax=ax)\n",
    "\n",
    "    ax.set_title(title, fontsize=20, pad=20)\n",
    "    if save:\n",
    "        plt.savefig('heatmap_'+title+'.png', bbox_inches='tight')\n",
    "\n",
    "    plt.show()\n",
    "    \n",
    "plot_heatmap(matrix, genre_name, 'tfidf', False)"
   ]
  }
 ],
 "metadata": {
  "kernelspec": {
   "display_name": "Python 3 (ipykernel)",
   "language": "python",
   "name": "python3"
  },
  "language_info": {
   "codemirror_mode": {
    "name": "ipython",
    "version": 3
   },
   "file_extension": ".py",
   "mimetype": "text/x-python",
   "name": "python",
   "nbconvert_exporter": "python",
   "pygments_lexer": "ipython3",
   "version": "3.9.7"
  }
 },
 "nbformat": 4,
 "nbformat_minor": 5
}
