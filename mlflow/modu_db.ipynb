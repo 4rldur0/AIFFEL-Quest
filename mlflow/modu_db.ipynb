{
 "cells": [
  {
   "cell_type": "code",
   "execution_count": null,
   "metadata": {},
   "outputs": [],
   "source": [
    "import pymysql\n",
    "conn = pymysql.connect(host='127.0.0.1', port=3305, user='root', password='1234', db='modu_db', charset='utf8')\n",
    "cur = conn.cursor()"
   ]
  },
  {
   "cell_type": "code",
   "execution_count": null,
   "metadata": {},
   "outputs": [],
   "source": [
    "# tbl_users 테이블 생성 SQL 문\n",
    "create_table_sql = \"\"\"\n",
    "CREATE TABLE IF NOT EXISTS tbl_users (\n",
    "    idx INT AUTO_INCREMENT PRIMARY KEY,\n",
    "    user_name VARCHAR(50) NOT NULL,\n",
    "    phone VARCHAR(20) NOT NULL\n",
    ")\n",
    "\"\"\"\n",
    "\n",
    "cur.execute(create_table_sql)\n",
    "conn.commit()"
   ]
  },
  {
   "cell_type": "code",
   "execution_count": null,
   "metadata": {},
   "outputs": [],
   "source": [
    "insert_data_sql = \"\"\"\n",
    "INSERT INTO tbl_users (user_name, phone) VALUES \n",
    "('아이유', '1111'),\n",
    "('홍길도', '2222')\n",
    "\"\"\"\n",
    "\n",
    "cur.execute(insert_data_sql)\n",
    "conn.commit()"
   ]
  },
  {
   "cell_type": "code",
   "execution_count": null,
   "metadata": {},
   "outputs": [],
   "source": [
    "# 데이터 조회\n",
    "sql = 'select * from tbl_users'\n",
    "cur.execute(sql)\n",
    "rows = cur.fetchall()\n",
    "\n",
    "# 결과 출력\n",
    "for row in rows:\n",
    "    print(row)"
   ]
  },
  {
   "cell_type": "code",
   "execution_count": null,
   "metadata": {},
   "outputs": [],
   "source": [
    "columns = cur.description"
   ]
  },
  {
   "cell_type": "code",
   "execution_count": null,
   "metadata": {},
   "outputs": [],
   "source": [
    "col_names = []\n",
    "\n",
    "for col_name in columns:\n",
    "    col_names.append(col_name[0])\n",
    "\n",
    "col_names"
   ]
  },
  {
   "cell_type": "code",
   "execution_count": null,
   "metadata": {},
   "outputs": [],
   "source": [
    "import pandas as pd\n",
    "\n",
    "df = pd.DataFrame(rows, columns=col_names)\n",
    "df"
   ]
  },
  {
   "cell_type": "code",
   "execution_count": null,
   "metadata": {},
   "outputs": [],
   "source": [
    "# 연결 끊기\n",
    "conn.close()"
   ]
  }
 ],
 "metadata": {
  "language_info": {
   "name": "python"
  }
 },
 "nbformat": 4,
 "nbformat_minor": 2
}
